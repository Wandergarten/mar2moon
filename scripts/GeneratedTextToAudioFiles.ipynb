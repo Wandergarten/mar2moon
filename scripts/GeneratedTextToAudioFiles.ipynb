{
 "cells": [
  {
   "cell_type": "code",
   "execution_count": 1,
   "metadata": {},
   "outputs": [],
   "source": [
    "import pandas as pd\n",
    "import numpy as np\n",
    "import re\n",
    "import subprocess"
   ]
  },
  {
   "cell_type": "code",
   "execution_count": null,
   "metadata": {},
   "outputs": [],
   "source": [
    "df = pd.read_excel(\"scripts/Sentiment_Labelling_Altcoin_Daily_210601_to_210611_Batch_1.xlsx\")\n",
    "df.head()"
   ]
  },
  {
   "cell_type": "code",
   "execution_count": 12,
   "metadata": {},
   "outputs": [],
   "source": [
    "folder_path = \"~/School/NLP/Project/mar2moon/Data/labelling/\"\n",
    "podcasts = [(\"altcoin_daily_2021-06-01\", \"https://www.youtube.com/watch?v=oJ5QKtlzXEw\"),\n",
    "                (\"altcoin_daily_2021-06-03\", \"https://www.youtube.com/watch?v=LCZPO1_Hv8s\"),\n",
    "                (\"altcoin_daily_2021-06-04\", \"https://www.youtube.com/watch?v=KmhFit4urTM\"),\n",
    "                (\"altcoin_daily_2021-06-05\", \"https://www.youtube.com/watch?v=mS-Yn3d1lns\"),\n",
    "                (\"altcoin_daily_2021-06-06\", \"https://www.youtube.com/watch?v=NuOqga61-Q8\"),\n",
    "                (\"altcoin_daily_2021-06-07\", \"https://www.youtube.com/watch?v=ZIy-wY-_zR0\"),\n",
    "                (\"altcoin_daily_2021-06-08\", \"https://www.youtube.com/watch?v=4LZIWb5khnw\"),\n",
    "                (\"altcoin_daily_2021-06-09\", \"https://www.youtube.com/watch?v=Z0EHWp4BXxc\"),\n",
    "                (\"altcoin_daily_2021-06-10\", \"https://www.youtube.com/watch?v=lLym-5GZmQg\"),\n",
    "                (\"altcoin_daily_2021-06-11\", \"https://www.youtube.com/watch?v=cOHahp_FoT0\")]"
   ]
  },
  {
   "cell_type": "code",
   "execution_count": 15,
   "metadata": {},
   "outputs": [],
   "source": [
    "for podcast in podcasts:\n",
    "    title, link = podcast\n",
    "    subprocess.call([\n",
    "        \"youtube-dl\", \"-x\", \"--audio-format\", \"wav\",\n",
    "        \"-o\", f\"Data/labelling/{title}.%(ext)s\",\n",
    "        link\n",
    "    ])"
   ]
  },
  {
   "cell_type": "code",
   "execution_count": 18,
   "metadata": {},
   "outputs": [],
   "source": [
    "for idx, row in df.iterrows():\n",
    "    fname = f\"Data/labelling/{row['Podcast_Title']}.wav\"\n",
    "    subprocess.call([\n",
    "        \"ffmpeg\",\n",
    "         \"-ss\",  row[\"Start_Time\"],\n",
    "         \"-to\",  row[\"End_Time\"],\n",
    "         \"-i\", fname,\n",
    "        \"-ar\", \"16000\", #downsample to 16Khz\n",
    "         \"-ac\", \"1\", #stereo -> mono\n",
    "         f\"Data/labelling/output/{row['Podcast_Title']}_{idx}.wav\",\n",
    "    ])"
   ]
  },
  {
   "cell_type": "code",
   "execution_count": 29,
   "metadata": {},
   "outputs": [],
   "source": []
  },
  {
   "cell_type": "code",
   "execution_count": null,
   "metadata": {},
   "outputs": [],
   "source": [
    "data_path = \"C:/Users/Tristan/nlp_project/mar2moon/user/Sentiment_Labelling_Altcoin_Daily_210401_to_210531_Batch_1.xlsx\"\n",
    "\n",
    "df = pd.read_excel(data_path)"
   ]
  },
  {
   "cell_type": "code",
   "execution_count": null,
   "metadata": {},
   "outputs": [],
   "source": [
    "audio_files_folder = \"D:/nlp_project_d/podcast_data/labelling/batch_1_test\"\n",
    "clips_folder = \"D:/nlp_project_d/podcast_data/extracted_clips\"\n",
    "\n",
    "extract_audio_clip_by_sentiment_labelled_data_row(df.iloc[0,:], audio_files_folder, clips_folder, \"test_podcast\", False)"
   ]
  }
 ],
 "metadata": {
  "kernelspec": {
   "display_name": "Python 3",
   "language": "python",
   "name": "python3"
  },
  "language_info": {
   "codemirror_mode": {
    "name": "ipython",
    "version": 3
   },
   "file_extension": ".py",
   "mimetype": "text/x-python",
   "name": "python",
   "nbconvert_exporter": "python",
   "pygments_lexer": "ipython3",
   "version": "3.9.5"
  }
 },
 "nbformat": 4,
 "nbformat_minor": 4
}
