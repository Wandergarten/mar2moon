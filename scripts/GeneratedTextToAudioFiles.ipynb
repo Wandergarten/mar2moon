{
 "cells": [
  {
   "cell_type": "code",
   "execution_count": 10,
   "metadata": {},
   "outputs": [
    {
     "data": {
      "text/html": [
       "<div>\n",
       "<style scoped>\n",
       "    .dataframe tbody tr th:only-of-type {\n",
       "        vertical-align: middle;\n",
       "    }\n",
       "\n",
       "    .dataframe tbody tr th {\n",
       "        vertical-align: top;\n",
       "    }\n",
       "\n",
       "    .dataframe thead th {\n",
       "        text-align: right;\n",
       "    }\n",
       "</style>\n",
       "<table border=\"1\" class=\"dataframe\">\n",
       "  <thead>\n",
       "    <tr style=\"text-align: right;\">\n",
       "      <th></th>\n",
       "      <th>Podcast_Title</th>\n",
       "      <th>Start_Time</th>\n",
       "      <th>End_Time</th>\n",
       "      <th>Text</th>\n",
       "      <th>Coin</th>\n",
       "      <th>Sentiment</th>\n",
       "    </tr>\n",
       "  </thead>\n",
       "  <tbody>\n",
       "    <tr>\n",
       "      <th>0</th>\n",
       "      <td>altcoin_daily_2021-06-01</td>\n",
       "      <td>00:00:00.000</td>\n",
       "      <td>00:00:10.880</td>\n",
       "      <td>all right welcome back everybody to altcoin da...</td>\n",
       "      <td>NaN</td>\n",
       "      <td>NaN</td>\n",
       "    </tr>\n",
       "    <tr>\n",
       "      <th>1</th>\n",
       "      <td>altcoin_daily_2021-06-01</td>\n",
       "      <td>00:00:10.880</td>\n",
       "      <td>00:00:20.640</td>\n",
       "      <td>market we make it easy to understand we provid...</td>\n",
       "      <td>NaN</td>\n",
       "      <td>NaN</td>\n",
       "    </tr>\n",
       "    <tr>\n",
       "      <th>2</th>\n",
       "      <td>altcoin_daily_2021-06-01</td>\n",
       "      <td>00:00:20.640</td>\n",
       "      <td>00:00:29.920</td>\n",
       "      <td>you watch the entire thing i need to share wit...</td>\n",
       "      <td>NaN</td>\n",
       "      <td>NaN</td>\n",
       "    </tr>\n",
       "    <tr>\n",
       "      <th>3</th>\n",
       "      <td>altcoin_daily_2021-06-01</td>\n",
       "      <td>00:00:29.920</td>\n",
       "      <td>00:00:36.480</td>\n",
       "      <td>so what i want to talk about in today's video ...</td>\n",
       "      <td>NaN</td>\n",
       "      <td>NaN</td>\n",
       "    </tr>\n",
       "    <tr>\n",
       "      <th>4</th>\n",
       "      <td>altcoin_daily_2021-06-01</td>\n",
       "      <td>00:00:36.480</td>\n",
       "      <td>00:00:44.000</td>\n",
       "      <td>little bit of market analysis i want to talk a...</td>\n",
       "      <td>NaN</td>\n",
       "      <td>NaN</td>\n",
       "    </tr>\n",
       "  </tbody>\n",
       "</table>\n",
       "</div>"
      ],
      "text/plain": [
       "              Podcast_Title    Start_Time      End_Time  \\\n",
       "0  altcoin_daily_2021-06-01  00:00:00.000  00:00:10.880   \n",
       "1  altcoin_daily_2021-06-01  00:00:10.880  00:00:20.640   \n",
       "2  altcoin_daily_2021-06-01  00:00:20.640  00:00:29.920   \n",
       "3  altcoin_daily_2021-06-01  00:00:29.920  00:00:36.480   \n",
       "4  altcoin_daily_2021-06-01  00:00:36.480  00:00:44.000   \n",
       "\n",
       "                                                Text  Coin  Sentiment  \n",
       "0  all right welcome back everybody to altcoin da...   NaN        NaN  \n",
       "1  market we make it easy to understand we provid...   NaN        NaN  \n",
       "2  you watch the entire thing i need to share wit...   NaN        NaN  \n",
       "3  so what i want to talk about in today's video ...   NaN        NaN  \n",
       "4  little bit of market analysis i want to talk a...   NaN        NaN  "
      ]
     },
     "execution_count": 10,
     "metadata": {},
     "output_type": "execute_result"
    }
   ],
   "source": [
    "import pandas as pd\n",
    "import numpy as np\n",
    "import re\n",
    "import subprocess\n",
    "\n",
    "df = pd.read_excel(\"scripts/Sentiment_Labelling_Altcoin_Daily_210601_to_210611_Batch_1.xlsx\")\n",
    "df.head()"
   ]
  },
  {
   "cell_type": "code",
   "execution_count": 12,
   "metadata": {},
   "outputs": [],
   "source": [
    "folder_path = \"~/School/NLP/Project/mar2moon/Data/labelling/\"\n",
    "podcasts = [(\"altcoin_daily_2021-06-01\", \"https://www.youtube.com/watch?v=oJ5QKtlzXEw\"),\n",
    "                (\"altcoin_daily_2021-06-03\", \"https://www.youtube.com/watch?v=LCZPO1_Hv8s\"),\n",
    "                (\"altcoin_daily_2021-06-04\", \"https://www.youtube.com/watch?v=KmhFit4urTM\"),\n",
    "                (\"altcoin_daily_2021-06-05\", \"https://www.youtube.com/watch?v=mS-Yn3d1lns\"),\n",
    "                (\"altcoin_daily_2021-06-06\", \"https://www.youtube.com/watch?v=NuOqga61-Q8\"),\n",
    "                (\"altcoin_daily_2021-06-07\", \"https://www.youtube.com/watch?v=ZIy-wY-_zR0\"),\n",
    "                (\"altcoin_daily_2021-06-08\", \"https://www.youtube.com/watch?v=4LZIWb5khnw\"),\n",
    "                (\"altcoin_daily_2021-06-09\", \"https://www.youtube.com/watch?v=Z0EHWp4BXxc\"),\n",
    "                (\"altcoin_daily_2021-06-10\", \"https://www.youtube.com/watch?v=lLym-5GZmQg\"),\n",
    "                (\"altcoin_daily_2021-06-11\", \"https://www.youtube.com/watch?v=cOHahp_FoT0\")]"
   ]
  },
  {
   "cell_type": "code",
   "execution_count": 15,
   "metadata": {},
   "outputs": [],
   "source": [
    "for podcast in podcasts:\n",
    "    title, link = podcast\n",
    "    subprocess.call([\n",
    "        \"youtube-dl\", \"-x\", \"--audio-format\", \"wav\",\n",
    "        \"-o\", f\"Data/labelling/{title}.%(ext)s\",\n",
    "        link\n",
    "    ])"
   ]
  },
  {
   "cell_type": "code",
   "execution_count": 18,
   "metadata": {},
   "outputs": [],
   "source": [
    "for idx, row in df.iterrows():\n",
    "    fname = f\"Data/labelling/{row['Podcast_Title']}.wav\"\n",
    "    subprocess.call([\n",
    "        \"ffmpeg\",\n",
    "         \"-ss\",  row[\"Start_Time\"],\n",
    "         \"-to\",  row[\"End_Time\"],\n",
    "         \"-i\", fname,\n",
    "        \"-ar\", \"16000\", #downsample to 16Khz\n",
    "         \"-ac\", \"1\", #stereo -> mono\n",
    "         f\"Data/labelling/output/{row['Podcast_Title']}_{idx}.wav\",\n",
    "    ])"
   ]
  },
  {
   "cell_type": "code",
   "execution_count": null,
   "metadata": {},
   "outputs": [],
   "source": []
  }
 ],
 "metadata": {
  "kernelspec": {
   "display_name": "Python 3",
   "language": "python",
   "name": "python3"
  },
  "language_info": {
   "codemirror_mode": {
    "name": "ipython",
    "version": 3
   },
   "file_extension": ".py",
   "mimetype": "text/x-python",
   "name": "python",
   "nbconvert_exporter": "python",
   "pygments_lexer": "ipython3",
   "version": "3.9.5"
  }
 },
 "nbformat": 4,
 "nbformat_minor": 4
}
