{
 "cells": [
  {
   "cell_type": "code",
   "execution_count": 1,
   "id": "4aa2f53b-d60b-4094-9750-b3e431b9fce0",
   "metadata": {},
   "outputs": [],
   "source": [
    "import subprocess\n",
    "import numpy as np\n",
    "import pandas as pd\n",
    "import AudioFeatureExtraction"
   ]
  },
  {
   "cell_type": "code",
   "execution_count": 6,
   "id": "37e3f2e8-f31a-4572-927f-d508b2655a2e",
   "metadata": {},
   "outputs": [],
   "source": [
    "praat_path = \"C:\\\\Program Files\\\\Praat\\\\Praat.exe\"\n",
    "clip_folder = \"D:\\\\nlp_project_d\\\\podcast_data\\\\extracted_clips\" # Save extracted audio clips here"
   ]
  },
  {
   "cell_type": "code",
   "execution_count": 7,
   "id": "d88f2e28-fde1-488e-a748-0d277f82a086",
   "metadata": {},
   "outputs": [],
   "source": [
    "# Load sentiment labelling data frame\n",
    "\n",
    "sentiment_labelling_file = \"C:\\\\Users\\\\Tristan\\\\nlp_project\\\\Sentiment_Labelling_210703.xlsx\"\n",
    "df = pd.read_excel(sentiment_labelling_file)"
   ]
  },
  {
   "cell_type": "code",
   "execution_count": 8,
   "id": "73276308-66d6-4559-85f9-7e847b495903",
   "metadata": {},
   "outputs": [],
   "source": [
    "# Fix podcast names\n",
    "\n",
    "df[\"Podcast_Title\"] = df[\"Podcast_Title\"].apply(lambda x: x.replace(\" \", \"_\").replace(\":\", \"_\"))"
   ]
  },
  {
   "cell_type": "code",
   "execution_count": 9,
   "id": "6a2db7db-5499-40c4-b7bb-ec01c49e0812",
   "metadata": {},
   "outputs": [],
   "source": [
    "# Extract audio clips"
   ]
  },
  {
   "cell_type": "code",
   "execution_count": 10,
   "id": "aaf1a044-9927-4468-96ab-db6467cf9fb1",
   "metadata": {},
   "outputs": [],
   "source": [
    "audio_source_folder = \"D:\\\\nlp_project_d\\\\podcast_data\\\\labelling\\\\batch_1_altcoin\"\n",
    "\n",
    "AudioFeatureExtraction.extract_clips_from_data_frame(df[0:546], audio_source_folder, clip_folder, correct_file_extension=True)"
   ]
  },
  {
   "cell_type": "code",
   "execution_count": 97,
   "id": "fd53b9e7-c965-4ef7-9fac-626cecf8b0bc",
   "metadata": {},
   "outputs": [],
   "source": [
    "audio_source_folder = \"D:\\\\nlp_project_d\\\\podcast_data\\\\labelling\\\\batch_3_this_week\"\n",
    "\n",
    "AudioFeatureExtraction.extract_clips_from_data_frame(df[546:746], audio_source_folder, clip_folder, correct_file_extension=True)"
   ]
  },
  {
   "cell_type": "code",
   "execution_count": 98,
   "id": "af8b1f31-6c60-4e1f-bcb6-b51959d90491",
   "metadata": {},
   "outputs": [],
   "source": [
    "audio_source_folder = \"D:\\\\nlp_project_d\\\\podcast_data\\\\labelling\\\\batch_4_lex\"\n",
    "\n",
    "AudioFeatureExtraction.extract_clips_from_data_frame(df[746:878], audio_source_folder, clip_folder, correct_file_extension=True)"
   ]
  },
  {
   "cell_type": "code",
   "execution_count": 99,
   "id": "cf76f207-f3d6-4f69-b540-4b13273d5e40",
   "metadata": {},
   "outputs": [],
   "source": [
    "audio_source_folder = \"D:\\\\nlp_project_d\\\\podcast_data\\\\labelling\\\\batch_5_trade_signals\"\n",
    "\n",
    "AudioFeatureExtraction.extract_clips_from_data_frame(df[878:1586], audio_source_folder, clip_folder, correct_file_extension=True)"
   ]
  },
  {
   "cell_type": "code",
   "execution_count": 11,
   "id": "a76b972d-d1c9-4aaf-a933-a2955cdfcfaa",
   "metadata": {},
   "outputs": [],
   "source": [
    "audio_source_folder = \"D:\\\\nlp_project_d\\\\podcast_data\\\\labelling\\\\batch_6_bearish\"\n",
    "\n",
    "AudioFeatureExtraction.extract_clips_from_data_frame(df[1586:1659], audio_source_folder, clip_folder, correct_file_extension=True)"
   ]
  },
  {
   "cell_type": "code",
   "execution_count": 12,
   "id": "603b0205-c153-43fb-b777-bde964d6910f",
   "metadata": {},
   "outputs": [],
   "source": [
    "# Extract audio features"
   ]
  },
  {
   "cell_type": "code",
   "execution_count": 41,
   "id": "fdef80c1-2528-442a-a6b9-0ceb06a4b207",
   "metadata": {},
   "outputs": [],
   "source": [
    "audio_features = df.apply(lambda x: AudioFeatureExtraction.get_audio_features_for_data_row(x, praat_path, clip_folder), axis=1)"
   ]
  },
  {
   "cell_type": "code",
   "execution_count": 55,
   "id": "71f5a7b6-199c-4602-89b7-7da0c672c869",
   "metadata": {},
   "outputs": [],
   "source": [
    "none_list = [None, None, None, None, None, None, None, None, None, None, None]\n",
    "\n",
    "audio_features_1 = audio_features.apply(lambda x: none_list if len(x) == 1 else x)\n",
    "\n",
    "df_audio_features = pd.DataFrame(np.vstack(audio_features_1), columns=[\"Pitch_Min\",\n",
    "                                                                      \"Pitch_Max\",\n",
    "                                                                      \"Pitch_05_Quantile\",\n",
    "                                                                      \"Pitch_95_Quantile\",\n",
    "                                                                      \"Pitch_Range\",\n",
    "                                                                      \"pitch stdev\",\n",
    "                                                                      \"Pitch_Mean\",\n",
    "                                                                      \"Pitch_Median\",\n",
    "                                                                      \"Jitter\",\n",
    "                                                                      \"Shimmer\",\n",
    "                                                                      \"Hammarberg_Index\"])"
   ]
  },
  {
   "cell_type": "code",
   "execution_count": 57,
   "id": "cae78da1-1997-4f71-a0dd-28d96a92f265",
   "metadata": {},
   "outputs": [],
   "source": [
    "df_audio_features.to_csv(\"Sentiment_Labelling_Audio_Features.csv\", index=False)"
   ]
  },
  {
   "cell_type": "code",
   "execution_count": null,
   "id": "7ea4b537-6cf2-4980-bced-546079f0836f",
   "metadata": {},
   "outputs": [],
   "source": [
    "# Testing"
   ]
  },
  {
   "cell_type": "code",
   "execution_count": 4,
   "id": "837868f6-8c13-4be1-9a98-4528674c310c",
   "metadata": {},
   "outputs": [],
   "source": [
    "file = \"D:\\\\nlp_project_d\\\\podcast_data\\\\extracted_clips\\\\test_podcast_00.00.20.080_00.00.28.160.wav\""
   ]
  },
  {
   "cell_type": "code",
   "execution_count": 5,
   "id": "ee741ae2-6669-48f6-b949-1ea6042e8b85",
   "metadata": {},
   "outputs": [
    {
     "name": "stdout",
     "output_type": "stream",
     "text": [
      "\u0000\u00005\u0000.\u00004\u00009\u00002\u00009\u00009\u00009\u00003\u00007\u00000\u00004\u00000\u00009\u00009\u00003\u0000\n",
      "\u00005\u00007\u00002\u0000.\u00003\u00002\u00002\u00006\u00001\u00007\u00006\u00006\u00003\u00008\u00007\u00004\u00002\u0000\n",
      "\u0000\n"
     ]
    }
   ],
   "source": [
    "test = subprocess.run([praat_path, \"--run\", \"Praat\\\\GetPitch.praat\", file], capture_output=True)\n",
    "print(test.stdout.decode(\"utf-8\"))"
   ]
  },
  {
   "cell_type": "code",
   "execution_count": 27,
   "id": "b12f626f-235b-4ce1-a1cd-9d7c1d5bd9a3",
   "metadata": {},
   "outputs": [
    {
     "data": {
      "text/html": [
       "<div>\n",
       "<style scoped>\n",
       "    .dataframe tbody tr th:only-of-type {\n",
       "        vertical-align: middle;\n",
       "    }\n",
       "\n",
       "    .dataframe tbody tr th {\n",
       "        vertical-align: top;\n",
       "    }\n",
       "\n",
       "    .dataframe thead th {\n",
       "        text-align: right;\n",
       "    }\n",
       "</style>\n",
       "<table border=\"1\" class=\"dataframe\">\n",
       "  <thead>\n",
       "    <tr style=\"text-align: right;\">\n",
       "      <th></th>\n",
       "      <th>Podcast_Title</th>\n",
       "      <th>Start_Time</th>\n",
       "      <th>End_Time</th>\n",
       "      <th>Auto_Label</th>\n",
       "      <th>Youtube_Text_Corrected</th>\n",
       "      <th>wav2vec2 without training (for aligning timestamps)</th>\n",
       "      <th>Wav2Vec_Text</th>\n",
       "      <th>Coin</th>\n",
       "      <th>Sentiment</th>\n",
       "    </tr>\n",
       "  </thead>\n",
       "  <tbody>\n",
       "    <tr>\n",
       "      <th>0</th>\n",
       "      <td>Altcoin_Daily_20210401_ETH_to_CRUSH_Bitcoin_(T...</td>\n",
       "      <td>00:00:19.760</td>\n",
       "      <td>00:00:27.920</td>\n",
       "      <td>BTC</td>\n",
       "      <td>could outperform bitcoin and is watching it ve...</td>\n",
       "      <td>OD OUTPERFORM BITCOIN AND IS WATCHING IT VERY ...</td>\n",
       "      <td>NaN</td>\n",
       "      <td>BTC</td>\n",
       "      <td>bearish</td>\n",
       "    </tr>\n",
       "    <tr>\n",
       "      <th>1</th>\n",
       "      <td>Altcoin_Daily_20210401_ETH_to_CRUSH_Bitcoin_(T...</td>\n",
       "      <td>00:01:25.360</td>\n",
       "      <td>00:01:36.400</td>\n",
       "      <td>BTC</td>\n",
       "      <td>has a slightly more nuanced opinion than many ...</td>\n",
       "      <td>S A SLIGHTLY MORE NUANCED OPINION THAN MANY BI...</td>\n",
       "      <td>NaN</td>\n",
       "      <td>BTC</td>\n",
       "      <td>bearish</td>\n",
       "    </tr>\n",
       "    <tr>\n",
       "      <th>2</th>\n",
       "      <td>Altcoin_Daily_20210401_ETH_to_CRUSH_Bitcoin_(T...</td>\n",
       "      <td>00:01:59.920</td>\n",
       "      <td>00:02:09.679</td>\n",
       "      <td>ETH</td>\n",
       "      <td>be more um sound from a monetary perspective t...</td>\n",
       "      <td>MORE AM SOUND FROM A MONETARY PERSPECTIVE AN B...</td>\n",
       "      <td>NaN</td>\n",
       "      <td>ETH</td>\n",
       "      <td>bullish</td>\n",
       "    </tr>\n",
       "    <tr>\n",
       "      <th>3</th>\n",
       "      <td>Altcoin_Daily_20210401_ETH_to_CRUSH_Bitcoin_(T...</td>\n",
       "      <td>00:02:27.680</td>\n",
       "      <td>00:02:34.160</td>\n",
       "      <td>ETH</td>\n",
       "      <td>so in bitcoin hard forks are extremely rare so...</td>\n",
       "      <td>AND BECO AND HARDFORK'SARE EXTREMELY RARE IN A...</td>\n",
       "      <td>NaN</td>\n",
       "      <td>ETH</td>\n",
       "      <td>bearish</td>\n",
       "    </tr>\n",
       "    <tr>\n",
       "      <th>4</th>\n",
       "      <td>Altcoin_Daily_20210401_ETH_to_CRUSH_Bitcoin_(T...</td>\n",
       "      <td>00:03:47.200</td>\n",
       "      <td>00:03:55.920</td>\n",
       "      <td>ETH</td>\n",
       "      <td>market and but nevertheless the minority a hun...</td>\n",
       "      <td>BUT NEVERTHELESS THE MINORITY AA HUNDRED PER C...</td>\n",
       "      <td>NaN</td>\n",
       "      <td>ETH</td>\n",
       "      <td>bullish</td>\n",
       "    </tr>\n",
       "  </tbody>\n",
       "</table>\n",
       "</div>"
      ],
      "text/plain": [
       "                                       Podcast_Title    Start_Time  \\\n",
       "0  Altcoin_Daily_20210401_ETH_to_CRUSH_Bitcoin_(T...  00:00:19.760   \n",
       "1  Altcoin_Daily_20210401_ETH_to_CRUSH_Bitcoin_(T...  00:01:25.360   \n",
       "2  Altcoin_Daily_20210401_ETH_to_CRUSH_Bitcoin_(T...  00:01:59.920   \n",
       "3  Altcoin_Daily_20210401_ETH_to_CRUSH_Bitcoin_(T...  00:02:27.680   \n",
       "4  Altcoin_Daily_20210401_ETH_to_CRUSH_Bitcoin_(T...  00:03:47.200   \n",
       "\n",
       "       End_Time Auto_Label                             Youtube_Text_Corrected  \\\n",
       "0  00:00:27.920        BTC  could outperform bitcoin and is watching it ve...   \n",
       "1  00:01:36.400        BTC  has a slightly more nuanced opinion than many ...   \n",
       "2  00:02:09.679        ETH  be more um sound from a monetary perspective t...   \n",
       "3  00:02:34.160        ETH  so in bitcoin hard forks are extremely rare so...   \n",
       "4  00:03:55.920        ETH  market and but nevertheless the minority a hun...   \n",
       "\n",
       "  wav2vec2 without training (for aligning timestamps)  Wav2Vec_Text Coin  \\\n",
       "0  OD OUTPERFORM BITCOIN AND IS WATCHING IT VERY ...            NaN  BTC   \n",
       "1  S A SLIGHTLY MORE NUANCED OPINION THAN MANY BI...            NaN  BTC   \n",
       "2  MORE AM SOUND FROM A MONETARY PERSPECTIVE AN B...            NaN  ETH   \n",
       "3  AND BECO AND HARDFORK'SARE EXTREMELY RARE IN A...            NaN  ETH   \n",
       "4  BUT NEVERTHELESS THE MINORITY AA HUNDRED PER C...            NaN  ETH   \n",
       "\n",
       "  Sentiment  \n",
       "0   bearish  \n",
       "1   bearish  \n",
       "2   bullish  \n",
       "3   bearish  \n",
       "4   bullish  "
      ]
     },
     "execution_count": 27,
     "metadata": {},
     "output_type": "execute_result"
    }
   ],
   "source": [
    "df_file = \"C:\\\\Users\\\\Tristan\\\\nlp_project\\\\Sentiment_Labelling_210702.xlsx\"\n",
    "\n",
    "\n",
    "df = pd.read_excel(df_file)\n",
    "\n",
    "df[\"Podcast_Title\"] = df[\"Podcast_Title\"].apply(lambda x: x.replace(\" \", \"_\").replace(\":\", \"_\"))\n",
    "\n",
    "df.head()"
   ]
  },
  {
   "cell_type": "code",
   "execution_count": null,
   "id": "7d29dc06-08d9-4e52-8b4f-b240ed2dd78b",
   "metadata": {},
   "outputs": [],
   "source": [
    "audio_folder = \"D:\\\\nlp_project_d\\\\podcast_data\\\\labelling\\\\batch_1_altcoin\""
   ]
  },
  {
   "cell_type": "code",
   "execution_count": 47,
   "id": "5e69c1ab-d6b0-4973-b8f9-c25954087953",
   "metadata": {},
   "outputs": [],
   "source": [
    "AudioFeatureExtraction.extract_clips_from_data_frame(df[0:3], audio_folder, clip_folder, correct_file_extension=True)\n",
    "\n",
    "print(\"finished\")"
   ]
  },
  {
   "cell_type": "code",
   "execution_count": 30,
   "id": "60060252-9e71-4804-80ff-bccf4ef44ae7",
   "metadata": {},
   "outputs": [
    {
     "data": {
      "text/html": [
       "<div>\n",
       "<style scoped>\n",
       "    .dataframe tbody tr th:only-of-type {\n",
       "        vertical-align: middle;\n",
       "    }\n",
       "\n",
       "    .dataframe tbody tr th {\n",
       "        vertical-align: top;\n",
       "    }\n",
       "\n",
       "    .dataframe thead th {\n",
       "        text-align: right;\n",
       "    }\n",
       "</style>\n",
       "<table border=\"1\" class=\"dataframe\">\n",
       "  <thead>\n",
       "    <tr style=\"text-align: right;\">\n",
       "      <th></th>\n",
       "      <th>Podcast_Title</th>\n",
       "      <th>Start_Time</th>\n",
       "      <th>End_Time</th>\n",
       "      <th>Auto_Label</th>\n",
       "      <th>Youtube_Text_Corrected</th>\n",
       "      <th>wav2vec2 without training (for aligning timestamps)</th>\n",
       "      <th>Wav2Vec_Text</th>\n",
       "      <th>Coin</th>\n",
       "      <th>Sentiment</th>\n",
       "    </tr>\n",
       "  </thead>\n",
       "  <tbody>\n",
       "    <tr>\n",
       "      <th>0</th>\n",
       "      <td>Altcoin_Daily_20210401_ETH_to_CRUSH_Bitcoin_(T...</td>\n",
       "      <td>00:00:19.760</td>\n",
       "      <td>00:00:27.920</td>\n",
       "      <td>BTC</td>\n",
       "      <td>could outperform bitcoin and is watching it ve...</td>\n",
       "      <td>OD OUTPERFORM BITCOIN AND IS WATCHING IT VERY ...</td>\n",
       "      <td>NaN</td>\n",
       "      <td>BTC</td>\n",
       "      <td>bearish</td>\n",
       "    </tr>\n",
       "    <tr>\n",
       "      <th>1</th>\n",
       "      <td>Altcoin_Daily_20210401_ETH_to_CRUSH_Bitcoin_(T...</td>\n",
       "      <td>00:01:25.360</td>\n",
       "      <td>00:01:36.400</td>\n",
       "      <td>BTC</td>\n",
       "      <td>has a slightly more nuanced opinion than many ...</td>\n",
       "      <td>S A SLIGHTLY MORE NUANCED OPINION THAN MANY BI...</td>\n",
       "      <td>NaN</td>\n",
       "      <td>BTC</td>\n",
       "      <td>bearish</td>\n",
       "    </tr>\n",
       "    <tr>\n",
       "      <th>2</th>\n",
       "      <td>Altcoin_Daily_20210401_ETH_to_CRUSH_Bitcoin_(T...</td>\n",
       "      <td>00:01:59.920</td>\n",
       "      <td>00:02:09.679</td>\n",
       "      <td>ETH</td>\n",
       "      <td>be more um sound from a monetary perspective t...</td>\n",
       "      <td>MORE AM SOUND FROM A MONETARY PERSPECTIVE AN B...</td>\n",
       "      <td>NaN</td>\n",
       "      <td>ETH</td>\n",
       "      <td>bullish</td>\n",
       "    </tr>\n",
       "  </tbody>\n",
       "</table>\n",
       "</div>"
      ],
      "text/plain": [
       "                                       Podcast_Title    Start_Time  \\\n",
       "0  Altcoin_Daily_20210401_ETH_to_CRUSH_Bitcoin_(T...  00:00:19.760   \n",
       "1  Altcoin_Daily_20210401_ETH_to_CRUSH_Bitcoin_(T...  00:01:25.360   \n",
       "2  Altcoin_Daily_20210401_ETH_to_CRUSH_Bitcoin_(T...  00:01:59.920   \n",
       "\n",
       "       End_Time Auto_Label                             Youtube_Text_Corrected  \\\n",
       "0  00:00:27.920        BTC  could outperform bitcoin and is watching it ve...   \n",
       "1  00:01:36.400        BTC  has a slightly more nuanced opinion than many ...   \n",
       "2  00:02:09.679        ETH  be more um sound from a monetary perspective t...   \n",
       "\n",
       "  wav2vec2 without training (for aligning timestamps)  Wav2Vec_Text Coin  \\\n",
       "0  OD OUTPERFORM BITCOIN AND IS WATCHING IT VERY ...            NaN  BTC   \n",
       "1  S A SLIGHTLY MORE NUANCED OPINION THAN MANY BI...            NaN  BTC   \n",
       "2  MORE AM SOUND FROM A MONETARY PERSPECTIVE AN B...            NaN  ETH   \n",
       "\n",
       "  Sentiment  \n",
       "0   bearish  \n",
       "1   bearish  \n",
       "2   bullish  "
      ]
     },
     "execution_count": 30,
     "metadata": {},
     "output_type": "execute_result"
    }
   ],
   "source": [
    "df1 = df[0:3]\n",
    "\n",
    "df1"
   ]
  },
  {
   "cell_type": "code",
   "execution_count": 64,
   "id": "3c6375c7-31fb-4e5d-ace8-a6c921ed7992",
   "metadata": {},
   "outputs": [],
   "source": [
    "test = df1.apply(lambda x: get_audio_features_for_row(x, praat_path, clip_folder), axis=1)"
   ]
  },
  {
   "cell_type": "code",
   "execution_count": 72,
   "id": "b7542079-e0d3-4dce-8db3-d51c633e5209",
   "metadata": {},
   "outputs": [
    {
     "data": {
      "text/plain": [
       "0    [75.49299937040993, 572.3226176638742, 85.7949...\n",
       "1    [75.3789388242294, 530.3306332324117, 80.04700...\n",
       "2    [76.11226988325518, 456.05544717311994, 87.705...\n",
       "dtype: object"
      ]
     },
     "execution_count": 72,
     "metadata": {},
     "output_type": "execute_result"
    }
   ],
   "source": [
    "test"
   ]
  },
  {
   "cell_type": "code",
   "execution_count": 77,
   "id": "dbc90ad9-d224-45c7-84f1-48faaa084d76",
   "metadata": {},
   "outputs": [],
   "source": [
    "df_t = pd.DataFrame(np.vstack(test), columns=[\"Pitch_Min\",\n",
    "                                              \"Pitch_Max\",\n",
    "                                              \"Pitch_05_Quantile\",\n",
    "                                              \"Pitch_95_Quantile\",\n",
    "                                              \"Pitch_Range\",\n",
    "                                              \"pitch stdev\",\n",
    "                                              \"Pitch_Mean\",\n",
    "                                              \"Pitch_Median\",\n",
    "                                              \"Jitter\",\n",
    "                                              \"Shimmer\",\n",
    "                                              \"Hammarberg_Index\"])"
   ]
  },
  {
   "cell_type": "code",
   "execution_count": 78,
   "id": "ee2603ad-a29d-4a57-aa00-7678df148fc2",
   "metadata": {},
   "outputs": [
    {
     "data": {
      "text/html": [
       "<div>\n",
       "<style scoped>\n",
       "    .dataframe tbody tr th:only-of-type {\n",
       "        vertical-align: middle;\n",
       "    }\n",
       "\n",
       "    .dataframe tbody tr th {\n",
       "        vertical-align: top;\n",
       "    }\n",
       "\n",
       "    .dataframe thead th {\n",
       "        text-align: right;\n",
       "    }\n",
       "</style>\n",
       "<table border=\"1\" class=\"dataframe\">\n",
       "  <thead>\n",
       "    <tr style=\"text-align: right;\">\n",
       "      <th></th>\n",
       "      <th>Pitch_Min</th>\n",
       "      <th>Pitch_Max</th>\n",
       "      <th>Pitch_05_Quantile</th>\n",
       "      <th>Pitch_95_Quantile</th>\n",
       "      <th>Pitch_Range</th>\n",
       "      <th>pitch stdev</th>\n",
       "      <th>Pitch_Mean</th>\n",
       "      <th>Pitch_Median</th>\n",
       "      <th>Jitter</th>\n",
       "      <th>Shimmer</th>\n",
       "      <th>Hammarberg_Index</th>\n",
       "    </tr>\n",
       "  </thead>\n",
       "  <tbody>\n",
       "    <tr>\n",
       "      <th>0</th>\n",
       "      <td>75.49299937040993</td>\n",
       "      <td>572.3226176638742</td>\n",
       "      <td>85.79498574363203</td>\n",
       "      <td>415.2261489170261</td>\n",
       "      <td>329.43116317339405</td>\n",
       "      <td>6.377597436645091</td>\n",
       "      <td>166.31835835656105</td>\n",
       "      <td>149.99365376990977</td>\n",
       "      <td>0.03141445560796237</td>\n",
       "      <td>0.14025958139906405</td>\n",
       "      <td>16.682194376690795</td>\n",
       "    </tr>\n",
       "    <tr>\n",
       "      <th>1</th>\n",
       "      <td>75.3789388242294</td>\n",
       "      <td>530.3306332324117</td>\n",
       "      <td>80.0470015661716</td>\n",
       "      <td>196.03736021549628</td>\n",
       "      <td>115.99035864932468</td>\n",
       "      <td>5.4551530109770665</td>\n",
       "      <td>128.4574288893725</td>\n",
       "      <td>115.46767318532187</td>\n",
       "      <td>0.02674509687238196</td>\n",
       "      <td>0.10698318499144747</td>\n",
       "      <td>19.4372354095036</td>\n",
       "    </tr>\n",
       "    <tr>\n",
       "      <th>2</th>\n",
       "      <td>76.11226988325518</td>\n",
       "      <td>456.05544717311994</td>\n",
       "      <td>87.70572955504508</td>\n",
       "      <td>134.72593591391816</td>\n",
       "      <td>47.02020635887308</td>\n",
       "      <td>2.645785288950078</td>\n",
       "      <td>101.94235925601724</td>\n",
       "      <td>97.3345970577422</td>\n",
       "      <td>0.025928219367149147</td>\n",
       "      <td>0.08256554951727424</td>\n",
       "      <td>22.668831338632902</td>\n",
       "    </tr>\n",
       "  </tbody>\n",
       "</table>\n",
       "</div>"
      ],
      "text/plain": [
       "           Pitch_Min           Pitch_Max  Pitch_05_Quantile  \\\n",
       "0  75.49299937040993   572.3226176638742  85.79498574363203   \n",
       "1   75.3789388242294   530.3306332324117   80.0470015661716   \n",
       "2  76.11226988325518  456.05544717311994  87.70572955504508   \n",
       "\n",
       "    Pitch_95_Quantile         Pitch_Range         pitch stdev  \\\n",
       "0   415.2261489170261  329.43116317339405   6.377597436645091   \n",
       "1  196.03736021549628  115.99035864932468  5.4551530109770665   \n",
       "2  134.72593591391816   47.02020635887308   2.645785288950078   \n",
       "\n",
       "           Pitch_Mean        Pitch_Median                Jitter  \\\n",
       "0  166.31835835656105  149.99365376990977   0.03141445560796237   \n",
       "1   128.4574288893725  115.46767318532187   0.02674509687238196   \n",
       "2  101.94235925601724    97.3345970577422  0.025928219367149147   \n",
       "\n",
       "               Shimmer    Hammarberg_Index  \n",
       "0  0.14025958139906405  16.682194376690795  \n",
       "1  0.10698318499144747    19.4372354095036  \n",
       "2  0.08256554951727424  22.668831338632902  "
      ]
     },
     "execution_count": 78,
     "metadata": {},
     "output_type": "execute_result"
    }
   ],
   "source": [
    "df_t"
   ]
  }
 ],
 "metadata": {
  "kernelspec": {
   "display_name": "Python 3",
   "language": "python",
   "name": "python3"
  },
  "language_info": {
   "codemirror_mode": {
    "name": "ipython",
    "version": 3
   },
   "file_extension": ".py",
   "mimetype": "text/x-python",
   "name": "python",
   "nbconvert_exporter": "python",
   "pygments_lexer": "ipython3",
   "version": "3.9.5"
  }
 },
 "nbformat": 4,
 "nbformat_minor": 5
}
