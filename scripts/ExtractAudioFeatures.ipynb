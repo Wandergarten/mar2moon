{
 "cells": [
  {
   "cell_type": "code",
   "execution_count": 1,
   "id": "4aa2f53b-d60b-4094-9750-b3e431b9fce0",
   "metadata": {},
   "outputs": [],
   "source": [
    "import subprocess\n",
    "import numpy as np\n",
    "import pandas as pd\n",
    "import AudioFeatureExtraction"
   ]
  },
  {
   "cell_type": "code",
   "execution_count": 2,
   "id": "37e3f2e8-f31a-4572-927f-d508b2655a2e",
   "metadata": {},
   "outputs": [],
   "source": [
    "praat_path = \"C:\\\\Program Files\\\\Praat\\\\Praat.exe\""
   ]
  },
  {
   "cell_type": "code",
   "execution_count": 20,
   "id": "837868f6-8c13-4be1-9a98-4528674c310c",
   "metadata": {},
   "outputs": [],
   "source": [
    "file = \"D:\\\\nlp_project_d\\\\podcast_data\\\\extracted_clips\\\\test_podcast_00.00.20.080_00.00.28.160.wav\""
   ]
  },
  {
   "cell_type": "code",
   "execution_count": 21,
   "id": "ee741ae2-6669-48f6-b949-1ea6042e8b85",
   "metadata": {},
   "outputs": [
    {
     "name": "stdout",
     "output_type": "stream",
     "text": [
      "\u0000\u00005\u0000.\u00004\u00009\u00002\u00009\u00009\u00009\u00003\u00007\u00000\u00004\u00000\u00009\u00009\u00003\u0000\n",
      "\u00005\u00007\u00002\u0000.\u00003\u00002\u00002\u00006\u00001\u00007\u00006\u00006\u00003\u00008\u00007\u00004\u00002\u0000\n",
      "\u0000\n"
     ]
    }
   ],
   "source": [
    "test = subprocess.run([praat_path, \"--run\", \"Praat\\\\GetPitch.praat\", file], capture_output=True)\n",
    "print(test.stdout.decode(\"utf-8\"))"
   ]
  },
  {
   "cell_type": "code",
   "execution_count": 3,
   "id": "b12f626f-235b-4ce1-a1cd-9d7c1d5bd9a3",
   "metadata": {},
   "outputs": [
    {
     "data": {
      "text/html": [
       "<div>\n",
       "<style scoped>\n",
       "    .dataframe tbody tr th:only-of-type {\n",
       "        vertical-align: middle;\n",
       "    }\n",
       "\n",
       "    .dataframe tbody tr th {\n",
       "        vertical-align: top;\n",
       "    }\n",
       "\n",
       "    .dataframe thead th {\n",
       "        text-align: right;\n",
       "    }\n",
       "</style>\n",
       "<table border=\"1\" class=\"dataframe\">\n",
       "  <thead>\n",
       "    <tr style=\"text-align: right;\">\n",
       "      <th></th>\n",
       "      <th>Podcast_Title</th>\n",
       "      <th>Start_Time</th>\n",
       "      <th>End_Time</th>\n",
       "      <th>Auto_Label</th>\n",
       "      <th>Youtube_Text_Corrected</th>\n",
       "      <th>wav2vec2 without training (for aligning timestamps)</th>\n",
       "      <th>Wav2Vec_Text</th>\n",
       "      <th>Coin</th>\n",
       "      <th>Sentiment</th>\n",
       "    </tr>\n",
       "  </thead>\n",
       "  <tbody>\n",
       "    <tr>\n",
       "      <th>0</th>\n",
       "      <td>Altcoin_Daily_20210401_ETH_to_CRUSH_Bitcoin_(T...</td>\n",
       "      <td>00:00:19.760</td>\n",
       "      <td>00:00:27.920</td>\n",
       "      <td>BTC</td>\n",
       "      <td>could outperform bitcoin and is watching it ve...</td>\n",
       "      <td>OD OUTPERFORM BITCOIN AND IS WATCHING IT VERY ...</td>\n",
       "      <td>NaN</td>\n",
       "      <td>BTC</td>\n",
       "      <td>bearish</td>\n",
       "    </tr>\n",
       "    <tr>\n",
       "      <th>1</th>\n",
       "      <td>Altcoin_Daily_20210401_ETH_to_CRUSH_Bitcoin_(T...</td>\n",
       "      <td>00:01:25.360</td>\n",
       "      <td>00:01:36.400</td>\n",
       "      <td>BTC</td>\n",
       "      <td>has a slightly more nuanced opinion than many ...</td>\n",
       "      <td>S A SLIGHTLY MORE NUANCED OPINION THAN MANY BI...</td>\n",
       "      <td>NaN</td>\n",
       "      <td>BTC</td>\n",
       "      <td>bearish</td>\n",
       "    </tr>\n",
       "    <tr>\n",
       "      <th>2</th>\n",
       "      <td>Altcoin_Daily_20210401_ETH_to_CRUSH_Bitcoin_(T...</td>\n",
       "      <td>00:01:59.920</td>\n",
       "      <td>00:02:09.679</td>\n",
       "      <td>ETH</td>\n",
       "      <td>be more um sound from a monetary perspective t...</td>\n",
       "      <td>MORE AM SOUND FROM A MONETARY PERSPECTIVE AN B...</td>\n",
       "      <td>NaN</td>\n",
       "      <td>ETH</td>\n",
       "      <td>bullish</td>\n",
       "    </tr>\n",
       "    <tr>\n",
       "      <th>3</th>\n",
       "      <td>Altcoin_Daily_20210401_ETH_to_CRUSH_Bitcoin_(T...</td>\n",
       "      <td>00:02:27.680</td>\n",
       "      <td>00:02:34.160</td>\n",
       "      <td>ETH</td>\n",
       "      <td>so in bitcoin hard forks are extremely rare so...</td>\n",
       "      <td>AND BECO AND HARDFORK'SARE EXTREMELY RARE IN A...</td>\n",
       "      <td>NaN</td>\n",
       "      <td>ETH</td>\n",
       "      <td>bearish</td>\n",
       "    </tr>\n",
       "    <tr>\n",
       "      <th>4</th>\n",
       "      <td>Altcoin_Daily_20210401_ETH_to_CRUSH_Bitcoin_(T...</td>\n",
       "      <td>00:03:47.200</td>\n",
       "      <td>00:03:55.920</td>\n",
       "      <td>ETH</td>\n",
       "      <td>market and but nevertheless the minority a hun...</td>\n",
       "      <td>BUT NEVERTHELESS THE MINORITY AA HUNDRED PER C...</td>\n",
       "      <td>NaN</td>\n",
       "      <td>ETH</td>\n",
       "      <td>bullish</td>\n",
       "    </tr>\n",
       "  </tbody>\n",
       "</table>\n",
       "</div>"
      ],
      "text/plain": [
       "                                       Podcast_Title    Start_Time  \\\n",
       "0  Altcoin_Daily_20210401_ETH_to_CRUSH_Bitcoin_(T...  00:00:19.760   \n",
       "1  Altcoin_Daily_20210401_ETH_to_CRUSH_Bitcoin_(T...  00:01:25.360   \n",
       "2  Altcoin_Daily_20210401_ETH_to_CRUSH_Bitcoin_(T...  00:01:59.920   \n",
       "3  Altcoin_Daily_20210401_ETH_to_CRUSH_Bitcoin_(T...  00:02:27.680   \n",
       "4  Altcoin_Daily_20210401_ETH_to_CRUSH_Bitcoin_(T...  00:03:47.200   \n",
       "\n",
       "       End_Time Auto_Label                             Youtube_Text_Corrected  \\\n",
       "0  00:00:27.920        BTC  could outperform bitcoin and is watching it ve...   \n",
       "1  00:01:36.400        BTC  has a slightly more nuanced opinion than many ...   \n",
       "2  00:02:09.679        ETH  be more um sound from a monetary perspective t...   \n",
       "3  00:02:34.160        ETH  so in bitcoin hard forks are extremely rare so...   \n",
       "4  00:03:55.920        ETH  market and but nevertheless the minority a hun...   \n",
       "\n",
       "  wav2vec2 without training (for aligning timestamps)  Wav2Vec_Text Coin  \\\n",
       "0  OD OUTPERFORM BITCOIN AND IS WATCHING IT VERY ...            NaN  BTC   \n",
       "1  S A SLIGHTLY MORE NUANCED OPINION THAN MANY BI...            NaN  BTC   \n",
       "2  MORE AM SOUND FROM A MONETARY PERSPECTIVE AN B...            NaN  ETH   \n",
       "3  AND BECO AND HARDFORK'SARE EXTREMELY RARE IN A...            NaN  ETH   \n",
       "4  BUT NEVERTHELESS THE MINORITY AA HUNDRED PER C...            NaN  ETH   \n",
       "\n",
       "  Sentiment  \n",
       "0   bearish  \n",
       "1   bearish  \n",
       "2   bullish  \n",
       "3   bearish  \n",
       "4   bullish  "
      ]
     },
     "execution_count": 3,
     "metadata": {},
     "output_type": "execute_result"
    }
   ],
   "source": [
    "df_file = \"C:\\\\Users\\\\Tristan\\\\nlp_project\\\\Sentiment_Labelling_210702.xlsx\"\n",
    "\n",
    "\n",
    "df = pd.read_excel(df_file)\n",
    "\n",
    "df[\"Podcast_Title\"] = df[\"Podcast_Title\"].apply(lambda x: x.replace(\" \", \"_\").replace(\":\", \"_\"))\n",
    "\n",
    "df.head()"
   ]
  },
  {
   "cell_type": "code",
   "execution_count": 11,
   "id": "3119e55b-bfaf-4b97-a096-73d015aefa3d",
   "metadata": {},
   "outputs": [],
   "source": [
    "audio_folder = \"D:\\\\nlp_project_d\\\\podcast_data\\\\labelling\\\\batch_1_altcoin\"\n",
    "clip_folder = \"D:\\\\nlp_project_d\\\\podcast_data\\\\extracted_clips\""
   ]
  },
  {
   "cell_type": "code",
   "execution_count": null,
   "id": "7d29dc06-08d9-4e52-8b4f-b240ed2dd78b",
   "metadata": {},
   "outputs": [],
   "source": [
    "\n",
    "\n",
    "AudioFeatureExtraction.extract_clips_from_data_frame(df[0:3], audio_folder, clip_folder, correct_file_extension=True)\n",
    "\n",
    "print(\"finished\")"
   ]
  },
  {
   "cell_type": "code",
   "execution_count": 94,
   "id": "5e69c1ab-d6b0-4973-b8f9-c25954087953",
   "metadata": {},
   "outputs": [],
   "source": [
    "def get_audio_features(audio_file, praat_path, praat_script=\"Praat\\\\GetPitch.praat\"):\n",
    "    result = subprocess.run([praat_path, \"--run\", praat_script, audio_file], capture_output=True)\n",
    "    result_str = result.stdout.decode(\"utf-16\")\n",
    "    #print(repr(result_str))\n",
    "    result_arr = result_str.split(\"\\r\\n\")\n",
    "    return result_arr[:-1]\n",
    "\n",
    "def get_audio_features_for_row(row, praat_path, clip_folder):\n",
    "    clip_file = clip_folder + \"\\\\\" + AudioFeatureExtraction.get_audio_clip_name_by_data_row(row, correct_file_extension=True)[0]\n",
    "    return get_audio_features(praat_path, clip_file)"
   ]
  },
  {
   "cell_type": "code",
   "execution_count": 85,
   "id": "e2748696-a3f4-44c0-8507-59fb53c78877",
   "metadata": {},
   "outputs": [
    {
     "name": "stdout",
     "output_type": "stream",
     "text": [
      "'75.49299937040993\\r\\n572.3226176638742\\r\\n'\n"
     ]
    },
    {
     "data": {
      "text/plain": [
       "['75.49299937040993', '572.3226176638742']"
      ]
     },
     "execution_count": 85,
     "metadata": {},
     "output_type": "execute_result"
    }
   ],
   "source": [
    "clip_name, title =  AudioFeatureExtraction.get_audio_clip_name_by_data_row(df.iloc[0], correct_file_extension=True)\n",
    "clip_file = clip_folder + \"\\\\\" + clip_name\n",
    "features = get_pitch(praat_path, clip_file)\n",
    "features"
   ]
  },
  {
   "cell_type": "code",
   "execution_count": 53,
   "id": "60060252-9e71-4804-80ff-bccf4ef44ae7",
   "metadata": {},
   "outputs": [
    {
     "data": {
      "text/html": [
       "<div>\n",
       "<style scoped>\n",
       "    .dataframe tbody tr th:only-of-type {\n",
       "        vertical-align: middle;\n",
       "    }\n",
       "\n",
       "    .dataframe tbody tr th {\n",
       "        vertical-align: top;\n",
       "    }\n",
       "\n",
       "    .dataframe thead th {\n",
       "        text-align: right;\n",
       "    }\n",
       "</style>\n",
       "<table border=\"1\" class=\"dataframe\">\n",
       "  <thead>\n",
       "    <tr style=\"text-align: right;\">\n",
       "      <th></th>\n",
       "      <th>Podcast_Title</th>\n",
       "      <th>Start_Time</th>\n",
       "      <th>End_Time</th>\n",
       "      <th>Auto_Label</th>\n",
       "      <th>Youtube_Text_Corrected</th>\n",
       "      <th>wav2vec2 without training (for aligning timestamps)</th>\n",
       "      <th>Wav2Vec_Text</th>\n",
       "      <th>Coin</th>\n",
       "      <th>Sentiment</th>\n",
       "    </tr>\n",
       "  </thead>\n",
       "  <tbody>\n",
       "    <tr>\n",
       "      <th>0</th>\n",
       "      <td>Altcoin_Daily_20210401_ETH_to_CRUSH_Bitcoin_(T...</td>\n",
       "      <td>00:00:19.760</td>\n",
       "      <td>00:00:27.920</td>\n",
       "      <td>BTC</td>\n",
       "      <td>could outperform bitcoin and is watching it ve...</td>\n",
       "      <td>OD OUTPERFORM BITCOIN AND IS WATCHING IT VERY ...</td>\n",
       "      <td>NaN</td>\n",
       "      <td>BTC</td>\n",
       "      <td>bearish</td>\n",
       "    </tr>\n",
       "    <tr>\n",
       "      <th>1</th>\n",
       "      <td>Altcoin_Daily_20210401_ETH_to_CRUSH_Bitcoin_(T...</td>\n",
       "      <td>00:01:25.360</td>\n",
       "      <td>00:01:36.400</td>\n",
       "      <td>BTC</td>\n",
       "      <td>has a slightly more nuanced opinion than many ...</td>\n",
       "      <td>S A SLIGHTLY MORE NUANCED OPINION THAN MANY BI...</td>\n",
       "      <td>NaN</td>\n",
       "      <td>BTC</td>\n",
       "      <td>bearish</td>\n",
       "    </tr>\n",
       "    <tr>\n",
       "      <th>2</th>\n",
       "      <td>Altcoin_Daily_20210401_ETH_to_CRUSH_Bitcoin_(T...</td>\n",
       "      <td>00:01:59.920</td>\n",
       "      <td>00:02:09.679</td>\n",
       "      <td>ETH</td>\n",
       "      <td>be more um sound from a monetary perspective t...</td>\n",
       "      <td>MORE AM SOUND FROM A MONETARY PERSPECTIVE AN B...</td>\n",
       "      <td>NaN</td>\n",
       "      <td>ETH</td>\n",
       "      <td>bullish</td>\n",
       "    </tr>\n",
       "  </tbody>\n",
       "</table>\n",
       "</div>"
      ],
      "text/plain": [
       "                                       Podcast_Title    Start_Time  \\\n",
       "0  Altcoin_Daily_20210401_ETH_to_CRUSH_Bitcoin_(T...  00:00:19.760   \n",
       "1  Altcoin_Daily_20210401_ETH_to_CRUSH_Bitcoin_(T...  00:01:25.360   \n",
       "2  Altcoin_Daily_20210401_ETH_to_CRUSH_Bitcoin_(T...  00:01:59.920   \n",
       "\n",
       "       End_Time Auto_Label                             Youtube_Text_Corrected  \\\n",
       "0  00:00:27.920        BTC  could outperform bitcoin and is watching it ve...   \n",
       "1  00:01:36.400        BTC  has a slightly more nuanced opinion than many ...   \n",
       "2  00:02:09.679        ETH  be more um sound from a monetary perspective t...   \n",
       "\n",
       "  wav2vec2 without training (for aligning timestamps)  Wav2Vec_Text Coin  \\\n",
       "0  OD OUTPERFORM BITCOIN AND IS WATCHING IT VERY ...            NaN  BTC   \n",
       "1  S A SLIGHTLY MORE NUANCED OPINION THAN MANY BI...            NaN  BTC   \n",
       "2  MORE AM SOUND FROM A MONETARY PERSPECTIVE AN B...            NaN  ETH   \n",
       "\n",
       "  Sentiment  \n",
       "0   bearish  \n",
       "1   bearish  \n",
       "2   bullish  "
      ]
     },
     "execution_count": 53,
     "metadata": {},
     "output_type": "execute_result"
    }
   ],
   "source": [
    "df1 = df[0:3]\n",
    "\n",
    "df1"
   ]
  },
  {
   "cell_type": "code",
   "execution_count": 95,
   "id": "3c6375c7-31fb-4e5d-ace8-a6c921ed7992",
   "metadata": {},
   "outputs": [],
   "source": [
    "test = df1.apply(lambda x: get_audio_features_for_row(x, praat_path, clip_folder), axis=1)"
   ]
  },
  {
   "cell_type": "code",
   "execution_count": 96,
   "id": "b7542079-e0d3-4dce-8db3-d51c633e5209",
   "metadata": {},
   "outputs": [
    {
     "data": {
      "text/plain": [
       "0     [75.49299937040993, 572.3226176638742]\n",
       "1      [75.3789388242294, 530.3306332324117]\n",
       "2    [76.11226988325518, 456.05544717311994]\n",
       "dtype: object"
      ]
     },
     "execution_count": 96,
     "metadata": {},
     "output_type": "execute_result"
    }
   ],
   "source": [
    "test"
   ]
  },
  {
   "cell_type": "code",
   "execution_count": null,
   "id": "a08abf37-fe27-4632-a2f1-5ae6cca2a20e",
   "metadata": {},
   "outputs": [],
   "source": []
  }
 ],
 "metadata": {
  "kernelspec": {
   "display_name": "Python 3",
   "language": "python",
   "name": "python3"
  },
  "language_info": {
   "codemirror_mode": {
    "name": "ipython",
    "version": 3
   },
   "file_extension": ".py",
   "mimetype": "text/x-python",
   "name": "python",
   "nbconvert_exporter": "python",
   "pygments_lexer": "ipython3",
   "version": "3.9.5"
  }
 },
 "nbformat": 4,
 "nbformat_minor": 5
}
