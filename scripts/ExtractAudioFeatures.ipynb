{
 "cells": [
  {
   "cell_type": "code",
   "execution_count": 1,
   "id": "4aa2f53b-d60b-4094-9750-b3e431b9fce0",
   "metadata": {},
   "outputs": [],
   "source": [
    "import subprocess\n",
    "import numpy as np\n",
    "import pandas as pd\n",
    "import AudioFeatureExtraction"
   ]
  },
  {
   "cell_type": "code",
   "execution_count": 2,
   "id": "37e3f2e8-f31a-4572-927f-d508b2655a2e",
   "metadata": {},
   "outputs": [],
   "source": [
    "praat_path = \"C:\\\\Program Files\\\\Praat\\\\Praat.exe\""
   ]
  },
  {
   "cell_type": "code",
   "execution_count": 4,
   "id": "837868f6-8c13-4be1-9a98-4528674c310c",
   "metadata": {},
   "outputs": [],
   "source": [
    "file = \"D:\\\\nlp_project_d\\\\podcast_data\\\\extracted_clips\\\\test_podcast_00.00.20.080_00.00.28.160.wav\""
   ]
  },
  {
   "cell_type": "code",
   "execution_count": 5,
   "id": "ee741ae2-6669-48f6-b949-1ea6042e8b85",
   "metadata": {},
   "outputs": [
    {
     "name": "stdout",
     "output_type": "stream",
     "text": [
      "\u0000\u00005\u0000.\u00004\u00009\u00002\u00009\u00009\u00009\u00003\u00007\u00000\u00004\u00000\u00009\u00009\u00003\u0000\n",
      "\u00005\u00007\u00002\u0000.\u00003\u00002\u00002\u00006\u00001\u00007\u00006\u00006\u00003\u00008\u00007\u00004\u00002\u0000\n",
      "\u0000\n"
     ]
    }
   ],
   "source": [
    "test = subprocess.run([praat_path, \"--run\", \"Praat\\\\GetPitch.praat\", file], capture_output=True)\n",
    "print(test.stdout.decode(\"utf-8\"))"
   ]
  },
  {
   "cell_type": "code",
   "execution_count": 6,
   "id": "b12f626f-235b-4ce1-a1cd-9d7c1d5bd9a3",
   "metadata": {},
   "outputs": [
    {
     "data": {
      "text/html": [
       "<div>\n",
       "<style scoped>\n",
       "    .dataframe tbody tr th:only-of-type {\n",
       "        vertical-align: middle;\n",
       "    }\n",
       "\n",
       "    .dataframe tbody tr th {\n",
       "        vertical-align: top;\n",
       "    }\n",
       "\n",
       "    .dataframe thead th {\n",
       "        text-align: right;\n",
       "    }\n",
       "</style>\n",
       "<table border=\"1\" class=\"dataframe\">\n",
       "  <thead>\n",
       "    <tr style=\"text-align: right;\">\n",
       "      <th></th>\n",
       "      <th>Podcast_Title</th>\n",
       "      <th>Start_Time</th>\n",
       "      <th>End_Time</th>\n",
       "      <th>Auto_Label</th>\n",
       "      <th>Youtube_Text_Corrected</th>\n",
       "      <th>wav2vec2 without training (for aligning timestamps)</th>\n",
       "      <th>Wav2Vec_Text</th>\n",
       "      <th>Coin</th>\n",
       "      <th>Sentiment</th>\n",
       "    </tr>\n",
       "  </thead>\n",
       "  <tbody>\n",
       "    <tr>\n",
       "      <th>0</th>\n",
       "      <td>Altcoin_Daily_20210401_ETH_to_CRUSH_Bitcoin_(T...</td>\n",
       "      <td>00:00:19.760</td>\n",
       "      <td>00:00:27.920</td>\n",
       "      <td>BTC</td>\n",
       "      <td>could outperform bitcoin and is watching it ve...</td>\n",
       "      <td>OD OUTPERFORM BITCOIN AND IS WATCHING IT VERY ...</td>\n",
       "      <td>NaN</td>\n",
       "      <td>BTC</td>\n",
       "      <td>bearish</td>\n",
       "    </tr>\n",
       "    <tr>\n",
       "      <th>1</th>\n",
       "      <td>Altcoin_Daily_20210401_ETH_to_CRUSH_Bitcoin_(T...</td>\n",
       "      <td>00:01:25.360</td>\n",
       "      <td>00:01:36.400</td>\n",
       "      <td>BTC</td>\n",
       "      <td>has a slightly more nuanced opinion than many ...</td>\n",
       "      <td>S A SLIGHTLY MORE NUANCED OPINION THAN MANY BI...</td>\n",
       "      <td>NaN</td>\n",
       "      <td>BTC</td>\n",
       "      <td>bearish</td>\n",
       "    </tr>\n",
       "    <tr>\n",
       "      <th>2</th>\n",
       "      <td>Altcoin_Daily_20210401_ETH_to_CRUSH_Bitcoin_(T...</td>\n",
       "      <td>00:01:59.920</td>\n",
       "      <td>00:02:09.679</td>\n",
       "      <td>ETH</td>\n",
       "      <td>be more um sound from a monetary perspective t...</td>\n",
       "      <td>MORE AM SOUND FROM A MONETARY PERSPECTIVE AN B...</td>\n",
       "      <td>NaN</td>\n",
       "      <td>ETH</td>\n",
       "      <td>bullish</td>\n",
       "    </tr>\n",
       "    <tr>\n",
       "      <th>3</th>\n",
       "      <td>Altcoin_Daily_20210401_ETH_to_CRUSH_Bitcoin_(T...</td>\n",
       "      <td>00:02:27.680</td>\n",
       "      <td>00:02:34.160</td>\n",
       "      <td>ETH</td>\n",
       "      <td>so in bitcoin hard forks are extremely rare so...</td>\n",
       "      <td>AND BECO AND HARDFORK'SARE EXTREMELY RARE IN A...</td>\n",
       "      <td>NaN</td>\n",
       "      <td>ETH</td>\n",
       "      <td>bearish</td>\n",
       "    </tr>\n",
       "    <tr>\n",
       "      <th>4</th>\n",
       "      <td>Altcoin_Daily_20210401_ETH_to_CRUSH_Bitcoin_(T...</td>\n",
       "      <td>00:03:47.200</td>\n",
       "      <td>00:03:55.920</td>\n",
       "      <td>ETH</td>\n",
       "      <td>market and but nevertheless the minority a hun...</td>\n",
       "      <td>BUT NEVERTHELESS THE MINORITY AA HUNDRED PER C...</td>\n",
       "      <td>NaN</td>\n",
       "      <td>ETH</td>\n",
       "      <td>bullish</td>\n",
       "    </tr>\n",
       "  </tbody>\n",
       "</table>\n",
       "</div>"
      ],
      "text/plain": [
       "                                       Podcast_Title    Start_Time  \\\n",
       "0  Altcoin_Daily_20210401_ETH_to_CRUSH_Bitcoin_(T...  00:00:19.760   \n",
       "1  Altcoin_Daily_20210401_ETH_to_CRUSH_Bitcoin_(T...  00:01:25.360   \n",
       "2  Altcoin_Daily_20210401_ETH_to_CRUSH_Bitcoin_(T...  00:01:59.920   \n",
       "3  Altcoin_Daily_20210401_ETH_to_CRUSH_Bitcoin_(T...  00:02:27.680   \n",
       "4  Altcoin_Daily_20210401_ETH_to_CRUSH_Bitcoin_(T...  00:03:47.200   \n",
       "\n",
       "       End_Time Auto_Label                             Youtube_Text_Corrected  \\\n",
       "0  00:00:27.920        BTC  could outperform bitcoin and is watching it ve...   \n",
       "1  00:01:36.400        BTC  has a slightly more nuanced opinion than many ...   \n",
       "2  00:02:09.679        ETH  be more um sound from a monetary perspective t...   \n",
       "3  00:02:34.160        ETH  so in bitcoin hard forks are extremely rare so...   \n",
       "4  00:03:55.920        ETH  market and but nevertheless the minority a hun...   \n",
       "\n",
       "  wav2vec2 without training (for aligning timestamps)  Wav2Vec_Text Coin  \\\n",
       "0  OD OUTPERFORM BITCOIN AND IS WATCHING IT VERY ...            NaN  BTC   \n",
       "1  S A SLIGHTLY MORE NUANCED OPINION THAN MANY BI...            NaN  BTC   \n",
       "2  MORE AM SOUND FROM A MONETARY PERSPECTIVE AN B...            NaN  ETH   \n",
       "3  AND BECO AND HARDFORK'SARE EXTREMELY RARE IN A...            NaN  ETH   \n",
       "4  BUT NEVERTHELESS THE MINORITY AA HUNDRED PER C...            NaN  ETH   \n",
       "\n",
       "  Sentiment  \n",
       "0   bearish  \n",
       "1   bearish  \n",
       "2   bullish  \n",
       "3   bearish  \n",
       "4   bullish  "
      ]
     },
     "execution_count": 6,
     "metadata": {},
     "output_type": "execute_result"
    }
   ],
   "source": [
    "df_file = \"C:\\\\Users\\\\Tristan\\\\nlp_project\\\\Sentiment_Labelling_210702.xlsx\"\n",
    "\n",
    "\n",
    "df = pd.read_excel(df_file)\n",
    "\n",
    "df[\"Podcast_Title\"] = df[\"Podcast_Title\"].apply(lambda x: x.replace(\" \", \"_\").replace(\":\", \"_\"))\n",
    "\n",
    "df.head()"
   ]
  },
  {
   "cell_type": "code",
   "execution_count": 7,
   "id": "3119e55b-bfaf-4b97-a096-73d015aefa3d",
   "metadata": {},
   "outputs": [],
   "source": [
    "audio_folder = \"D:\\\\nlp_project_d\\\\podcast_data\\\\labelling\\\\batch_1_altcoin\"\n",
    "clip_folder = \"D:\\\\nlp_project_d\\\\podcast_data\\\\extracted_clips\""
   ]
  },
  {
   "cell_type": "code",
   "execution_count": null,
   "id": "7d29dc06-08d9-4e52-8b4f-b240ed2dd78b",
   "metadata": {},
   "outputs": [],
   "source": [
    "\n",
    "\n",
    "AudioFeatureExtraction.extract_clips_from_data_frame(df[0:3], audio_folder, clip_folder, correct_file_extension=True)\n",
    "\n",
    "print(\"finished\")"
   ]
  },
  {
   "cell_type": "code",
   "execution_count": 22,
   "id": "5e69c1ab-d6b0-4973-b8f9-c25954087953",
   "metadata": {},
   "outputs": [],
   "source": [
    "def get_audio_features(audio_file, praat_path, praat_script=\"Praat\\\\GetAudioFeatures.praat\"):\n",
    "    result = subprocess.run([praat_path, \"--run\", praat_script, audio_file], capture_output=True)\n",
    "    print(result)\n",
    "    result_str = result.stdout.decode(\"utf-16\")\n",
    "    print(result_str)\n",
    "    #print(repr(result_str))\n",
    "    result_arr = result_str.split(\"\\r\\n\")\n",
    "    return result_arr[:-1]\n",
    "\n",
    "def get_audio_features_for_row(row, praat_path, clip_folder):\n",
    "    clip_file = clip_folder + \"\\\\\" + AudioFeatureExtraction.get_audio_clip_name_by_data_row(row, correct_file_extension=True)[0]\n",
    "    return get_audio_features(clip_file, praat_path)"
   ]
  },
  {
   "cell_type": "code",
   "execution_count": 23,
   "id": "e2748696-a3f4-44c0-8507-59fb53c78877",
   "metadata": {},
   "outputs": [
    {
     "name": "stdout",
     "output_type": "stream",
     "text": [
      "CompletedProcess(args=['C:\\\\Program Files\\\\Praat\\\\Praat.exe', '--run', 'Praat\\\\GetAudioFeatures.praat', 'D:\\\\nlp_project_d\\\\podcast_data\\\\extracted_clips\\\\Altcoin_Daily_20210401_ETH_to_CRUSH_Bitcoin_(Top_Expert_Prediction)_Bitcoin_Proponent_EXPLAINS_on_Lex_Fridman_Podcast_00.00.19.760_00.00.27.920.wav'], returncode=4294967295, stdout=b'', stderr=b'E\\x00r\\x00r\\x00o\\x00r\\x00:\\x00 \\x00C\\x00a\\x00n\\x00n\\x00o\\x00t\\x00 \\x00a\\x00d\\x00d\\x00 \\x00a\\x00 \\x00s\\x00t\\x00r\\x00i\\x00n\\x00g\\x00 \\x00t\\x00o\\x00 \\x00a\\x00 \\x00n\\x00u\\x00m\\x00b\\x00e\\x00r\\x00.\\x00\\r\\x00\\n\\x00F\\x00o\\x00r\\x00m\\x00u\\x00l\\x00a\\x00 \\x00n\\x00o\\x00t\\x00 \\x00r\\x00u\\x00n\\x00.\\x00\\r\\x00\\n\\x00S\\x00c\\x00r\\x00i\\x00p\\x00t\\x00 \\x00l\\x00i\\x00n\\x00e\\x00 \\x001\\x000\\x00 \\x00n\\x00o\\x00t\\x00 \\x00p\\x00e\\x00r\\x00f\\x00o\\x00r\\x00m\\x00e\\x00d\\x00 \\x00o\\x00r\\x00 \\x00c\\x00o\\x00m\\x00p\\x00l\\x00e\\x00t\\x00e\\x00d\\x00:\\x00\\r\\x00\\n\\x00\\xab\\x00 \\x00w\\x00r\\x00i\\x00t\\x00e\\x00I\\x00n\\x00f\\x00o\\x00L\\x00i\\x00n\\x00e\\x00:\\x00 \\x00m\\x00i\\x00n\\x00_\\x00p\\x00 \\x00+\\x00 \\x00\"\\x00,\\x00\"\\x00 \\x00+\\x00 \\x00m\\x00a\\x00x\\x00_\\x00p\\x00 \\x00\\xbb\\x00\\r\\x00\\n\\x00S\\x00c\\x00r\\x00i\\x00p\\x00t\\x00 \\x00\\x1c C\\x00:\\x00\\\\\\x00U\\x00s\\x00e\\x00r\\x00s\\x00\\\\\\x00T\\x00r\\x00i\\x00s\\x00t\\x00a\\x00n\\x00\\\\\\x00n\\x00l\\x00p\\x00_\\x00p\\x00r\\x00o\\x00j\\x00e\\x00c\\x00t\\x00\\\\\\x00m\\x00a\\x00r\\x002\\x00m\\x00o\\x00o\\x00n\\x00\\\\\\x00s\\x00c\\x00r\\x00i\\x00p\\x00t\\x00s\\x00\\\\\\x00P\\x00r\\x00a\\x00a\\x00t\\x00\\\\\\x00G\\x00e\\x00t\\x00A\\x00u\\x00d\\x00i\\x00o\\x00F\\x00e\\x00a\\x00t\\x00u\\x00r\\x00e\\x00s\\x00.\\x00p\\x00r\\x00a\\x00a\\x00t\\x00\\x1d  \\x00n\\x00o\\x00t\\x00 \\x00c\\x00o\\x00m\\x00p\\x00l\\x00e\\x00t\\x00e\\x00d\\x00.\\x00\\r\\x00\\n\\x00P\\x00r\\x00a\\x00a\\x00t\\x00:\\x00 \\x00s\\x00c\\x00r\\x00i\\x00p\\x00t\\x00 \\x00c\\x00o\\x00m\\x00m\\x00a\\x00n\\x00d\\x00 \\x00<\\x00<\\x00P\\x00r\\x00a\\x00a\\x00t\\x00\\\\\\x00G\\x00e\\x00t\\x00A\\x00u\\x00d\\x00i\\x00o\\x00F\\x00e\\x00a\\x00t\\x00u\\x00r\\x00e\\x00s\\x00.\\x00p\\x00r\\x00a\\x00a\\x00t\\x00 \\x00D\\x00:\\x00\\\\\\x00n\\x00l\\x00p\\x00_\\x00p\\x00r\\x00o\\x00j\\x00e\\x00c\\x00t\\x00_\\x00d\\x00\\\\\\x00p\\x00o\\x00d\\x00c\\x00a\\x00s\\x00t\\x00_\\x00d\\x00a\\x00t\\x00a\\x00\\\\\\x00e\\x00x\\x00t\\x00r\\x00a\\x00c\\x00t\\x00e\\x00d\\x00_\\x00c\\x00l\\x00i\\x00p\\x00s\\x00\\\\\\x00A\\x00l\\x00t\\x00c\\x00o\\x00i\\x00n\\x00_\\x00D\\x00a\\x00i\\x00l\\x00y\\x00_\\x002\\x000\\x002\\x001\\x000\\x004\\x000\\x001\\x00_\\x00E\\x00T\\x00H\\x00_\\x00t\\x00o\\x00_\\x00C\\x00R\\x00U\\x00S\\x00H\\x00_\\x00B\\x00i\\x00t\\x00c\\x00o\\x00i\\x00n\\x00_\\x00(\\x00T\\x00o\\x00p\\x00_\\x00E\\x00x\\x00p\\x00e\\x00r\\x00t\\x00_\\x00P\\x00r\\x00e\\x00d\\x00i\\x00c\\x00t\\x00i\\x00o\\x00n\\x00)\\x00_\\x00B\\x00i\\x00t\\x00c\\x00o\\x00i\\x00n\\x00_\\x00P\\x00r\\x00o\\x00p\\x00o\\x00n\\x00e\\x00n\\x00t\\x00_\\x00E\\x00X\\x00P\\x00L\\x00A\\x00I\\x00N\\x00S\\x00_\\x00o\\x00n\\x00_\\x00L\\x00e\\x00x\\x00_\\x00F\\x00r\\x00i\\x00d\\x00m\\x00a\\x00n\\x00_\\x00P\\x00o\\x00d\\x00c\\x00a\\x00s\\x00t\\x00_\\x000\\x000\\x00.\\x000\\x000\\x00.\\x001\\x009\\x00.\\x007\\x006\\x000\\x00_\\x000\\x000\\x00.\\x000\\x000\\x00.\\x002\\x007\\x00.\\x009\\x002\\x000\\x00.\\x00w\\x00a\\x00v\\x00>\\x00>\\x00 \\x00n\\x00o\\x00t\\x00 \\x00c\\x00o\\x00m\\x00p\\x00l\\x00e\\x00t\\x00e\\x00d\\x00.\\x00\\r\\x00\\n\\x00\\r\\x00\\n\\x00')\n",
      "\n"
     ]
    },
    {
     "data": {
      "text/plain": [
       "[]"
      ]
     },
     "execution_count": 23,
     "metadata": {},
     "output_type": "execute_result"
    }
   ],
   "source": [
    "clip_name, title =  AudioFeatureExtraction.get_audio_clip_name_by_data_row(df.iloc[0], correct_file_extension=True)\n",
    "clip_file = clip_folder + \"\\\\\" + clip_name\n",
    "features = get_audio_features(clip_file, praat_path)\n",
    "features"
   ]
  },
  {
   "cell_type": "code",
   "execution_count": 17,
   "id": "60060252-9e71-4804-80ff-bccf4ef44ae7",
   "metadata": {},
   "outputs": [
    {
     "data": {
      "text/html": [
       "<div>\n",
       "<style scoped>\n",
       "    .dataframe tbody tr th:only-of-type {\n",
       "        vertical-align: middle;\n",
       "    }\n",
       "\n",
       "    .dataframe tbody tr th {\n",
       "        vertical-align: top;\n",
       "    }\n",
       "\n",
       "    .dataframe thead th {\n",
       "        text-align: right;\n",
       "    }\n",
       "</style>\n",
       "<table border=\"1\" class=\"dataframe\">\n",
       "  <thead>\n",
       "    <tr style=\"text-align: right;\">\n",
       "      <th></th>\n",
       "      <th>Podcast_Title</th>\n",
       "      <th>Start_Time</th>\n",
       "      <th>End_Time</th>\n",
       "      <th>Auto_Label</th>\n",
       "      <th>Youtube_Text_Corrected</th>\n",
       "      <th>wav2vec2 without training (for aligning timestamps)</th>\n",
       "      <th>Wav2Vec_Text</th>\n",
       "      <th>Coin</th>\n",
       "      <th>Sentiment</th>\n",
       "    </tr>\n",
       "  </thead>\n",
       "  <tbody>\n",
       "    <tr>\n",
       "      <th>0</th>\n",
       "      <td>Altcoin_Daily_20210401_ETH_to_CRUSH_Bitcoin_(T...</td>\n",
       "      <td>00:00:19.760</td>\n",
       "      <td>00:00:27.920</td>\n",
       "      <td>BTC</td>\n",
       "      <td>could outperform bitcoin and is watching it ve...</td>\n",
       "      <td>OD OUTPERFORM BITCOIN AND IS WATCHING IT VERY ...</td>\n",
       "      <td>NaN</td>\n",
       "      <td>BTC</td>\n",
       "      <td>bearish</td>\n",
       "    </tr>\n",
       "    <tr>\n",
       "      <th>1</th>\n",
       "      <td>Altcoin_Daily_20210401_ETH_to_CRUSH_Bitcoin_(T...</td>\n",
       "      <td>00:01:25.360</td>\n",
       "      <td>00:01:36.400</td>\n",
       "      <td>BTC</td>\n",
       "      <td>has a slightly more nuanced opinion than many ...</td>\n",
       "      <td>S A SLIGHTLY MORE NUANCED OPINION THAN MANY BI...</td>\n",
       "      <td>NaN</td>\n",
       "      <td>BTC</td>\n",
       "      <td>bearish</td>\n",
       "    </tr>\n",
       "    <tr>\n",
       "      <th>2</th>\n",
       "      <td>Altcoin_Daily_20210401_ETH_to_CRUSH_Bitcoin_(T...</td>\n",
       "      <td>00:01:59.920</td>\n",
       "      <td>00:02:09.679</td>\n",
       "      <td>ETH</td>\n",
       "      <td>be more um sound from a monetary perspective t...</td>\n",
       "      <td>MORE AM SOUND FROM A MONETARY PERSPECTIVE AN B...</td>\n",
       "      <td>NaN</td>\n",
       "      <td>ETH</td>\n",
       "      <td>bullish</td>\n",
       "    </tr>\n",
       "  </tbody>\n",
       "</table>\n",
       "</div>"
      ],
      "text/plain": [
       "                                       Podcast_Title    Start_Time  \\\n",
       "0  Altcoin_Daily_20210401_ETH_to_CRUSH_Bitcoin_(T...  00:00:19.760   \n",
       "1  Altcoin_Daily_20210401_ETH_to_CRUSH_Bitcoin_(T...  00:01:25.360   \n",
       "2  Altcoin_Daily_20210401_ETH_to_CRUSH_Bitcoin_(T...  00:01:59.920   \n",
       "\n",
       "       End_Time Auto_Label                             Youtube_Text_Corrected  \\\n",
       "0  00:00:27.920        BTC  could outperform bitcoin and is watching it ve...   \n",
       "1  00:01:36.400        BTC  has a slightly more nuanced opinion than many ...   \n",
       "2  00:02:09.679        ETH  be more um sound from a monetary perspective t...   \n",
       "\n",
       "  wav2vec2 without training (for aligning timestamps)  Wav2Vec_Text Coin  \\\n",
       "0  OD OUTPERFORM BITCOIN AND IS WATCHING IT VERY ...            NaN  BTC   \n",
       "1  S A SLIGHTLY MORE NUANCED OPINION THAN MANY BI...            NaN  BTC   \n",
       "2  MORE AM SOUND FROM A MONETARY PERSPECTIVE AN B...            NaN  ETH   \n",
       "\n",
       "  Sentiment  \n",
       "0   bearish  \n",
       "1   bearish  \n",
       "2   bullish  "
      ]
     },
     "execution_count": 17,
     "metadata": {},
     "output_type": "execute_result"
    }
   ],
   "source": [
    "df1 = df[0:3]\n",
    "\n",
    "df1"
   ]
  },
  {
   "cell_type": "code",
   "execution_count": 18,
   "id": "3c6375c7-31fb-4e5d-ace8-a6c921ed7992",
   "metadata": {},
   "outputs": [
    {
     "name": "stdout",
     "output_type": "stream",
     "text": [
      "C:\\Program Files\\Praat\\Praat.exe\n",
      "Praat\\GetAudioFeatures.praat\n",
      "\n",
      "C:\\Program Files\\Praat\\Praat.exe\n",
      "Praat\\GetAudioFeatures.praat\n",
      "\n",
      "C:\\Program Files\\Praat\\Praat.exe\n",
      "Praat\\GetAudioFeatures.praat\n",
      "\n"
     ]
    }
   ],
   "source": [
    "test = df1.apply(lambda x: get_audio_features_for_row(x, praat_path, clip_folder), axis=1)"
   ]
  },
  {
   "cell_type": "code",
   "execution_count": 19,
   "id": "b7542079-e0d3-4dce-8db3-d51c633e5209",
   "metadata": {},
   "outputs": [
    {
     "data": {
      "text/plain": [
       "0    []\n",
       "1    []\n",
       "2    []\n",
       "dtype: object"
      ]
     },
     "execution_count": 19,
     "metadata": {},
     "output_type": "execute_result"
    }
   ],
   "source": [
    "test"
   ]
  },
  {
   "cell_type": "code",
   "execution_count": null,
   "id": "a08abf37-fe27-4632-a2f1-5ae6cca2a20e",
   "metadata": {},
   "outputs": [],
   "source": []
  }
 ],
 "metadata": {
  "kernelspec": {
   "display_name": "Python 3",
   "language": "python",
   "name": "python3"
  },
  "language_info": {
   "codemirror_mode": {
    "name": "ipython",
    "version": 3
   },
   "file_extension": ".py",
   "mimetype": "text/x-python",
   "name": "python",
   "nbconvert_exporter": "python",
   "pygments_lexer": "ipython3",
   "version": "3.9.5"
  }
 },
 "nbformat": 4,
 "nbformat_minor": 5
}
