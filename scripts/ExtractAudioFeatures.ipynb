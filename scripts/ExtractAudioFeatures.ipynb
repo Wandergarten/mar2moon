{
 "cells": [
  {
   "cell_type": "code",
   "execution_count": 1,
   "id": "4aa2f53b-d60b-4094-9750-b3e431b9fce0",
   "metadata": {},
   "outputs": [],
   "source": [
    "import subprocess"
   ]
  },
  {
   "cell_type": "code",
   "execution_count": 8,
   "id": "37e3f2e8-f31a-4572-927f-d508b2655a2e",
   "metadata": {},
   "outputs": [],
   "source": [
    "praat_path = \"C:\\\\Program Files\\\\Praat\\\\Praat.exe\""
   ]
  },
  {
   "cell_type": "code",
   "execution_count": 20,
   "id": "837868f6-8c13-4be1-9a98-4528674c310c",
   "metadata": {},
   "outputs": [],
   "source": [
    "file = \"C:\\\\Users\\\\Tristan\\\\nlp_project\\\\mar2moon\\\\scripts\\\\test_podcast_00.00.20.080_00.00.28.160.wav\"\n",
    "file2 = \"D:\\\\nlp_project_d\\\\podcast_data\\\\extracted_clips\\\\test_podcast_00.00.20.080_00.00.28.160.wav\""
   ]
  },
  {
   "cell_type": "code",
   "execution_count": 21,
   "id": "ee741ae2-6669-48f6-b949-1ea6042e8b85",
   "metadata": {},
   "outputs": [
    {
     "name": "stdout",
     "output_type": "stream",
     "text": [
      "\u0000\u00005\u0000.\u00004\u00009\u00002\u00009\u00009\u00009\u00003\u00007\u00000\u00004\u00000\u00009\u00009\u00003\u0000\n",
      "\u00005\u00007\u00002\u0000.\u00003\u00002\u00002\u00006\u00001\u00007\u00006\u00006\u00003\u00008\u00007\u00004\u00002\u0000\n",
      "\u0000\n"
     ]
    }
   ],
   "source": [
    "test = subprocess.run([praat_path, \"--run\", \"Praat\\\\GetPitch.praat\", file2], capture_output=True)\n",
    "print(test.stdout.decode(\"utf-8\"))"
   ]
  },
  {
   "cell_type": "code",
   "execution_count": null,
   "id": "b12f626f-235b-4ce1-a1cd-9d7c1d5bd9a3",
   "metadata": {},
   "outputs": [],
   "source": []
  }
 ],
 "metadata": {
  "kernelspec": {
   "display_name": "Python 3",
   "language": "python",
   "name": "python3"
  },
  "language_info": {
   "codemirror_mode": {
    "name": "ipython",
    "version": 3
   },
   "file_extension": ".py",
   "mimetype": "text/x-python",
   "name": "python",
   "nbconvert_exporter": "python",
   "pygments_lexer": "ipython3",
   "version": "3.9.5"
  }
 },
 "nbformat": 4,
 "nbformat_minor": 5
}
