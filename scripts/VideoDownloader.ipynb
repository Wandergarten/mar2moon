{
 "cells": [
  {
   "cell_type": "code",
   "execution_count": 2,
   "id": "70785f5f-cf9d-43f4-97a8-bd8655e5b3d3",
   "metadata": {},
   "outputs": [],
   "source": [
    "import os\n",
    "import subprocess\n",
    "from __future__ import unicode_literals\n",
    "import youtube_dl"
   ]
  },
  {
   "cell_type": "code",
   "execution_count": null,
   "id": "965216cb-6569-45cd-999e-dd728f7e8cd2",
   "metadata": {},
   "outputs": [],
   "source": [
    "def download_playlist(url, start_date=None, end_date=None, max_videos=0):\n",
    "    \"\"\"Downloads videos from a Youtube playlist.\n",
    "    \n",
    "    Parameters\n",
    "    ----------\n",
    "    url : str\n",
    "        Playlist URL.\n",
    "    start_date : str\n",
    "        Only download videos uploaded on and after this date. Date format: YYYYMMDD.\n",
    "    end_date : str\n",
    "        Only download videos uploaded until this date. Date format: YYYYMMDD.\n",
    "    \n",
    "    \"\"\"\n",
    "    \n",
    "    calls = [\"youtube-dl\", \"-x\", \"--audio-format\", \"wav\", \n",
    "             \"--write-auto-sub\", \"--convert-subs=vtt\",\n",
    "             \"--yes-playlist\"]\n",
    "    \n",
    "    if start_date is not None:\n",
    "        calls.append(f\"--dateafter {start_date}\")\n",
    "    if end_date is not None:\n",
    "        calls.append(f\"--datebefore {end_date}\")\n",
    "    if max_videos > 0:\n",
    "        calls.append(f\"--max-downloads {max_videos}\")\n",
    "        \n",
    "    calls.append(\"-o %(channel)s_%(upload_date)s_%(title)s.%(ext)s\")\n",
    "    \n",
    "    calls.append(url)\n",
    "    \n",
    "    subprocess.call(calls)"
   ]
  },
  {
   "cell_type": "code",
   "execution_count": 3,
   "id": "a9064354-82c9-40aa-b2fd-c9f798752978",
   "metadata": {},
   "outputs": [],
   "source": [
    "# wip\n",
    "\n",
    "class YTDLLogger(object):\n",
    "    def debug(self, msg):\n",
    "        pass\n",
    "\n",
    "    def warning(self, msg):\n",
    "        pass\n",
    "\n",
    "    def error(self, msg):\n",
    "        print(msg)\n",
    "\n",
    "\n",
    "def yt_dl_hook(d):\n",
    "    if d['status'] == 'finished':\n",
    "        print('Done downloading, now converting ...')\n",
    "\n",
    "def download_playlist_ytdl(url, max_videos, start_date, end_date):\n",
    "    ydl_opts = {\n",
    "        'format': 'bestaudio/best',\n",
    "        'postprocessors': [{\n",
    "            'key': 'FFmpegExtractAudio',\n",
    "            'preferredcodec': 'mp3',\n",
    "            'preferredquality': '192',\n",
    "        }],\n",
    "        'logger': YTDLLogger(),\n",
    "        'progress_hooks': [yt_dl_hook],\n",
    "    }\n",
    "    with youtube_dl.YoutubeDL(ydl_opts) as ydl:\n",
    "        ydl.download(['https://www.youtube.com/watch?v=BaW_jenozKc'])"
   ]
  },
  {
   "cell_type": "code",
   "execution_count": null,
   "id": "571043c8-ae66-4efd-9c91-270596e42868",
   "metadata": {},
   "outputs": [],
   "source": []
  }
 ],
 "metadata": {
  "kernelspec": {
   "display_name": "Python 3",
   "language": "python",
   "name": "python3"
  },
  "language_info": {
   "codemirror_mode": {
    "name": "ipython",
    "version": 3
   },
   "file_extension": ".py",
   "mimetype": "text/x-python",
   "name": "python",
   "nbconvert_exporter": "python",
   "pygments_lexer": "ipython3",
   "version": "3.9.5"
  }
 },
 "nbformat": 4,
 "nbformat_minor": 5
}
