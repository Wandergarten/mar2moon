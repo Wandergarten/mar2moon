{
 "cells": [
  {
   "cell_type": "code",
   "execution_count": null,
   "id": "390f5fb7",
   "metadata": {
    "collapsed": false,
    "jupyter": {
     "outputs_hidden": false
    },
    "pycharm": {
     "name": "#%%\n"
    }
   },
   "outputs": [],
   "source": [
    "!pip install datasets==1.4.1\n",
    "!pip install transformers==4.4.0\n",
    "!pip install soundfile\n",
    "!pip install jiwer"
   ]
  },
  {
   "cell_type": "code",
   "execution_count": 1,
   "id": "a59b1a6e",
   "metadata": {
    "collapsed": false,
    "jupyter": {
     "outputs_hidden": false
    },
    "pycharm": {
     "name": "#%%\n"
    }
   },
   "outputs": [
    {
     "name": "stderr",
     "output_type": "stream",
     "text": [
      "C:\\Users\\Tristan\\nlp_project\\mar2moon\\scripts\\CryptoSentimentAnalysis.py:184: SyntaxWarning: assertion is always true, perhaps remove parentheses?\n",
      "  assert (sampling_rate == 16_000, \"Sampling rate was not 16k.\")\n"
     ]
    }
   ],
   "source": [
    "from CryptoSentimentAnalysis import SentimentAnalysisPipeline"
   ]
  },
  {
   "cell_type": "code",
   "execution_count": 2,
   "id": "e6f21c9c-4cda-4b72-80a7-6f63345356e9",
   "metadata": {},
   "outputs": [],
   "source": [
    "audio_folder = \"D:\\\\nlp_project_d\\\\main_method_testing\\\\audio_files_1\"\n",
    "clips_folder = \"D:\\\\nlp_project_d\\\\main_method_testing\\\\extracted_clips\"\n",
    "praat_path = \"C:\\\\Program Files\\\\Praat\\\\Praat.exe\""
   ]
  },
  {
   "cell_type": "code",
   "execution_count": 3,
   "id": "0b84785b-427c-41e6-91fa-813f24d75eb8",
   "metadata": {
    "pycharm": {
     "name": "#%%\n"
    }
   },
   "outputs": [
    {
     "name": "stdout",
     "output_type": "stream",
     "text": [
      "Downloading standard Wav2Vec model and processor\n",
      "Clips extracted\n",
      "Text extracted\n",
      "Text labelled with coins\n",
      "Audio features extracted\n"
     ]
    }
   ],
   "source": [
    "pipeline = SentimentAnalysisPipeline(audio_files_folder=audio_folder,\n",
    "                                     clips_folder=clips_folder,\n",
    "                                     praat_path=praat_path)\n",
    "\n",
    "df = pipeline.get_sentiments(start_date=\"20210201\", end_date=\"20210401\")"
   ]
  },
  {
   "cell_type": "code",
   "execution_count": 4,
   "id": "e37fed4c-d78b-4874-b305-d865195a6af3",
   "metadata": {},
   "outputs": [
    {
     "data": {
      "text/html": [
       "<div>\n",
       "<style scoped>\n",
       "    .dataframe tbody tr th:only-of-type {\n",
       "        vertical-align: middle;\n",
       "    }\n",
       "\n",
       "    .dataframe tbody tr th {\n",
       "        vertical-align: top;\n",
       "    }\n",
       "\n",
       "    .dataframe thead th {\n",
       "        text-align: right;\n",
       "    }\n",
       "</style>\n",
       "<table border=\"1\" class=\"dataframe\">\n",
       "  <thead>\n",
       "    <tr style=\"text-align: right;\">\n",
       "      <th></th>\n",
       "      <th>Date</th>\n",
       "      <th>Author</th>\n",
       "      <th>Title</th>\n",
       "      <th>Coin</th>\n",
       "      <th>Sentiment</th>\n",
       "    </tr>\n",
       "  </thead>\n",
       "  <tbody>\n",
       "    <tr>\n",
       "      <th>0</th>\n",
       "      <td>20210401</td>\n",
       "      <td>Altcoin_Daily</td>\n",
       "      <td>ETH_to_CRUSH_Bitcoin_(Top_Expert_Prediction)_B...</td>\n",
       "      <td>ETH</td>\n",
       "      <td>neutral</td>\n",
       "    </tr>\n",
       "    <tr>\n",
       "      <th>1</th>\n",
       "      <td>20210401</td>\n",
       "      <td>Altcoin_Daily</td>\n",
       "      <td>ETH_to_CRUSH_Bitcoin_(Top_Expert_Prediction)_B...</td>\n",
       "      <td>ETH</td>\n",
       "      <td>neutral</td>\n",
       "    </tr>\n",
       "    <tr>\n",
       "      <th>2</th>\n",
       "      <td>20210401</td>\n",
       "      <td>Altcoin_Daily</td>\n",
       "      <td>ETH_to_CRUSH_Bitcoin_(Top_Expert_Prediction)_B...</td>\n",
       "      <td>ETH</td>\n",
       "      <td>neutral</td>\n",
       "    </tr>\n",
       "  </tbody>\n",
       "</table>\n",
       "</div>"
      ],
      "text/plain": [
       "       Date         Author                                              Title  \\\n",
       "0  20210401  Altcoin_Daily  ETH_to_CRUSH_Bitcoin_(Top_Expert_Prediction)_B...   \n",
       "1  20210401  Altcoin_Daily  ETH_to_CRUSH_Bitcoin_(Top_Expert_Prediction)_B...   \n",
       "2  20210401  Altcoin_Daily  ETH_to_CRUSH_Bitcoin_(Top_Expert_Prediction)_B...   \n",
       "\n",
       "  Coin Sentiment  \n",
       "0  ETH   neutral  \n",
       "1  ETH   neutral  \n",
       "2  ETH   neutral  "
      ]
     },
     "execution_count": 4,
     "metadata": {},
     "output_type": "execute_result"
    }
   ],
   "source": [
    "df"
   ]
  },
  {
   "cell_type": "code",
   "execution_count": 3,
   "id": "8753b0a6-7a7e-49a1-8c34-ef15af40b03e",
   "metadata": {},
   "outputs": [],
   "source": [
    "audio_folder_dl_test = \"D:\\\\nlp_project_d\\\\main_method_testing\\\\audio_files_dl_test\"\n",
    "video_urls = [\"https://www.youtube.com/watch?v=6qoiMnVlitQ\"]\n",
    "playlist_urls = [\"https://www.youtube.com/watch?v=yNkCVKzjv7A&list=UUbLhGKVY-bJPcawebgtNfbw\"]"
   ]
  },
  {
   "cell_type": "code",
   "execution_count": 4,
   "id": "e82f3d57-b736-4f1a-97a7-f94f3a7e4b6a",
   "metadata": {},
   "outputs": [
    {
     "name": "stdout",
     "output_type": "stream",
     "text": [
      "Downloading standard Wav2Vec model and processor\n"
     ]
    }
   ],
   "source": [
    "\n",
    "pipeline_dl_test = SentimentAnalysisPipeline(audio_files_folder=audio_folder_dl_test,\n",
    "                                     clips_folder=clips_folder,\n",
    "                                     praat_path=praat_path)"
   ]
  },
  {
   "cell_type": "code",
   "execution_count": 5,
   "id": "e659c7fc-89c5-44ac-ba6c-9e0f05194dc0",
   "metadata": {},
   "outputs": [
    {
     "name": "stdout",
     "output_type": "stream",
     "text": [
      "Download finished\n",
      "Clips extracted\n",
      "Text extracted\n",
      "Text labelled with coins\n",
      "Audio features extracted\n"
     ]
    }
   ],
   "source": [
    "df_1 = pipeline_dl_test.get_sentiments(video_urls=video_urls, start_date=\"20210630\", end_date=\"20210630\")"
   ]
  },
  {
   "cell_type": "code",
   "execution_count": 6,
   "id": "427d91e1-489c-44bd-99ed-7263434c1699",
   "metadata": {},
   "outputs": [
    {
     "data": {
      "text/html": [
       "<div>\n",
       "<style scoped>\n",
       "    .dataframe tbody tr th:only-of-type {\n",
       "        vertical-align: middle;\n",
       "    }\n",
       "\n",
       "    .dataframe tbody tr th {\n",
       "        vertical-align: top;\n",
       "    }\n",
       "\n",
       "    .dataframe thead th {\n",
       "        text-align: right;\n",
       "    }\n",
       "</style>\n",
       "<table border=\"1\" class=\"dataframe\">\n",
       "  <thead>\n",
       "    <tr style=\"text-align: right;\">\n",
       "      <th></th>\n",
       "      <th>Date</th>\n",
       "      <th>Author</th>\n",
       "      <th>Title</th>\n",
       "      <th>Coin</th>\n",
       "      <th>Sentiment</th>\n",
       "    </tr>\n",
       "  </thead>\n",
       "  <tbody>\n",
       "    <tr>\n",
       "      <th>0</th>\n",
       "      <td>20210630</td>\n",
       "      <td>Altcoin_Daily</td>\n",
       "      <td>AMAZING_OPPORTUNITY_IN_CRYPTO_(LIFE_CHANGING)!...</td>\n",
       "      <td>None</td>\n",
       "      <td>neutral</td>\n",
       "    </tr>\n",
       "    <tr>\n",
       "      <th>1</th>\n",
       "      <td>20210630</td>\n",
       "      <td>Altcoin_Daily</td>\n",
       "      <td>AMAZING_OPPORTUNITY_IN_CRYPTO_(LIFE_CHANGING)!...</td>\n",
       "      <td>None</td>\n",
       "      <td>neutral</td>\n",
       "    </tr>\n",
       "    <tr>\n",
       "      <th>2</th>\n",
       "      <td>20210630</td>\n",
       "      <td>Altcoin_Daily</td>\n",
       "      <td>AMAZING_OPPORTUNITY_IN_CRYPTO_(LIFE_CHANGING)!...</td>\n",
       "      <td>None</td>\n",
       "      <td>neutral</td>\n",
       "    </tr>\n",
       "    <tr>\n",
       "      <th>3</th>\n",
       "      <td>20210630</td>\n",
       "      <td>Altcoin_Daily</td>\n",
       "      <td>AMAZING_OPPORTUNITY_IN_CRYPTO_(LIFE_CHANGING)!...</td>\n",
       "      <td>None</td>\n",
       "      <td>neutral</td>\n",
       "    </tr>\n",
       "    <tr>\n",
       "      <th>4</th>\n",
       "      <td>20210630</td>\n",
       "      <td>Altcoin_Daily</td>\n",
       "      <td>AMAZING_OPPORTUNITY_IN_CRYPTO_(LIFE_CHANGING)!...</td>\n",
       "      <td>BTC</td>\n",
       "      <td>neutral</td>\n",
       "    </tr>\n",
       "    <tr>\n",
       "      <th>...</th>\n",
       "      <td>...</td>\n",
       "      <td>...</td>\n",
       "      <td>...</td>\n",
       "      <td>...</td>\n",
       "      <td>...</td>\n",
       "    </tr>\n",
       "    <tr>\n",
       "      <th>93</th>\n",
       "      <td>20210630</td>\n",
       "      <td>Altcoin_Daily</td>\n",
       "      <td>AMAZING_OPPORTUNITY_IN_CRYPTO_(LIFE_CHANGING)!...</td>\n",
       "      <td>BTC</td>\n",
       "      <td>neutral</td>\n",
       "    </tr>\n",
       "    <tr>\n",
       "      <th>94</th>\n",
       "      <td>20210630</td>\n",
       "      <td>Altcoin_Daily</td>\n",
       "      <td>AMAZING_OPPORTUNITY_IN_CRYPTO_(LIFE_CHANGING)!...</td>\n",
       "      <td>None</td>\n",
       "      <td>neutral</td>\n",
       "    </tr>\n",
       "    <tr>\n",
       "      <th>95</th>\n",
       "      <td>20210630</td>\n",
       "      <td>Altcoin_Daily</td>\n",
       "      <td>AMAZING_OPPORTUNITY_IN_CRYPTO_(LIFE_CHANGING)!...</td>\n",
       "      <td>None</td>\n",
       "      <td>neutral</td>\n",
       "    </tr>\n",
       "    <tr>\n",
       "      <th>96</th>\n",
       "      <td>20210630</td>\n",
       "      <td>Altcoin_Daily</td>\n",
       "      <td>AMAZING_OPPORTUNITY_IN_CRYPTO_(LIFE_CHANGING)!...</td>\n",
       "      <td>None</td>\n",
       "      <td>neutral</td>\n",
       "    </tr>\n",
       "    <tr>\n",
       "      <th>97</th>\n",
       "      <td>20210630</td>\n",
       "      <td>Altcoin_Daily</td>\n",
       "      <td>AMAZING_OPPORTUNITY_IN_CRYPTO_(LIFE_CHANGING)!...</td>\n",
       "      <td>None</td>\n",
       "      <td>neutral</td>\n",
       "    </tr>\n",
       "  </tbody>\n",
       "</table>\n",
       "<p>98 rows × 5 columns</p>\n",
       "</div>"
      ],
      "text/plain": [
       "        Date         Author  \\\n",
       "0   20210630  Altcoin_Daily   \n",
       "1   20210630  Altcoin_Daily   \n",
       "2   20210630  Altcoin_Daily   \n",
       "3   20210630  Altcoin_Daily   \n",
       "4   20210630  Altcoin_Daily   \n",
       "..       ...            ...   \n",
       "93  20210630  Altcoin_Daily   \n",
       "94  20210630  Altcoin_Daily   \n",
       "95  20210630  Altcoin_Daily   \n",
       "96  20210630  Altcoin_Daily   \n",
       "97  20210630  Altcoin_Daily   \n",
       "\n",
       "                                                Title  Coin Sentiment  \n",
       "0   AMAZING_OPPORTUNITY_IN_CRYPTO_(LIFE_CHANGING)!...  None   neutral  \n",
       "1   AMAZING_OPPORTUNITY_IN_CRYPTO_(LIFE_CHANGING)!...  None   neutral  \n",
       "2   AMAZING_OPPORTUNITY_IN_CRYPTO_(LIFE_CHANGING)!...  None   neutral  \n",
       "3   AMAZING_OPPORTUNITY_IN_CRYPTO_(LIFE_CHANGING)!...  None   neutral  \n",
       "4   AMAZING_OPPORTUNITY_IN_CRYPTO_(LIFE_CHANGING)!...   BTC   neutral  \n",
       "..                                                ...   ...       ...  \n",
       "93  AMAZING_OPPORTUNITY_IN_CRYPTO_(LIFE_CHANGING)!...   BTC   neutral  \n",
       "94  AMAZING_OPPORTUNITY_IN_CRYPTO_(LIFE_CHANGING)!...  None   neutral  \n",
       "95  AMAZING_OPPORTUNITY_IN_CRYPTO_(LIFE_CHANGING)!...  None   neutral  \n",
       "96  AMAZING_OPPORTUNITY_IN_CRYPTO_(LIFE_CHANGING)!...  None   neutral  \n",
       "97  AMAZING_OPPORTUNITY_IN_CRYPTO_(LIFE_CHANGING)!...  None   neutral  \n",
       "\n",
       "[98 rows x 5 columns]"
      ]
     },
     "execution_count": 6,
     "metadata": {},
     "output_type": "execute_result"
    }
   ],
   "source": [
    "df_1"
   ]
  },
  {
   "cell_type": "code",
   "execution_count": 7,
   "id": "12735387-fe3a-41fc-8f95-4673eeeb8730",
   "metadata": {},
   "outputs": [],
   "source": [
    "df_1.to_csv(\"get_sentiments_test_run_1_video.csv\", index=False)"
   ]
  },
  {
   "cell_type": "code",
   "execution_count": null,
   "id": "3d9bc3f8-d36d-491e-8e1d-e06c597386b1",
   "metadata": {},
   "outputs": [],
   "source": []
  }
 ],
 "metadata": {
  "kernelspec": {
   "display_name": "Python 3",
   "language": "python",
   "name": "python3"
  },
  "language_info": {
   "codemirror_mode": {
    "name": "ipython",
    "version": 3
   },
   "file_extension": ".py",
   "mimetype": "text/x-python",
   "name": "python",
   "nbconvert_exporter": "python",
   "pygments_lexer": "ipython3",
   "version": "3.9.5"
  }
 },
 "nbformat": 4,
 "nbformat_minor": 5
}
