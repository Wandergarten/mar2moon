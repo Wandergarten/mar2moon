{
 "cells": [
  {
   "cell_type": "code",
   "execution_count": 1,
   "id": "a6af585e-99b3-4f36-aeb1-ad59faffa6f1",
   "metadata": {},
   "outputs": [],
   "source": [
    "import CryptoSentimentAnalysis"
   ]
  },
  {
   "cell_type": "code",
   "execution_count": 2,
   "id": "e6f21c9c-4cda-4b72-80a7-6f63345356e9",
   "metadata": {},
   "outputs": [],
   "source": [
    "audio_folder = \"D:\\\\nlp_project_d\\\\main_method_testing\\\\audio_files\"\n",
    "clips_folder = \"D:\\\\nlp_project_d\\\\main_method_testing\\\\extracted_clips\"\n",
    "praat_path = \"C:\\\\Program Files\\\\Praat\\\\Praat.exe\""
   ]
  },
  {
   "cell_type": "code",
   "execution_count": 3,
   "id": "0b84785b-427c-41e6-91fa-813f24d75eb8",
   "metadata": {},
   "outputs": [
    {
     "name": "stdout",
     "output_type": "stream",
     "text": [
      "Clips extracted\n",
      "Audio features extracted\n"
     ]
    }
   ],
   "source": [
    "CryptoSentimentAnalysis.get_sentiments(audio_files_folder=audio_folder, clips_folder=clips_folder, start_date=\"20210201\", end_date=\"20210501\", praat_path=praat_path)"
   ]
  },
  {
   "cell_type": "code",
   "execution_count": null,
   "id": "618bb955-a999-4601-91b8-504179258531",
   "metadata": {},
   "outputs": [],
   "source": []
  }
 ],
 "metadata": {
  "kernelspec": {
   "display_name": "Python 3",
   "language": "python",
   "name": "python3"
  },
  "language_info": {
   "codemirror_mode": {
    "name": "ipython",
    "version": 3
   },
   "file_extension": ".py",
   "mimetype": "text/x-python",
   "name": "python",
   "nbconvert_exporter": "python",
   "pygments_lexer": "ipython3",
   "version": "3.9.5"
  }
 },
 "nbformat": 4,
 "nbformat_minor": 5
}
