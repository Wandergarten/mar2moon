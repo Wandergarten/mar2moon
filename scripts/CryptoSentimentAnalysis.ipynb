{
 "cells": [
  {
   "cell_type": "code",
   "execution_count": 2,
   "id": "a6af585e-99b3-4f36-aeb1-ad59faffa6f1",
   "metadata": {},
   "outputs": [],
   "source": [
    "import CryptoSentimentAnalysis"
   ]
  },
  {
   "cell_type": "code",
   "execution_count": null,
   "id": "e6f21c9c-4cda-4b72-80a7-6f63345356e9",
   "metadata": {},
   "outputs": [],
   "source": []
  }
 ],
 "metadata": {
  "kernelspec": {
   "display_name": "Python 3",
   "language": "python",
   "name": "python3"
  },
  "language_info": {
   "codemirror_mode": {
    "name": "ipython",
    "version": 3
   },
   "file_extension": ".py",
   "mimetype": "text/x-python",
   "name": "python",
   "nbconvert_exporter": "python",
   "pygments_lexer": "ipython3",
   "version": "3.9.5"
  }
 },
 "nbformat": 4,
 "nbformat_minor": 5
}
