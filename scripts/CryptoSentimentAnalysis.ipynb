{
 "cells": [
  {
   "cell_type": "code",
   "execution_count": null,
   "outputs": [],
   "source": [
    "!pip install datasets==1.4.1\n",
    "!pip install transformers==4.4.0\n",
    "!pip install soundfile\n",
    "!pip install jiwer"
   ],
   "metadata": {
    "collapsed": false,
    "pycharm": {
     "name": "#%%\n"
    }
   }
  },
  {
   "cell_type": "code",
   "execution_count": null,
   "outputs": [],
   "source": [
    "from CryptoSentimentAnalysis import SentimentAnalysisPipeline"
   ],
   "metadata": {
    "collapsed": false,
    "pycharm": {
     "name": "#%%\n"
    }
   }
  },
  {
   "cell_type": "code",
   "execution_count": 2,
   "id": "e6f21c9c-4cda-4b72-80a7-6f63345356e9",
   "metadata": {},
   "outputs": [],
   "source": [
    "audio_folder = \"D:\\\\nlp_project_d\\\\main_method_testing\\\\audio_files\"\n",
    "clips_folder = \"D:\\\\nlp_project_d\\\\main_method_testing\\\\extracted_clips\"\n",
    "praat_path = \"C:\\\\Program Files\\\\Praat\\\\Praat.exe\""
   ]
  },
  {
   "cell_type": "code",
   "execution_count": 3,
   "id": "0b84785b-427c-41e6-91fa-813f24d75eb8",
   "metadata": {
    "pycharm": {
     "name": "#%%\n"
    }
   },
   "outputs": [
    {
     "name": "stdout",
     "output_type": "stream",
     "text": [
      "Clips extracted\n",
      "Audio features extracted\n"
     ]
    }
   ],
   "source": [
    "pipeline = SentimentAnalysisPipeline(audio_files_folder=audio_folder,\n",
    "                                     clips_folder=clips_folder,\n",
    "                                     praat_path=praat_path)\n",
    "\n",
    "pipeline.get_sentiments(start_date=\"20210201\", end_date=\"20210501\")"
   ]
  }
 ],
 "metadata": {
  "kernelspec": {
   "display_name": "Python 3",
   "language": "python",
   "name": "python3"
  },
  "language_info": {
   "codemirror_mode": {
    "name": "ipython",
    "version": 3
   },
   "file_extension": ".py",
   "mimetype": "text/x-python",
   "name": "python",
   "nbconvert_exporter": "python",
   "pygments_lexer": "ipython3",
   "version": "3.9.5"
  }
 },
 "nbformat": 4,
 "nbformat_minor": 5
}