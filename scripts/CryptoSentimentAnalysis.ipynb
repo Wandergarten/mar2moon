{
 "cells": [
  {
   "cell_type": "code",
   "execution_count": null,
   "id": "390f5fb7",
   "metadata": {
    "collapsed": false,
    "jupyter": {
     "outputs_hidden": false
    },
    "pycharm": {
     "name": "#%%\n"
    }
   },
   "outputs": [],
   "source": [
    "!pip install datasets==1.4.1\n",
    "!pip install transformers==4.4.0\n",
    "!pip install soundfile\n",
    "!pip install jiwer"
   ]
  },
  {
   "cell_type": "code",
   "execution_count": 1,
   "id": "a59b1a6e",
   "metadata": {
    "collapsed": false,
    "jupyter": {
     "outputs_hidden": false
    },
    "pycharm": {
     "name": "#%%\n"
    }
   },
   "outputs": [
    {
     "name": "stderr",
     "output_type": "stream",
     "text": [
      "C:\\Users\\Tristan\\nlp_project\\mar2moon\\scripts\\CryptoSentimentAnalysis.py:184: SyntaxWarning: assertion is always true, perhaps remove parentheses?\n",
      "  assert (sampling_rate == 16_000, \"Sampling rate was not 16k.\")\n"
     ]
    }
   ],
   "source": [
    "from CryptoSentimentAnalysis import SentimentAnalysisPipeline"
   ]
  },
  {
   "cell_type": "code",
   "execution_count": 2,
   "id": "e6f21c9c-4cda-4b72-80a7-6f63345356e9",
   "metadata": {},
   "outputs": [],
   "source": [
    "audio_folder = \"D:\\\\nlp_project_d\\\\main_method_testing\\\\audio_files_1\"\n",
    "clips_folder = \"D:\\\\nlp_project_d\\\\main_method_testing\\\\extracted_clips\"\n",
    "praat_path = \"C:\\\\Program Files\\\\Praat\\\\Praat.exe\""
   ]
  },
  {
   "cell_type": "code",
   "execution_count": 3,
   "id": "0b84785b-427c-41e6-91fa-813f24d75eb8",
   "metadata": {
    "pycharm": {
     "name": "#%%\n"
    }
   },
   "outputs": [
    {
     "name": "stdout",
     "output_type": "stream",
     "text": [
      "Downloading standard Wav2Vec model and processor\n",
      "Clips extracted\n",
      "Text extracted\n",
      "Text labelled with coins\n",
      "Audio features extracted\n",
      "       Date         Author                                              Title  \\\n",
      "0  20210401  Altcoin_Daily  ETH_to_CRUSH_Bitcoin_(Top_Expert_Prediction)_B...   \n",
      "1  20210401  Altcoin_Daily  ETH_to_CRUSH_Bitcoin_(Top_Expert_Prediction)_B...   \n",
      "2  20210401  Altcoin_Daily  ETH_to_CRUSH_Bitcoin_(Top_Expert_Prediction)_B...   \n",
      "\n",
      "  Clip_Id                                          File_Name  \\\n",
      "0    0000  Altcoin_Daily-sep-20210401-sep-ETH_to_CRUSH_Bi...   \n",
      "1    0001  Altcoin_Daily-sep-20210401-sep-ETH_to_CRUSH_Bi...   \n",
      "2    0002  Altcoin_Daily-sep-20210401-sep-ETH_to_CRUSH_Bi...   \n",
      "\n",
      "                                                Text Coin          Pitch_Min  \\\n",
      "0  welcome back everybody to altacoin daily my na...  ETH   67.7793702942393   \n",
      "1  sive videoclip of notable bitcoin only person ...  ETH  75.06831548509031   \n",
      "2  lking about how eth can outperform bitcoin thi...  ETH  76.23310265000217   \n",
      "\n",
      "           Pitch_Max  Pitch_05_Quantile   Pitch_95_Quantile  \\\n",
      "0  483.9945861985965   89.6275278259776    242.224673827042   \n",
      "1  590.7926241501954  95.29352302667391  261.49652199242706   \n",
      "2  587.4203735526188  94.70429442259203  203.59697017915843   \n",
      "\n",
      "          Pitch_Range        pitch stdev          Pitch_Mean  \\\n",
      "0   152.5971460010644  5.201317804877166  166.74250065505657   \n",
      "1  166.20299896575315  5.701449918776583  170.25584071573925   \n",
      "2   108.8926757565664  5.346466704656914  140.24535306043137   \n",
      "\n",
      "         Pitch_Median               Jitter              Shimmer  \\\n",
      "0   165.8550154201094  0.02187987302782875  0.11270905081887012   \n",
      "1  156.31872651023173  0.02865132409917391  0.13256084425728062   \n",
      "2  124.22015770359948  0.02805649304872941   0.1373609295678168   \n",
      "\n",
      "     Hammarberg_Index  \n",
      "0   19.40870538476265  \n",
      "1  16.689776226884575  \n",
      "2   14.92587745807328  \n"
     ]
    }
   ],
   "source": [
    "pipeline = SentimentAnalysisPipeline(audio_files_folder=audio_folder,\n",
    "                                     clips_folder=clips_folder,\n",
    "                                     praat_path=praat_path)\n",
    "\n",
    "pipeline.get_sentiments(start_date=\"20210201\", end_date=\"20210401\")"
   ]
  },
  {
   "cell_type": "code",
   "execution_count": null,
   "id": "e37fed4c-d78b-4874-b305-d865195a6af3",
   "metadata": {},
   "outputs": [],
   "source": []
  }
 ],
 "metadata": {
  "kernelspec": {
   "display_name": "Python 3",
   "language": "python",
   "name": "python3"
  },
  "language_info": {
   "codemirror_mode": {
    "name": "ipython",
    "version": 3
   },
   "file_extension": ".py",
   "mimetype": "text/x-python",
   "name": "python",
   "nbconvert_exporter": "python",
   "pygments_lexer": "ipython3",
   "version": "3.9.5"
  }
 },
 "nbformat": 4,
 "nbformat_minor": 5
}
