{
 "cells": [
  {
   "cell_type": "code",
   "execution_count": 37,
   "metadata": {},
   "outputs": [],
   "source": [
    "from sklearn.feature_extraction.text import CountVectorizer\n",
    "from sklearn.feature_extraction.text import TfidfTransformer\n",
    "from sklearn.pipeline import Pipeline\n",
    "from sklearn.linear_model import SGDClassifier\n",
    "from sklearn.naive_bayes import MultinomialNB\n",
    "from sklearn.neural_network import MLPClassifier\n",
    "import pickle\n",
    "from sklearn.feature_extraction.text import TfidfVectorizer\n",
    "from sklearn.linear_model import LinearRegression\n",
    "from sklearn.ensemble import RandomForestClassifier\n",
    "from sklearn.preprocessing import LabelBinarizer\n",
    "from sklearn.ensemble import GradientBoostingClassifier\n",
    "from sklearn.metrics import plot_confusion_matrix\n",
    "import pandas as pd\n",
    "import math\n",
    "import random\n",
    "from sklearn.metrics import classification_report\n",
    "from sklearn.model_selection import train_test_split\n",
    "from sklearn import metrics\n",
    "from sklearn import preprocessing\n",
    "import numpy as np\n",
    "from collections import Counter"
   ]
  },
  {
   "cell_type": "code",
   "execution_count": 38,
   "metadata": {},
   "outputs": [],
   "source": [
    "df_file_1 = 'Sentiment_Labelling.xlsx'\n",
    "df_file_2 = \"C:\\\\Users\\\\Tristan\\\\nlp_project\\\\Sentiment_Labelling.xlsx\""
   ]
  },
  {
   "cell_type": "code",
   "execution_count": 39,
   "metadata": {},
   "outputs": [],
   "source": [
    "data = pd.read_excel(df_file_2)\n",
    "# check if the thext of Wav2Vec not empty is\n",
    "data[\"Text\"] = data.apply(lambda x: x[\"Wav2Vec\"] if x[\"Wav2Vec\"] != np.nan else x[\"Youtube_Text_Corrected\"], axis=1)\n",
    "data = data[[\"Text\",\"Sentiment\", \"Pitch_05_Quantile\", \"Pitch_95_Quantile\", \"Pitch_Range\", \"Pitch_Stdev\", \"Pitch_Mean\", \"Pitch_Median\", \"Jitter\", \"Shimmer\", \"Hammarberg_Index\"]]\n",
    "data = data.dropna(subset=[\"Text\", \"Sentiment\", \"Pitch_05_Quantile\", \"Pitch_95_Quantile\", \"Pitch_Range\", \"Pitch_Stdev\", \"Pitch_Mean\", \"Pitch_Median\", \"Jitter\", \"Shimmer\", \"Hammarberg_Index\"])[[\"Text\", \"Sentiment\", \"Pitch_05_Quantile\", \"Pitch_95_Quantile\", \"Pitch_Range\", \"Pitch_Stdev\", \"Pitch_Mean\", \"Pitch_Median\", \"Jitter\", \"Shimmer\", \"Hammarberg_Index\"]]\n",
    "def sampling_k_elements(group, k=160):\n",
    "    if len(group) < k:\n",
    "        return group\n",
    "    return group.sample(k)\n",
    "sentiment = list(data['Sentiment'].values)\n",
    "# apply rhe sampling_k_elements_function of the Data to balance all sentiment_label\n",
    "balanced = data.groupby('Sentiment').apply(sampling_k_elements).reset_index(drop=True)\n",
    "balanced = balanced[[\"Text\", \"Sentiment\", \"Pitch_05_Quantile\", \"Pitch_95_Quantile\", \"Pitch_Range\", \"Pitch_Stdev\", \"Pitch_Mean\", \"Pitch_Median\", \"Jitter\", \"Shimmer\", \"Hammarberg_Index\"]]\n",
    "corpus_texts = balanced[\"Text\"]\n",
    "sentiment = balanced[\"Sentiment\"]\n",
    "# create array of feutres and convert it to numpy array\n",
    "audio_array = balanced[[\"Pitch_05_Quantile\", \"Pitch_95_Quantile\", \"Pitch_Range\", \"Pitch_Stdev\", \"Pitch_Median\", \"Jitter\", \"Shimmer\", \"Hammarberg_Index\"]].to_numpy()\n",
    "audio_array = np.asarray(audio_array)\n"
   ]
  },
  {
   "cell_type": "code",
   "execution_count": 40,
   "metadata": {},
   "outputs": [],
   "source": [
    "vectorizer_file = \"tfidf_vectorizer_no_audio_features.pkl\""
   ]
  },
  {
   "cell_type": "code",
   "execution_count": 32,
   "metadata": {},
   "outputs": [],
   "source": [
    "vectorizer_file = \"tfidf_vectorizer.pkl\""
   ]
  },
  {
   "cell_type": "code",
   "execution_count": 41,
   "metadata": {},
   "outputs": [
    {
     "name": "stdout",
     "output_type": "stream",
     "text": [
      "(451, 2490)\n"
     ]
    }
   ],
   "source": [
    "\n",
    "#  create a Tf Idf Vectorizer\n",
    "polarity_tfidf_vectorizer = TfidfVectorizer()\n",
    "# Vectroize the texts in the data\n",
    "polarity_bow_matrix = polarity_tfidf_vectorizer.fit_transform(corpus_texts)\n",
    "# save tfidf vectorizer in a file\n",
    "with open(vectorizer_file, 'wb') as pickle_file1:\n",
    "    pickle.dump(polarity_tfidf_vectorizer, pickle_file1)\n",
    "# convert the polarity_bow_matrix to numpy array\n",
    "polarity = np.asarray(polarity_bow_matrix.todense())\n",
    "print(polarity.shape)\n",
    "# concatenate the array of feutres with the converted texts to create the input for our model\n",
    "final_input = np.concatenate((polarity, audio_array), axis=1)\n",
    "\n",
    "sentiment_model_file = \"sentiment_model_audio_features.plk\""
   ]
  },
  {
   "cell_type": "code",
   "execution_count": 42,
   "metadata": {},
   "outputs": [],
   "source": [
    "final_input = polarity\n",
    "\n",
    "sentiment_model_file = \"sentiment_model_no_audio_features.plk\""
   ]
  },
  {
   "cell_type": "code",
   "execution_count": 43,
   "metadata": {},
   "outputs": [],
   "source": [
    "X_train, X_test, y_train, y_test = train_test_split(final_input, sentiment, test_size=0.2, shuffle= True, stratify=sentiment, random_state=2)"
   ]
  },
  {
   "cell_type": "code",
   "execution_count": 44,
   "metadata": {},
   "outputs": [
    {
     "data": {
      "text/plain": [
       "'evaluation Acc.:0.538'"
      ]
     },
     "execution_count": 44,
     "metadata": {},
     "output_type": "execute_result"
    }
   ],
   "source": [
    "mLPClassifier = MLPClassifier()\n",
    "mLPClassifier.fit(X_train, y_train)\n",
    "# use pickle to save the model \n",
    "pickle_load = pickle.dumps(mLPClassifier)\n",
    "audio_featres_model = pickle.loads(pickle_load)\n",
    "with open(sentiment_model_file, 'wb') as pickle_file:\n",
    "    pickle.dump(mLPClassifier, pickle_file)\n",
    "predicted = mLPClassifier.predict(X_test)\n",
    "\"evaluation Acc.:{:.3f}\".format(np.mean(predicted == y_test))"
   ]
  },
  {
   "cell_type": "code",
   "execution_count": 14,
   "metadata": {},
   "outputs": [
    {
     "name": "stdout",
     "output_type": "stream",
     "text": [
      "              precision    recall  f1-score   support\n",
      "\n",
      "     bearish       0.47      0.56      0.51        27\n",
      "     bullish       0.57      0.53      0.55        32\n",
      "     neutral       0.62      0.56      0.59        32\n",
      "\n",
      "    accuracy                           0.55        91\n",
      "   macro avg       0.55      0.55      0.55        91\n",
      "weighted avg       0.56      0.55      0.55        91\n",
      "\n"
     ]
    }
   ],
   "source": [
    "print(classification_report(y_test, predicted))"
   ]
  }
 ],
 "metadata": {
  "kernelspec": {
   "display_name": "Python 3",
   "language": "python",
   "name": "python3"
  },
  "language_info": {
   "codemirror_mode": {
    "name": "ipython",
    "version": 3
   },
   "file_extension": ".py",
   "mimetype": "text/x-python",
   "name": "python",
   "nbconvert_exporter": "python",
   "pygments_lexer": "ipython3",
   "version": "3.9.5"
  }
 },
 "nbformat": 4,
 "nbformat_minor": 4
}
