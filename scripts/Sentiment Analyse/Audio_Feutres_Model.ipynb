{
 "cells": [
  {
   "cell_type": "code",
   "execution_count": 8,
   "metadata": {},
   "outputs": [],
   "source": [
    "from sklearn.feature_extraction.text import CountVectorizer\n",
    "from sklearn.feature_extraction.text import TfidfTransformer\n",
    "from sklearn.pipeline import Pipeline\n",
    "from sklearn.linear_model import SGDClassifier\n",
    "from sklearn.naive_bayes import MultinomialNB\n",
    "from sklearn.neural_network import MLPClassifier\n",
    "import pickle\n",
    "from sklearn.feature_extraction.text import TfidfVectorizer\n",
    "from sklearn.linear_model import LinearRegression\n",
    "from sklearn.ensemble import RandomForestClassifier\n",
    "from sklearn.preprocessing import LabelBinarizer\n",
    "from sklearn.ensemble import GradientBoostingClassifier\n",
    "from sklearn.metrics import plot_confusion_matrix\n",
    "import pandas as pd\n",
    "import math\n",
    "import random\n",
    "from sklearn.metrics import classification_report\n",
    "from sklearn.model_selection import train_test_split\n",
    "from sklearn import metrics\n",
    "from sklearn import preprocessing\n",
    "import numpy as np\n",
    "from collections import Counter"
   ]
  },
  {
   "cell_type": "code",
   "execution_count": 3,
   "metadata": {},
   "outputs": [],
   "source": [
    "data = pd.read_excel('Sentiment_Labelling.xlsx')\n",
    "# check if the thext of Wav2Vec not empty is\n",
    "data[\"Text\"] = data.apply(lambda x: x[\"Wav2Vec\"] if x[\"Wav2Vec\"] != np.nan else x[\"Youtube_Text_Corrected\"], axis=1)\n",
    "data = data[[\"Text\",\"Sentiment\", \"Pitch_05_Quantile\", \"Pitch_95_Quantile\", \"Pitch_Range\", \"pitch stdev\", \"Pitch_Mean\", \"Pitch_Median\", \"Jitter\", \"Shimmer\", \"Hammarberg_Index\"]]\n",
    "data = data.dropna(subset=[\"Text\", \"Sentiment\", \"Pitch_05_Quantile\", \"Pitch_95_Quantile\", \"Pitch_Range\", \"pitch stdev\", \"Pitch_Mean\", \"Pitch_Median\", \"Jitter\", \"Shimmer\", \"Hammarberg_Index\"])[[\"Text\", \"Sentiment\", \"Pitch_05_Quantile\", \"Pitch_95_Quantile\", \"Pitch_Range\", \"pitch stdev\", \"Pitch_Mean\", \"Pitch_Median\", \"Jitter\", \"Shimmer\", \"Hammarberg_Index\"]]\n",
    "def sampling_k_elements(group, k=160):\n",
    "    if len(group) < k:\n",
    "        return group\n",
    "    return group.sample(k)\n",
    "sentiment = list(data['Sentiment'].values)\n",
    "# apply rhe sampling_k_elements_function of the Data to balance all sentiment_label\n",
    "balanced = data.groupby('Sentiment').apply(sampling_k_elements).reset_index(drop=True)\n",
    "balanced = balanced[[\"Text\", \"Sentiment\", \"Pitch_05_Quantile\", \"Pitch_95_Quantile\", \"Pitch_Range\", \"pitch stdev\", \"Pitch_Mean\", \"Pitch_Median\", \"Jitter\", \"Shimmer\", \"Hammarberg_Index\"]]\n",
    "corpus_texts = balanced[\"Text\"]\n",
    "sentiment = balanced[\"Sentiment\"]\n",
    "# create array of feutres and convert it to numpy array\n",
    "audio_array = balanced[[\"Pitch_05_Quantile\", \"Pitch_95_Quantile\", \"Pitch_Range\", \"Pitch_Mean\", \"Pitch_Median\", \"Jitter\", \"Shimmer\", \"Hammarberg_Index\"]].to_numpy()\n",
    "audio_array = np.asarray(audio_array)\n"
   ]
  },
  {
   "cell_type": "code",
   "execution_count": 4,
   "metadata": {},
   "outputs": [
    {
     "name": "stdout",
     "output_type": "stream",
     "text": [
      "(451, 2487)\n"
     ]
    }
   ],
   "source": [
    "\n",
    "#  create a Tf Idf Vectorizer\n",
    "polarity_tfidf_vectorizer = TfidfVectorizer()\n",
    "# Vectroize the texts in the data\n",
    "polarity_bow_matrix = polarity_tfidf_vectorizer.fit_transform(corpus_texts)\n",
    "# convert the polarity_bow_matrix to numpy array\n",
    "polarity = np.asarray(polarity_bow_matrix.todense())\n",
    "print(polarity.shape)\n",
    "# concatenate the array of feutres with the converted texts to create the input for our model\n",
    "final_input = np.concatenate((polarity, audio_array), axis=1)"
   ]
  },
  {
   "cell_type": "code",
   "execution_count": 5,
   "metadata": {},
   "outputs": [],
   "source": [
    "X_train, X_test, y_train, y_test = train_test_split(final_input, sentiment, test_size=0.2, shuffle= True, stratify=sentiment, random_state=2)"
   ]
  },
  {
   "cell_type": "code",
   "execution_count": 6,
   "metadata": {},
   "outputs": [
    {
     "name": "stderr",
     "output_type": "stream",
     "text": [
      "C:\\Users\\Bashir\\anaconda3\\lib\\site-packages\\sklearn\\neural_network\\_multilayer_perceptron.py:614: ConvergenceWarning: Stochastic Optimizer: Maximum iterations (200) reached and the optimization hasn't converged yet.\n",
      "  warnings.warn(\n"
     ]
    },
    {
     "data": {
      "text/plain": [
       "'evaluation Acc.:0.538'"
      ]
     },
     "execution_count": 6,
     "metadata": {},
     "output_type": "execute_result"
    }
   ],
   "source": [
    "mLPClassifier = MLPClassifier()\n",
    "mLPClassifier.fit(X_train, y_train)\n",
    "# use pickle to load the model \n",
    "pickle_load = pickle.dumps(mLPClassifier)\n",
    "audio_featres_model = pickle.loads(pickle_load)\n",
    "predicted = mLPClassifier.predict(X_test)\n",
    "\"evaluation Acc.:{:.3f}\".format(np.mean(predicted == y_test))"
   ]
  },
  {
   "cell_type": "code",
   "execution_count": 7,
   "metadata": {},
   "outputs": [
    {
     "name": "stdout",
     "output_type": "stream",
     "text": [
      "              precision    recall  f1-score   support\n",
      "\n",
      "     bearish       0.48      0.48      0.48        27\n",
      "     bullish       0.53      0.59      0.56        32\n",
      "     neutral       0.61      0.53      0.57        32\n",
      "\n",
      "    accuracy                           0.54        91\n",
      "   macro avg       0.54      0.54      0.54        91\n",
      "weighted avg       0.54      0.54      0.54        91\n",
      "\n"
     ]
    }
   ],
   "source": [
    "print(classification_report(y_test, predicted))"
   ]
  }
 ],
 "metadata": {
  "kernelspec": {
   "display_name": "Python 3",
   "language": "python",
   "name": "python3"
  },
  "language_info": {
   "codemirror_mode": {
    "name": "ipython",
    "version": 3
   },
   "file_extension": ".py",
   "mimetype": "text/x-python",
   "name": "python",
   "nbconvert_exporter": "python",
   "pygments_lexer": "ipython3",
   "version": "3.8.5"
  }
 },
 "nbformat": 4,
 "nbformat_minor": 4
}
