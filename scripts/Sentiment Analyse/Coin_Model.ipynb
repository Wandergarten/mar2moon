{
 "cells": [
  {
   "cell_type": "code",
   "execution_count": 9,
   "metadata": {},
   "outputs": [],
   "source": [
    "from sklearn.feature_extraction.text import CountVectorizer\n",
    "from sklearn.feature_extraction.text import TfidfTransformer\n",
    "from sklearn.pipeline import Pipeline\n",
    "from sklearn.linear_model import SGDClassifier\n",
    "from sklearn.naive_bayes import MultinomialNB\n",
    "from sklearn.neural_network import MLPClassifier\n",
    "from sklearn.linear_model import LinearRegression\n",
    "from sklearn.ensemble import GradientBoostingClassifier\n",
    "from sklearn.metrics import plot_confusion_matrix\n",
    "import pandas as pd\n",
    "import math\n",
    "import pickle\n",
    "import random\n",
    "from sklearn.metrics import classification_report\n",
    "from sklearn.model_selection import train_test_split\n",
    "from sklearn import metrics\n",
    "from sklearn import preprocessing\n",
    "import numpy as np\n",
    "from collections import Counter"
   ]
  },
  {
   "cell_type": "markdown",
   "metadata": {},
   "source": [
    "### load & inspect data"
   ]
  },
  {
   "cell_type": "code",
   "execution_count": 3,
   "metadata": {},
   "outputs": [
    {
     "name": "stdout",
     "output_type": "stream",
     "text": [
      "BTC     475\n",
      "ETH     430\n",
      "DOGE    313\n",
      "None    154\n",
      "Name: Coin, dtype: int64\n"
     ]
    }
   ],
   "source": [
    "# read the data from the excel file\n",
    "data = pd.read_excel('Sentiment_Labelling.xlsx')\n",
    "data = data[[\"Youtube_Text_Corrected\", \"Wav2Vec\",\"Coin\"]]\n",
    "# remove all records that are not labeled\n",
    "data = data.dropna(subset=[\"Youtube_Text_Corrected\", \"Coin\"])[[\"Youtube_Text_Corrected\", \"Wav2Vec\", \"Coin\"]]\n",
    "data = data.dropna(subset=[\"Youtube_Text_Corrected\", \"Coin\"])\n",
    "# check if the Wav2Vec not empty and replaced it with Youtube_Text_Corrected if it is empty\n",
    "corpus = data.apply(lambda x: x[\"Wav2Vec\"] if x[\"Wav2Vec\"] != \" \" else x[\"Youtube_Text_Corrected\"], axis=1)\n",
    "corpus = corpus.values.astype('U')\n",
    "coins = list(data['Coin'].values)\n",
    "print(data['Coin'].value_counts())"
   ]
  },
  {
   "cell_type": "markdown",
   "metadata": {},
   "source": [
    "### build coin model"
   ]
  },
  {
   "cell_type": "code",
   "execution_count": 4,
   "metadata": {},
   "outputs": [],
   "source": [
    "# sample 30% class as validation set"
   ]
  },
  {
   "cell_type": "code",
   "execution_count": 5,
   "metadata": {},
   "outputs": [],
   "source": [
    "# split the data in train and test using train_test_split_method\n",
    "X_train, X_test, y_train, y_test = train_test_split(corpus, coins, test_size=0.3, stratify=coins, random_state=2)"
   ]
  },
  {
   "cell_type": "code",
   "execution_count": 6,
   "metadata": {},
   "outputs": [
    {
     "data": {
      "text/plain": [
       "Counter({'BTC': 143, 'None': 46, 'ETH': 129, 'DOGE': 94})"
      ]
     },
     "execution_count": 6,
     "metadata": {},
     "output_type": "execute_result"
    }
   ],
   "source": [
    "Counter(y_test)"
   ]
  },
  {
   "cell_type": "code",
   "execution_count": 10,
   "metadata": {},
   "outputs": [
    {
     "data": {
      "text/plain": [
       "'evaluation Acc.:0.803'"
      ]
     },
     "execution_count": 10,
     "metadata": {},
     "output_type": "execute_result"
    }
   ],
   "source": [
    "# create a Pipeline to train the data \n",
    "text_clf = Pipeline([\n",
    "    ('vect', CountVectorizer()),\n",
    "    ('tfidf', TfidfTransformer()),\n",
    "    ('clf', SGDClassifier(loss='hinge', penalty='l2',\n",
    "                          alpha=1e-3, random_state=42,\n",
    "                          max_iter=5, tol=None)),\n",
    "])\n",
    "# train the data using fit_method\n",
    "text_clf.fit(X_train, y_train)\n",
    "# use pickle to load the model \n",
    "pickle_load = pickle.dumps(text_clf)\n",
    "coin_model = pickle.loads(pickle_load)\n",
    "with open(\"coin_model.pkl\", 'wb') as pickle_file:\n",
    "    pickle.dump(text_clf, pickle_file)\n",
    "predicted = text_clf.predict(X_test)\n",
    "\"evaluation Acc.:{:.3f}\".format(np.mean(predicted == y_test))"
   ]
  },
  {
   "cell_type": "code",
   "execution_count": 11,
   "metadata": {},
   "outputs": [
    {
     "name": "stdout",
     "output_type": "stream",
     "text": [
      "              precision    recall  f1-score   support\n",
      "\n",
      "         BTC       0.73      0.94      0.82       143\n",
      "        DOGE       0.89      0.85      0.87        94\n",
      "         ETH       0.86      0.79      0.82       129\n",
      "        None       0.82      0.30      0.44        46\n",
      "\n",
      "    accuracy                           0.80       412\n",
      "   macro avg       0.82      0.72      0.74       412\n",
      "weighted avg       0.82      0.80      0.79       412\n",
      "\n"
     ]
    }
   ],
   "source": [
    "print(classification_report(y_test, predicted))"
   ]
  }
 ],
 "metadata": {
  "kernelspec": {
   "display_name": "Python 3",
   "language": "python",
   "name": "python3"
  },
  "language_info": {
   "codemirror_mode": {
    "name": "ipython",
    "version": 3
   },
   "file_extension": ".py",
   "mimetype": "text/x-python",
   "name": "python",
   "nbconvert_exporter": "python",
   "pygments_lexer": "ipython3",
   "version": "3.8.5"
  }
 },
 "nbformat": 4,
 "nbformat_minor": 4
}
