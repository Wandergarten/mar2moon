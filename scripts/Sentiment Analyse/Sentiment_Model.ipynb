{
 "cells": [
  {
   "cell_type": "code",
   "execution_count": 81,
   "metadata": {},
   "outputs": [],
   "source": [
    "from sklearn.feature_extraction.text import CountVectorizer\n",
    "from sklearn.feature_extraction.text import TfidfTransformer\n",
    "from sklearn.pipeline import Pipeline\n",
    "from sklearn.linear_model import SGDClassifier\n",
    "from sklearn.naive_bayes import MultinomialNB\n",
    "from sklearn.neural_network import MLPClassifier\n",
    "\n",
    "from sklearn.feature_extraction.text import TfidfVectorizer\n",
    "from sklearn.linear_model import LinearRegression\n",
    "from sklearn.ensemble import RandomForestClassifier\n",
    "from sklearn.preprocessing import LabelBinarizer\n",
    "from sklearn.ensemble import GradientBoostingClassifier\n",
    "from sklearn.metrics import plot_confusion_matrix\n",
    "import pandas as pd\n",
    "import math\n",
    "import random\n",
    "import pickle\n",
    "from sklearn.metrics import classification_report\n",
    "from sklearn.model_selection import train_test_split\n",
    "from sklearn import metrics\n",
    "from sklearn import preprocessing\n",
    "import numpy as np\n",
    "from collections import Counter"
   ]
  },
  {
   "cell_type": "code",
   "execution_count": 109,
   "metadata": {},
   "outputs": [
    {
     "data": {
      "text/plain": [
       "456"
      ]
     },
     "execution_count": 109,
     "metadata": {},
     "output_type": "execute_result"
    }
   ],
   "source": [
    "# read the Data from the excel file\n",
    "data = pd.read_excel('Sentiment_Labelling.xlsx')\n",
    "# check if the Wav2Vec_Text is not empty\n",
    "data[\"Text\"] = data.apply(lambda x: x[\"Wav2Vec\"] if x[\"Wav2Vec\"] != np.nan else x[\"Youtube_Text_Corrected\"], axis=1)\n",
    "data = data[[\"Text\",\"Coin\",\"Sentiment\"]]\n",
    "# drop the Sentiment that aren't labeld  \n",
    "data = data.dropna(subset=[\"Text\", \"Coin\", \"Sentiment\"])\n",
    "# the foowling fuction select foram each class k records\n",
    "def sampling_k_elements(group, k=160):\n",
    "    if len(group) < k:\n",
    "        return group\n",
    "    return group.sample(k)\n",
    "# apply rhe sampling_k_elements_function of the Data\n",
    "balanced = data.groupby('Sentiment').apply(sampling_k_elements).reset_index(drop=True)\n",
    "balanced = balanced[[\"Text\", \"Sentiment\"]]\n",
    "corpus_texts = balanced[\"Text\"]\n",
    "sentiment = balanced[\"Sentiment\"]\n",
    "len(balanced)"
   ]
  },
  {
   "cell_type": "code",
   "execution_count": 134,
   "metadata": {},
   "outputs": [],
   "source": [
    "# split the data in train and test data \n",
    "X_train, X_test, y_train, y_test = train_test_split(corpus_texts, sentiment, test_size=0.2, stratify=sentiment, random_state=1000)"
   ]
  },
  {
   "cell_type": "code",
   "execution_count": 135,
   "metadata": {},
   "outputs": [
    {
     "data": {
      "text/plain": [
       "'evaluation Acc.:0.565'"
      ]
     },
     "execution_count": 135,
     "metadata": {},
     "output_type": "execute_result"
    }
   ],
   "source": [
    "# create a Pipeline to train the data \n",
    "text_clf = Pipeline([\n",
    "    ('vect', CountVectorizer()),\n",
    "    ('tfidf', TfidfTransformer()),\n",
    "    ('clf', MLPClassifier())\n",
    "])\n",
    "# train the data using the fit_function\n",
    "text_clf.fit(X_train, y_train)\n",
    "# use pickle to load the model \n",
    "pickle_load = pickle.dumps(text_clf)\n",
    "sentiment_model = pickle.loads(pickle_load)\n",
    "predicted = text_clf.predict(X_test)\n",
    "\"evaluation Acc.:{:.3f}\".format(np.mean(predicted == y_test))"
   ]
  },
  {
   "cell_type": "code",
   "execution_count": 85,
   "metadata": {},
   "outputs": [
    {
     "name": "stdout",
     "output_type": "stream",
     "text": [
      "              precision    recall  f1-score   support\n",
      "\n",
      "     bearish       0.40      0.44      0.42        27\n",
      "     bullish       0.45      0.45      0.45        33\n",
      "     neutral       0.58      0.53      0.55        34\n",
      "\n",
      "    accuracy                           0.48        94\n",
      "   macro avg       0.48      0.48      0.48        94\n",
      "weighted avg       0.48      0.48      0.48        94\n",
      "\n"
     ]
    }
   ],
   "source": [
    "print(classification_report(y_test, predicted))"
   ]
  }
 ],
 "metadata": {
  "kernelspec": {
   "display_name": "Python 3",
   "language": "python",
   "name": "python3"
  },
  "language_info": {
   "codemirror_mode": {
    "name": "ipython",
    "version": 3
   },
   "file_extension": ".py",
   "mimetype": "text/x-python",
   "name": "python",
   "nbconvert_exporter": "python",
   "pygments_lexer": "ipython3",
   "version": "3.8.5"
  }
 },
 "nbformat": 4,
 "nbformat_minor": 4
}
