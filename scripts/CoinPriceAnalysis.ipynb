{
 "metadata": {
  "language_info": {
   "codemirror_mode": {
    "name": "ipython",
    "version": 3
   },
   "file_extension": ".py",
   "mimetype": "text/x-python",
   "name": "python",
   "nbconvert_exporter": "python",
   "pygments_lexer": "ipython3",
   "version": "3.8.5"
  },
  "orig_nbformat": 4,
  "kernelspec": {
   "name": "python3",
   "display_name": "Python 3.8.5 64-bit"
  },
  "interpreter": {
   "hash": "d7a185c7189272243b4823288e938adbf8a9c14fac77efacc5e58c48a0cfe526"
  }
 },
 "nbformat": 4,
 "nbformat_minor": 2,
 "cells": [
  {
   "source": [
    "# Preparation"
   ],
   "cell_type": "markdown",
   "metadata": {}
  },
  {
   "cell_type": "code",
   "execution_count": 8,
   "metadata": {},
   "outputs": [],
   "source": [
    "#!pip install --upgrade mplfinance\n",
    "#!pip install --upgrade openpyxl\n",
    "#!pip install tabulate"
   ]
  },
  {
   "cell_type": "code",
   "execution_count": 9,
   "metadata": {},
   "outputs": [],
   "source": [
    "# This allows multiple outputs from a single jupyter notebook cell:\n",
    "from IPython.core.interactiveshell import InteractiveShell\n",
    "InteractiveShell.ast_node_interactivity = \"all\""
   ]
  },
  {
   "cell_type": "code",
   "execution_count": 10,
   "metadata": {},
   "outputs": [],
   "source": [
    "import os\n",
    "import pandas as pd\n",
    "import matplotlib as mpl\n",
    "import mplfinance as mpf\n",
    "import openpyxl\n",
    "import tabulate\n",
    "from pathlib import Path"
   ]
  },
  {
   "source": [
    "# Data Import"
   ],
   "cell_type": "markdown",
   "metadata": {}
  },
  {
   "cell_type": "code",
   "execution_count": 11,
   "metadata": {},
   "outputs": [],
   "source": [
    "# Paths to files\n",
    "all_coins_path = '../coin-prices/'\n",
    "btc_path = '../coin-prices/btc/'\n",
    "doge_path = '../coin-prices/doge/'\n",
    "eth_path = '../coin-prices/eth/'"
   ]
  },
  {
   "cell_type": "code",
   "execution_count": 12,
   "metadata": {},
   "outputs": [],
   "source": [
    "# File Names\n",
    "all_coins_daily_2y_file = 'all_coins_daily_2y_2021-07-03.csv'\n",
    "all_coins_daily_ytd_file = 'all_coins_daily_ytd_2021-07-03.csv'\n",
    "all_coins_weekly_2y_file = 'all_coins_weekly_2y_2021-07-03.csv'\n",
    "btc_daily_2y_file = 'btc_daily_2y_2021-07-03.csv'\n",
    "btc_daily_ytd_file = 'btc_daily_ytd_2021-07-03.csv'\n",
    "btc_weekly_2y_file = 'btc_weekly_2y_2021-07-03.csv'\n",
    "btc_weekly_yrd_file = 'btc_weekly_ytd_2021-07-03.csv'\n",
    "doge_daily_2y_file = 'doge_daily_2y_2021-07-03.csv'\n",
    "doge_daily_ytd_file = 'doge_daily_ytd_2021-07-03.csv'\n",
    "doge_weekly_2y_file = 'doge_weekly_2y_2021-07-03.csv'\n",
    "doge_weekly_yrd_file = 'doge_weekly_ytd_2021-07-03.csv'\n",
    "eth_daily_2y_file = 'eth_daily_2y_2021-07-03.csv'\n",
    "eth_daily_ytd_file = 'eth_daily_ytd_2021-07-03.csv'\n",
    "eth_weekly_2y_file = 'eth_weekly_2y_2021-07-03.csv'\n",
    "eth_weekly_yrd_file = 'eth_weekly_ytd_2021-07-03.csv'"
   ]
  },
  {
   "cell_type": "code",
   "execution_count": 13,
   "metadata": {},
   "outputs": [],
   "source": [
    "# Import Data as Prepared beforehand\n",
    "btc_data = pd.read_csv(btc_path + btc_daily_2y_file, parse_dates = True, index_col = 0)\n",
    "btc_data.index.name = 'Date'\n",
    "doge_data = pd.read_csv(doge_path + doge_daily_2y_file, parse_dates = True, index_col = 0)\n",
    "doge_data.index.name = 'Date'\n",
    "eth_data = pd.read_csv(eth_path + eth_daily_2y_file, parse_dates = True, index_col = 0)\n",
    "eth_data.index.name = 'Date'"
   ]
  },
  {
   "cell_type": "code",
   "execution_count": 14,
   "metadata": {},
   "outputs": [
    {
     "output_type": "execute_result",
     "data": {
      "text/plain": [
       "          Podcast                      Title       Date Sentence  Coin  \\\n",
       "159  AltcoinDaily                     Title3 2021-05-15    w6ruj   ETH   \n",
       "160  AltcoinDaily                     Title3 2021-05-15      e57   BTC   \n",
       "161  AltcoinDaily                     Title3 2021-05-15       kj  DOGE   \n",
       "162  AltcoinDaily                     Title3 2021-05-15      rsn  DOGE   \n",
       "156  AltcoinDaily                     Title3 2021-05-15      fhb   BTC   \n",
       "..            ...                        ...        ...      ...   ...   \n",
       "134  AltcoinDaily                     Title1 2021-06-28       ge  DOGE   \n",
       "135  AltcoinDaily                     Title1 2021-06-28    rgerh   BTC   \n",
       "136  AltcoinDaily                     Title1 2021-06-28     serg   ETH   \n",
       "14           Web3  This Week in Blockchain 1 2021-06-28      guk   ETH   \n",
       "0            Web3  This Week in Blockchain 1 2021-06-28    rgerh   ETH   \n",
       "\n",
       "    Sentiment  \n",
       "159   bearish  \n",
       "160   bullish  \n",
       "161   bearish  \n",
       "162   bearish  \n",
       "156   bearish  \n",
       "..        ...  \n",
       "134   bullish  \n",
       "135   bullish  \n",
       "136   bearish  \n",
       "14    bullish  \n",
       "0     bullish  \n",
       "\n",
       "[184 rows x 6 columns]"
      ],
      "text/html": "<div>\n<style scoped>\n    .dataframe tbody tr th:only-of-type {\n        vertical-align: middle;\n    }\n\n    .dataframe tbody tr th {\n        vertical-align: top;\n    }\n\n    .dataframe thead th {\n        text-align: right;\n    }\n</style>\n<table border=\"1\" class=\"dataframe\">\n  <thead>\n    <tr style=\"text-align: right;\">\n      <th></th>\n      <th>Podcast</th>\n      <th>Title</th>\n      <th>Date</th>\n      <th>Sentence</th>\n      <th>Coin</th>\n      <th>Sentiment</th>\n    </tr>\n  </thead>\n  <tbody>\n    <tr>\n      <th>159</th>\n      <td>AltcoinDaily</td>\n      <td>Title3</td>\n      <td>2021-05-15</td>\n      <td>w6ruj</td>\n      <td>ETH</td>\n      <td>bearish</td>\n    </tr>\n    <tr>\n      <th>160</th>\n      <td>AltcoinDaily</td>\n      <td>Title3</td>\n      <td>2021-05-15</td>\n      <td>e57</td>\n      <td>BTC</td>\n      <td>bullish</td>\n    </tr>\n    <tr>\n      <th>161</th>\n      <td>AltcoinDaily</td>\n      <td>Title3</td>\n      <td>2021-05-15</td>\n      <td>kj</td>\n      <td>DOGE</td>\n      <td>bearish</td>\n    </tr>\n    <tr>\n      <th>162</th>\n      <td>AltcoinDaily</td>\n      <td>Title3</td>\n      <td>2021-05-15</td>\n      <td>rsn</td>\n      <td>DOGE</td>\n      <td>bearish</td>\n    </tr>\n    <tr>\n      <th>156</th>\n      <td>AltcoinDaily</td>\n      <td>Title3</td>\n      <td>2021-05-15</td>\n      <td>fhb</td>\n      <td>BTC</td>\n      <td>bearish</td>\n    </tr>\n    <tr>\n      <th>...</th>\n      <td>...</td>\n      <td>...</td>\n      <td>...</td>\n      <td>...</td>\n      <td>...</td>\n      <td>...</td>\n    </tr>\n    <tr>\n      <th>134</th>\n      <td>AltcoinDaily</td>\n      <td>Title1</td>\n      <td>2021-06-28</td>\n      <td>ge</td>\n      <td>DOGE</td>\n      <td>bullish</td>\n    </tr>\n    <tr>\n      <th>135</th>\n      <td>AltcoinDaily</td>\n      <td>Title1</td>\n      <td>2021-06-28</td>\n      <td>rgerh</td>\n      <td>BTC</td>\n      <td>bullish</td>\n    </tr>\n    <tr>\n      <th>136</th>\n      <td>AltcoinDaily</td>\n      <td>Title1</td>\n      <td>2021-06-28</td>\n      <td>serg</td>\n      <td>ETH</td>\n      <td>bearish</td>\n    </tr>\n    <tr>\n      <th>14</th>\n      <td>Web3</td>\n      <td>This Week in Blockchain 1</td>\n      <td>2021-06-28</td>\n      <td>guk</td>\n      <td>ETH</td>\n      <td>bullish</td>\n    </tr>\n    <tr>\n      <th>0</th>\n      <td>Web3</td>\n      <td>This Week in Blockchain 1</td>\n      <td>2021-06-28</td>\n      <td>rgerh</td>\n      <td>ETH</td>\n      <td>bullish</td>\n    </tr>\n  </tbody>\n</table>\n<p>184 rows × 6 columns</p>\n</div>"
     },
     "metadata": {},
     "execution_count": 14
    }
   ],
   "source": [
    "SA_results_path = '../results/'\n",
    "results_file_name = 'sample-data.xlsx'\n",
    "#results = openpyxl.load_workbook(SA_results_path + results_file_name) \n",
    "#sheet = results.active\n",
    "#print(sheet.max_row, sheet.max_column)\n",
    "\n",
    "results = pd.read_excel(SA_results_path + results_file_name, header = 0, index_col = False, keep_default_na = True)\n",
    "results.sort_values(by = \"Date\")\n",
    "#display(results)"
   ]
  },
  {
   "source": [
    "# Extracting Data"
   ],
   "cell_type": "markdown",
   "metadata": {}
  },
  {
   "source": [
    "## by Coin"
   ],
   "cell_type": "markdown",
   "metadata": {}
  },
  {
   "cell_type": "code",
   "execution_count": 15,
   "metadata": {},
   "outputs": [],
   "source": [
    "BTC_signals = results.query('Coin == \"BTC\"')\n",
    "DOGE_signals = results.query('Coin == \"DOGE\"')\n",
    "ETH_signals = results.query('Coin == \"ETH\"')\n",
    "list_of_coins = (\"BTC\", \"DOGE\", \"ETH\")\n",
    "# print(list_of_coins)\n",
    "number_of_sentiments_per_coin = results.groupby('Coin').size()\n",
    "#print(number_of_sentiments_per_coin)\n",
    "### by Coin = BTC\n",
    "btc_sentiments_total = BTC_signals['Sentiment'].value_counts(dropna=False)\n",
    "#print(btc_sentiments_total)\n",
    "### by Coin = DOGE\n",
    "doge_sentiments_total = DOGE_signals['Sentiment'].value_counts(dropna=False)\n",
    "#print(doge_sentiments_total)\n",
    "### by Coin = ETH\n",
    "eth_sentiments_total = ETH_signals['Sentiment'].value_counts(dropna=False)\n",
    "#print(eth_sentiments_total)"
   ]
  },
  {
   "source": [
    "## by Podcast"
   ],
   "cell_type": "markdown",
   "metadata": {}
  },
  {
   "cell_type": "code",
   "execution_count": 16,
   "metadata": {},
   "outputs": [],
   "source": [
    "# get all unique Podcasts (Podcast Name not Podcast Title)\n",
    "# make query subsets for each unique podcast\n",
    "list_of_podcasts = results.Podcast.unique()\n",
    "# print(list_of_podcasts)\n",
    "grouped_by_podcasts = results.groupby('Podcast')\n",
    "#grouped_by_podcasts.head()\n",
    "number_of_sentiments_per_podcasts = results.groupby('Podcast').size()\n",
    "#print(number_of_sentiments_per_podcasts)"
   ]
  },
  {
   "source": [
    "## by Date"
   ],
   "cell_type": "markdown",
   "metadata": {}
  },
  {
   "cell_type": "code",
   "execution_count": 17,
   "metadata": {},
   "outputs": [],
   "source": [
    "list_of_dates = results.Date.unique()\n",
    "#print(list_of_dates)\n",
    "grouped_by_date = results.groupby('Date')\n",
    "#grouped_by_date.head()\n",
    "number_of_sentiments_per_date = results.groupby('Date').size()\n",
    "#print(number_of_date)\n",
    "sentiments_per_date = grouped_by_date['Sentiment'].value_counts(dropna=False)\n",
    "#print(sentiments_per_date)"
   ]
  },
  {
   "source": [
    "## by Sentiment"
   ],
   "cell_type": "markdown",
   "metadata": {}
  },
  {
   "cell_type": "code",
   "execution_count": 18,
   "metadata": {},
   "outputs": [],
   "source": [
    "list_of_sentiments = (\"bullish\", \"neutral\", \"bearish\")\n",
    "# print(list_of_sentiments)\n",
    "number_of_sentiments = results.groupby('Sentiment').size()\n",
    "#print(number_of_sentiments)"
   ]
  },
  {
   "source": [
    "## Combining Data Extracts: Coin per Date"
   ],
   "cell_type": "markdown",
   "metadata": {}
  },
  {
   "cell_type": "code",
   "execution_count": 19,
   "metadata": {},
   "outputs": [],
   "source": [
    "btc_grouped_by_date = BTC_signals.groupby('Date')\n",
    "#btc_grouped_by_date.head()"
   ]
  },
  {
   "source": [
    "## Combining Data Extracts: Coin per Sentiment"
   ],
   "cell_type": "markdown",
   "metadata": {}
  },
  {
   "cell_type": "code",
   "execution_count": 20,
   "metadata": {},
   "outputs": [],
   "source": [
    "### Sentiment == Bullish\n",
    "btc_bullish = BTC_signals.query('Sentiment == \"bullish\"')\n",
    "#print(btc_bullish)\n",
    "doge_bullish = DOGE_signals.query('Sentiment == \"bullish\"')\n",
    "#print(doge_bullish)\n",
    "eth_bullish = ETH_signals.query('Sentiment == \"bullish\"')\n",
    "#print(eth_bullish)\n",
    "\n",
    "### Sentiment == Bearish\n",
    "btc_bearish = BTC_signals.query('Sentiment == \"bearish\"')\n",
    "#print(btc_bearish)\n",
    "doge_bearish = DOGE_signals.query('Sentiment == \"bearish\"')\n",
    "#print(doge_bearish)\n",
    "eth_bearish = ETH_signals.query('Sentiment == \"bearish\"')\n",
    "#print(eth_bearish)\n",
    "\n",
    "### Sentiment == Neutral\n",
    "btc_neutral = BTC_signals.query('Sentiment == \"neutral\"')\n",
    "#print(btc_neutral)\n",
    "doge_neutral = DOGE_signals.query('Sentiment == \"neutral\"')\n",
    "#print(doge_neutral)\n",
    "eth_neutral = ETH_signals.query('Sentiment == \"neutral\"')\n",
    "#print(eth_neutral)\n",
    "\n",
    "### Special Case: Sentiment == bearish && Sentiment == neutral\n",
    "btc_bearishn = BTC_signals.query('Sentiment != \"bullish\"')\n",
    "#print(btc_bearishn)\n",
    "doge_bearishn = DOGE_signals.query('Sentiment != \"bullish\"')\n",
    "#print(doge_bearishn)\n",
    "eth_bearishn = ETH_signals.query('Sentiment != \"bullish\"')\n",
    "#print(eth_bearishn)"
   ]
  },
  {
   "source": [
    "## Combining Data Extracts: Coin per Sentiment per Date"
   ],
   "cell_type": "markdown",
   "metadata": {}
  },
  {
   "cell_type": "code",
   "execution_count": 21,
   "metadata": {},
   "outputs": [],
   "source": [
    "### Sentiment == bullish\n",
    "btc_bullish_by_date = btc_bullish.groupby('Date').size()\n",
    "btc_bullish_by_date.name = \"BTC_bull_freq\"\n",
    "#btc_bullish_by_date.head()\n",
    "doge_bullish_by_date = doge_bullish.groupby('Date').size()\n",
    "doge_bullish_by_date.name = \"DOGE_bull_freq\"\n",
    "#doge_bullish_by_date.head()\n",
    "eth_bullish_by_date = eth_bullish.groupby('Date').size()\n",
    "eth_bullish_by_date.name = \"ETH_bull_freq\"\n",
    "#eth_bullish_by_date.head()\n",
    "\n",
    "### Sentiment == bearish\n",
    "btc_bearish_by_date = btc_bearish.groupby('Date').size()\n",
    "btc_bearish_by_date.name = \"BTC_bear_freq\"\n",
    "#btc_bearish_by_date.head()\n",
    "doge_bearish_by_date = doge_bearish.groupby('Date').size()\n",
    "doge_bearish_by_date.name = \"DOGE_bear_freq\"\n",
    "#doge_bearish_by_date.head()\n",
    "eth_bearish_by_date = eth_bearish.groupby('Date').size()\n",
    "eth_bearish_by_date.name = \"ETH_bear_freq\"\n",
    "#eth_bearish_by_date.head()\n",
    "\n",
    "#### Sentiment == bearish && neutral\n",
    "btc_bearishn_by_date = btc_bearishn.groupby('Date').size()\n",
    "btc_bearishn_by_date.name = \"BTC_bearn_freq\"\n",
    "#btc_bearishn_by_date.head()\n",
    "doge_bearishn_by_date = doge_bearishn.groupby('Date').size()\n",
    "doge_bearishn_by_date.name = \"DOGE_bearn_freq\"\n",
    "#doge_bearishn_by_date.head()\n",
    "eth_bearishn_by_date = eth_bearishn.groupby('Date').size()\n",
    "eth_bearishn_by_date.name = \"ETH_bearn_freq\"\n",
    "#eth_bearishn_by_date.head()\n",
    "\n",
    "#### Sentiment == neutral\n",
    "btc_neutral_by_date = btc_neutral.groupby('Date').size()\n",
    "btc_neutral_by_date.name = \"BTC_neutral_freq\"\n",
    "#btc_neutral_by_date.head()\n",
    "doge_neutral_by_date = doge_neutral.groupby('Date').size()\n",
    "doge_neutral_by_date.name = \"DOGE_neutral_freq\"\n",
    "#doge_neutral_by_date.head()\n",
    "eth_neutral_by_date = eth_neutral.groupby('Date').size()\n",
    "eth_neutral_by_date.name = \"ETH_neutral_freq\"\n",
    "#eth_neutral_by_date.head()"
   ]
  },
  {
   "source": [
    "## Combining Data Extracts: Aggregate Sentiments by Sentiment Type"
   ],
   "cell_type": "markdown",
   "metadata": {}
  },
  {
   "cell_type": "code",
   "execution_count": 22,
   "metadata": {},
   "outputs": [],
   "source": [
    "### Bullish\n",
    "bullish_sentiment_collector = pd.merge(btc_bullish_by_date.to_frame(), doge_bullish_by_date.to_frame(), on = \"Date\")\n",
    "bullish_sentiment_collector = pd.merge(bullish_sentiment_collector, eth_bullish_by_date.to_frame(), on = \"Date\")\n",
    "#print(bullish_sentiment_collector)\n",
    "\n",
    "### Bearish\n",
    "bearish_sentiment_collector = pd.merge(btc_bearish_by_date.to_frame(), doge_bearish_by_date.to_frame(), on = \"Date\")\n",
    "bearish_sentiment_collector = pd.merge(bearish_sentiment_collector, eth_bearish_by_date.to_frame(), on = \"Date\")\n",
    "#print(bearish_sentiment_collector)\n",
    "\n",
    "### Neutral\n",
    "neutral_sentiment_collector = pd.merge(btc_neutral_by_date.to_frame(), doge_neutral_by_date.to_frame(), on = \"Date\")\n",
    "neutral_sentiment_collector = pd.merge(neutral_sentiment_collector, eth_neutral_by_date.to_frame(), on = \"Date\")\n",
    "#print(neutral_sentiment_collector)\n",
    "\n",
    "### Special Case: BearishN\n",
    "bearishn_sentiment_collector = pd.merge(btc_bearishn_by_date.to_frame(), doge_bearishn_by_date.to_frame(), on = \"Date\")\n",
    "bearishn_sentiment_collector = pd.merge(bearishn_sentiment_collector, eth_bearishn_by_date.to_frame(), on = \"Date\")\n",
    "#print(bearishn_sentiment_collector)"
   ]
  },
  {
   "source": [
    "## Combining Data Extracts: Aggregate Sentiments - All in One"
   ],
   "cell_type": "markdown",
   "metadata": {}
  },
  {
   "cell_type": "code",
   "execution_count": 23,
   "metadata": {},
   "outputs": [],
   "source": [
    "all_sentiments_by_date = pd.merge(bullish_sentiment_collector, bearishn_sentiment_collector, on = \"Date\")\n",
    "all_sentiments_by_date = pd.merge(all_sentiments_by_date, bearish_sentiment_collector, on = \"Date\")\n",
    "#all_sentiments_by_date = pd.merge(all_sentiments_by_date, neutral_sentiment_collector, on = \"Date\")\n",
    "#print(all_sentiments_by_date)"
   ]
  },
  {
   "source": [
    "## Calculate Sentiment per Coin per Day: Bull - BearN"
   ],
   "cell_type": "markdown",
   "metadata": {}
  },
  {
   "cell_type": "code",
   "execution_count": 24,
   "metadata": {},
   "outputs": [],
   "source": [
    "## Find Stronger Sentiment: Bullish - BearishN\n",
    "\n",
    "### BTC\n",
    "btc_final_sentiment_by_date = all_sentiments_by_date['BTC_bull_freq'] - all_sentiments_by_date['BTC_bearn_freq']\n",
    "btc_final_sentiment_by_date.name = 'BTC_final_sentiment'\n",
    "#print(btc_final_sentiment_by_date)\n",
    "\n",
    "### DOGE\n",
    "doge_final_sentiment_by_date = all_sentiments_by_date['DOGE_bull_freq'] - all_sentiments_by_date['DOGE_bearn_freq']\n",
    "doge_final_sentiment_by_date.name = 'DOGE_final_sentiment'\n",
    "#print(doge_final_sentiment_by_date)\n",
    "\n",
    "### ETH\n",
    "eth_final_sentiment_by_date = all_sentiments_by_date['ETH_bull_freq'] - all_sentiments_by_date['ETH_bearn_freq']\n",
    "eth_final_sentiment_by_date.name = 'ETH_final_sentiment'\n",
    "#print(eth_final_sentiment_by_date)"
   ]
  },
  {
   "cell_type": "code",
   "execution_count": 25,
   "metadata": {},
   "outputs": [
    {
     "output_type": "stream",
     "name": "stdout",
     "text": [
      "| Date                |   BTC_bull_freq |   DOGE_bull_freq |   ETH_bull_freq |   BTC_bearn_freq |   DOGE_bearn_freq |   ETH_bearn_freq |   BTC_bear_freq |   DOGE_bear_freq |   ETH_bear_freq |\n|:--------------------|----------------:|-----------------:|----------------:|-----------------:|------------------:|-----------------:|----------------:|-----------------:|----------------:|\n| 2021-05-15 00:00:00 |               2 |                2 |               3 |                2 |                 3 |                2 |               2 |                3 |               2 |\n| 2021-05-31 00:00:00 |               6 |                2 |               4 |                1 |                 3 |                2 |               1 |                3 |               2 |\n| 2021-06-01 00:00:00 |               3 |                2 |               5 |                1 |                 3 |                9 |               1 |                3 |               9 |\n| 2021-06-14 00:00:00 |               7 |                7 |               7 |                4 |                 4 |                5 |               4 |                4 |               5 |\n| 2021-06-15 00:00:00 |               3 |                1 |              11 |                4 |                 3 |                4 |               4 |                3 |               4 |\n| 2021-06-21 00:00:00 |               3 |                4 |               1 |                1 |                 1 |                2 |               1 |                1 |               2 |\n| 2021-06-27 00:00:00 |               2 |                2 |               3 |                1 |                 2 |                2 |               1 |                2 |               2 |\n| 2021-06-28 00:00:00 |               6 |                5 |               6 |                3 |                 3 |                6 |               3 |                3 |               6 |\n"
     ]
    }
   ],
   "source": [
    "# Experiment: how does this look like on github?\n",
    "print(all_sentiments_by_date.to_markdown())"
   ]
  },
  {
   "source": [
    "## Prepare Comparison: Build Sentiment Database"
   ],
   "cell_type": "markdown",
   "metadata": {}
  },
  {
   "source": [
    "### Approach 1: All in One"
   ],
   "cell_type": "markdown",
   "metadata": {}
  },
  {
   "cell_type": "code",
   "execution_count": 26,
   "metadata": {},
   "outputs": [
    {
     "output_type": "display_data",
     "data": {
      "text/plain": "            BTC_bull_freq  DOGE_bull_freq  ETH_bull_freq  BTC_bearn_freq  \\\nDate                                                                       \n2021-05-15              2               2              3               2   \n2021-05-31              6               2              4               1   \n2021-06-01              3               2              5               1   \n2021-06-14              7               7              7               4   \n2021-06-15              3               1             11               4   \n2021-06-21              3               4              1               1   \n2021-06-27              2               2              3               1   \n2021-06-28              6               5              6               3   \n\n            DOGE_bearn_freq  ETH_bearn_freq  BTC_bear_freq  DOGE_bear_freq  \\\nDate                                                                         \n2021-05-15                3               2              2               3   \n2021-05-31                3               2              1               3   \n2021-06-01                3               9              1               3   \n2021-06-14                4               5              4               4   \n2021-06-15                3               4              4               3   \n2021-06-21                1               2              1               1   \n2021-06-27                2               2              1               2   \n2021-06-28                3               6              3               3   \n\n            ETH_bear_freq  BTC_final_sentiment  DOGE_final_sentiment  \\\nDate                                                                   \n2021-05-15              2                    0                    -1   \n2021-05-31              2                    5                    -1   \n2021-06-01              9                    2                    -1   \n2021-06-14              5                    3                     3   \n2021-06-15              4                   -1                    -2   \n2021-06-21              2                    2                     3   \n2021-06-27              2                    1                     0   \n2021-06-28              6                    3                     2   \n\n            ETH_final_sentiment  \nDate                             \n2021-05-15                    1  \n2021-05-31                    2  \n2021-06-01                   -4  \n2021-06-14                    2  \n2021-06-15                    7  \n2021-06-21                   -1  \n2021-06-27                    1  \n2021-06-28                    0  ",
      "text/html": "<div>\n<style scoped>\n    .dataframe tbody tr th:only-of-type {\n        vertical-align: middle;\n    }\n\n    .dataframe tbody tr th {\n        vertical-align: top;\n    }\n\n    .dataframe thead th {\n        text-align: right;\n    }\n</style>\n<table border=\"1\" class=\"dataframe\">\n  <thead>\n    <tr style=\"text-align: right;\">\n      <th></th>\n      <th>BTC_bull_freq</th>\n      <th>DOGE_bull_freq</th>\n      <th>ETH_bull_freq</th>\n      <th>BTC_bearn_freq</th>\n      <th>DOGE_bearn_freq</th>\n      <th>ETH_bearn_freq</th>\n      <th>BTC_bear_freq</th>\n      <th>DOGE_bear_freq</th>\n      <th>ETH_bear_freq</th>\n      <th>BTC_final_sentiment</th>\n      <th>DOGE_final_sentiment</th>\n      <th>ETH_final_sentiment</th>\n    </tr>\n    <tr>\n      <th>Date</th>\n      <th></th>\n      <th></th>\n      <th></th>\n      <th></th>\n      <th></th>\n      <th></th>\n      <th></th>\n      <th></th>\n      <th></th>\n      <th></th>\n      <th></th>\n      <th></th>\n    </tr>\n  </thead>\n  <tbody>\n    <tr>\n      <th>2021-05-15</th>\n      <td>2</td>\n      <td>2</td>\n      <td>3</td>\n      <td>2</td>\n      <td>3</td>\n      <td>2</td>\n      <td>2</td>\n      <td>3</td>\n      <td>2</td>\n      <td>0</td>\n      <td>-1</td>\n      <td>1</td>\n    </tr>\n    <tr>\n      <th>2021-05-31</th>\n      <td>6</td>\n      <td>2</td>\n      <td>4</td>\n      <td>1</td>\n      <td>3</td>\n      <td>2</td>\n      <td>1</td>\n      <td>3</td>\n      <td>2</td>\n      <td>5</td>\n      <td>-1</td>\n      <td>2</td>\n    </tr>\n    <tr>\n      <th>2021-06-01</th>\n      <td>3</td>\n      <td>2</td>\n      <td>5</td>\n      <td>1</td>\n      <td>3</td>\n      <td>9</td>\n      <td>1</td>\n      <td>3</td>\n      <td>9</td>\n      <td>2</td>\n      <td>-1</td>\n      <td>-4</td>\n    </tr>\n    <tr>\n      <th>2021-06-14</th>\n      <td>7</td>\n      <td>7</td>\n      <td>7</td>\n      <td>4</td>\n      <td>4</td>\n      <td>5</td>\n      <td>4</td>\n      <td>4</td>\n      <td>5</td>\n      <td>3</td>\n      <td>3</td>\n      <td>2</td>\n    </tr>\n    <tr>\n      <th>2021-06-15</th>\n      <td>3</td>\n      <td>1</td>\n      <td>11</td>\n      <td>4</td>\n      <td>3</td>\n      <td>4</td>\n      <td>4</td>\n      <td>3</td>\n      <td>4</td>\n      <td>-1</td>\n      <td>-2</td>\n      <td>7</td>\n    </tr>\n    <tr>\n      <th>2021-06-21</th>\n      <td>3</td>\n      <td>4</td>\n      <td>1</td>\n      <td>1</td>\n      <td>1</td>\n      <td>2</td>\n      <td>1</td>\n      <td>1</td>\n      <td>2</td>\n      <td>2</td>\n      <td>3</td>\n      <td>-1</td>\n    </tr>\n    <tr>\n      <th>2021-06-27</th>\n      <td>2</td>\n      <td>2</td>\n      <td>3</td>\n      <td>1</td>\n      <td>2</td>\n      <td>2</td>\n      <td>1</td>\n      <td>2</td>\n      <td>2</td>\n      <td>1</td>\n      <td>0</td>\n      <td>1</td>\n    </tr>\n    <tr>\n      <th>2021-06-28</th>\n      <td>6</td>\n      <td>5</td>\n      <td>6</td>\n      <td>3</td>\n      <td>3</td>\n      <td>6</td>\n      <td>3</td>\n      <td>3</td>\n      <td>6</td>\n      <td>3</td>\n      <td>2</td>\n      <td>0</td>\n    </tr>\n  </tbody>\n</table>\n</div>"
     },
     "metadata": {}
    }
   ],
   "source": [
    "### BTC\n",
    "all_sentiments_by_date = pd.merge(all_sentiments_by_date, btc_final_sentiment_by_date.to_frame(), on = \"Date\")\n",
    "#print(all_sentiments_by_date)\n",
    "\n",
    "### DOGE\n",
    "all_sentiments_by_date = pd.merge(all_sentiments_by_date, doge_final_sentiment_by_date.to_frame(), on = \"Date\")\n",
    "#print(all_sentiments_by_date)\n",
    "\n",
    "### ETH\n",
    "all_sentiments_by_date = pd.merge(all_sentiments_by_date, eth_final_sentiment_by_date.to_frame(), on = \"Date\")\n",
    "#print(all_sentiments_by_date)\n",
    "\n",
    "display(all_sentiments_by_date)"
   ]
  },
  {
   "source": [
    "### Approach 2: Fresh, Dedicated Table"
   ],
   "cell_type": "markdown",
   "metadata": {}
  },
  {
   "cell_type": "code",
   "execution_count": 27,
   "metadata": {},
   "outputs": [
    {
     "output_type": "display_data",
     "data": {
      "text/plain": "            BTC_final_sentiment  DOGE_final_sentiment  ETH_final_sentiment\nDate                                                                      \n2021-05-15                    0                    -1                    1\n2021-05-31                    5                    -1                    2\n2021-06-01                    2                    -1                   -4\n2021-06-14                    3                     3                    2\n2021-06-15                   -1                    -2                    7\n2021-06-21                    2                     3                   -1\n2021-06-27                    1                     0                    1\n2021-06-28                    3                     2                    0",
      "text/html": "<div>\n<style scoped>\n    .dataframe tbody tr th:only-of-type {\n        vertical-align: middle;\n    }\n\n    .dataframe tbody tr th {\n        vertical-align: top;\n    }\n\n    .dataframe thead th {\n        text-align: right;\n    }\n</style>\n<table border=\"1\" class=\"dataframe\">\n  <thead>\n    <tr style=\"text-align: right;\">\n      <th></th>\n      <th>BTC_final_sentiment</th>\n      <th>DOGE_final_sentiment</th>\n      <th>ETH_final_sentiment</th>\n    </tr>\n    <tr>\n      <th>Date</th>\n      <th></th>\n      <th></th>\n      <th></th>\n    </tr>\n  </thead>\n  <tbody>\n    <tr>\n      <th>2021-05-15</th>\n      <td>0</td>\n      <td>-1</td>\n      <td>1</td>\n    </tr>\n    <tr>\n      <th>2021-05-31</th>\n      <td>5</td>\n      <td>-1</td>\n      <td>2</td>\n    </tr>\n    <tr>\n      <th>2021-06-01</th>\n      <td>2</td>\n      <td>-1</td>\n      <td>-4</td>\n    </tr>\n    <tr>\n      <th>2021-06-14</th>\n      <td>3</td>\n      <td>3</td>\n      <td>2</td>\n    </tr>\n    <tr>\n      <th>2021-06-15</th>\n      <td>-1</td>\n      <td>-2</td>\n      <td>7</td>\n    </tr>\n    <tr>\n      <th>2021-06-21</th>\n      <td>2</td>\n      <td>3</td>\n      <td>-1</td>\n    </tr>\n    <tr>\n      <th>2021-06-27</th>\n      <td>1</td>\n      <td>0</td>\n      <td>1</td>\n    </tr>\n    <tr>\n      <th>2021-06-28</th>\n      <td>3</td>\n      <td>2</td>\n      <td>0</td>\n    </tr>\n  </tbody>\n</table>\n</div>"
     },
     "metadata": {}
    }
   ],
   "source": [
    "calc_final_sentiments_by_date = pd.merge(btc_final_sentiment_by_date.to_frame(), doge_final_sentiment_by_date.to_frame(), on = \"Date\")\n",
    "calc_final_sentiments_by_date = pd.merge(calc_final_sentiments_by_date, eth_final_sentiment_by_date.to_frame(), on = \"Date\")\n",
    "\n",
    "display(calc_final_sentiments_by_date)"
   ]
  },
  {
   "source": [
    "# Comparison"
   ],
   "cell_type": "markdown",
   "metadata": {}
  },
  {
   "source": [
    "## Bitcoin (BTC)"
   ],
   "cell_type": "markdown",
   "metadata": {}
  },
  {
   "cell_type": "code",
   "execution_count": 28,
   "metadata": {},
   "outputs": [
    {
     "output_type": "display_data",
     "data": {
      "text/plain": "            BTC_final_sentiment          Open          High           Low  \\\nDate                                                                        \n2021-05-15                    0  49855.496094  50639.664062  46664.140625   \n2021-05-31                    5  35658.593750  37468.250000  34241.945312   \n2021-06-01                    2  37293.792969  37896.734375  35787.085938   \n2021-06-14                    3  39016.968750  40978.363281  38757.285156   \n2021-06-15                   -1  40427.167969  41295.269531  39609.468750   \n2021-06-21                    2  35641.144531  35721.640625  31295.935547   \n2021-06-27                    1  32287.523438  34656.128906  32071.757812   \n2021-06-28                    3  34679.121094  35219.890625  33902.074219   \n\n                   Close       Volume  EmpiricalPriceTrend  \nDate                                                        \n2021-05-15  46760.187500  59161047474         -3095.308594  \n2021-05-31  37332.855469  39009847639          1674.261719  \n2021-06-01  36684.925781  34639423297          -608.867188  \n2021-06-14  40218.476562  43148914673          1201.507812  \n2021-06-15  40406.269531  46420149185           -20.898438  \n2021-06-21  31676.693359  52809038594         -3964.451172  \n2021-06-27  34649.644531  35511640894          2362.121094  \n2021-06-28  34434.335938  33892523752          -244.785156  ",
      "text/html": "<div>\n<style scoped>\n    .dataframe tbody tr th:only-of-type {\n        vertical-align: middle;\n    }\n\n    .dataframe tbody tr th {\n        vertical-align: top;\n    }\n\n    .dataframe thead th {\n        text-align: right;\n    }\n</style>\n<table border=\"1\" class=\"dataframe\">\n  <thead>\n    <tr style=\"text-align: right;\">\n      <th></th>\n      <th>BTC_final_sentiment</th>\n      <th>Open</th>\n      <th>High</th>\n      <th>Low</th>\n      <th>Close</th>\n      <th>Volume</th>\n      <th>EmpiricalPriceTrend</th>\n    </tr>\n    <tr>\n      <th>Date</th>\n      <th></th>\n      <th></th>\n      <th></th>\n      <th></th>\n      <th></th>\n      <th></th>\n      <th></th>\n    </tr>\n  </thead>\n  <tbody>\n    <tr>\n      <th>2021-05-15</th>\n      <td>0</td>\n      <td>49855.496094</td>\n      <td>50639.664062</td>\n      <td>46664.140625</td>\n      <td>46760.187500</td>\n      <td>59161047474</td>\n      <td>-3095.308594</td>\n    </tr>\n    <tr>\n      <th>2021-05-31</th>\n      <td>5</td>\n      <td>35658.593750</td>\n      <td>37468.250000</td>\n      <td>34241.945312</td>\n      <td>37332.855469</td>\n      <td>39009847639</td>\n      <td>1674.261719</td>\n    </tr>\n    <tr>\n      <th>2021-06-01</th>\n      <td>2</td>\n      <td>37293.792969</td>\n      <td>37896.734375</td>\n      <td>35787.085938</td>\n      <td>36684.925781</td>\n      <td>34639423297</td>\n      <td>-608.867188</td>\n    </tr>\n    <tr>\n      <th>2021-06-14</th>\n      <td>3</td>\n      <td>39016.968750</td>\n      <td>40978.363281</td>\n      <td>38757.285156</td>\n      <td>40218.476562</td>\n      <td>43148914673</td>\n      <td>1201.507812</td>\n    </tr>\n    <tr>\n      <th>2021-06-15</th>\n      <td>-1</td>\n      <td>40427.167969</td>\n      <td>41295.269531</td>\n      <td>39609.468750</td>\n      <td>40406.269531</td>\n      <td>46420149185</td>\n      <td>-20.898438</td>\n    </tr>\n    <tr>\n      <th>2021-06-21</th>\n      <td>2</td>\n      <td>35641.144531</td>\n      <td>35721.640625</td>\n      <td>31295.935547</td>\n      <td>31676.693359</td>\n      <td>52809038594</td>\n      <td>-3964.451172</td>\n    </tr>\n    <tr>\n      <th>2021-06-27</th>\n      <td>1</td>\n      <td>32287.523438</td>\n      <td>34656.128906</td>\n      <td>32071.757812</td>\n      <td>34649.644531</td>\n      <td>35511640894</td>\n      <td>2362.121094</td>\n    </tr>\n    <tr>\n      <th>2021-06-28</th>\n      <td>3</td>\n      <td>34679.121094</td>\n      <td>35219.890625</td>\n      <td>33902.074219</td>\n      <td>34434.335938</td>\n      <td>33892523752</td>\n      <td>-244.785156</td>\n    </tr>\n  </tbody>\n</table>\n</div>"
     },
     "metadata": {}
    }
   ],
   "source": [
    "### BTC\n",
    "comparison_table_bitcoin = pd.merge(btc_final_sentiment_by_date.to_frame(), btc_data, on = \"Date\")\n",
    "comparison_table_bitcoin[\"EmpiricalPriceTrend\"] = btc_data[\"Close\"] - btc_data[\"Open\"]\n",
    "display(comparison_table_bitcoin)"
   ]
  },
  {
   "source": [
    "## Dogecoin (DOGE)"
   ],
   "cell_type": "markdown",
   "metadata": {}
  },
  {
   "cell_type": "code",
   "execution_count": 29,
   "metadata": {},
   "outputs": [
    {
     "output_type": "display_data",
     "data": {
      "text/plain": "            DOGE_final_sentiment      Open      High       Low     Close  \\\nDate                                                                       \n2021-05-15                    -1  0.559668  0.562676  0.491299  0.507972   \n2021-05-31                    -1  0.301949  0.329163  0.294330  0.325810   \n2021-06-01                    -1  0.325744  0.383079  0.312360  0.370077   \n2021-06-14                     3  0.323903  0.336927  0.320087  0.332085   \n2021-06-15                    -2  0.326785  0.330495  0.316976  0.328381   \n2021-06-21                     3  0.280660  0.280889  0.166491  0.178691   \n2021-06-27                     0  0.246045  0.266891  0.240894  0.264450   \n2021-06-28                     2  0.264918  0.266982  0.250762  0.256857   \n\n                Volume  EmpiricalPriceTrend  \nDate                                         \n2021-05-15  9836892944            -0.051696  \n2021-05-31  2440829325             0.023861  \n2021-06-01  5796031087             0.044333  \n2021-06-14  1613812023             0.008182  \n2021-06-15  1687965230             0.001596  \n2021-06-21  5640232167            -0.101969  \n2021-06-27  2167521670             0.018405  \n2021-06-28  1932994784            -0.008061  ",
      "text/html": "<div>\n<style scoped>\n    .dataframe tbody tr th:only-of-type {\n        vertical-align: middle;\n    }\n\n    .dataframe tbody tr th {\n        vertical-align: top;\n    }\n\n    .dataframe thead th {\n        text-align: right;\n    }\n</style>\n<table border=\"1\" class=\"dataframe\">\n  <thead>\n    <tr style=\"text-align: right;\">\n      <th></th>\n      <th>DOGE_final_sentiment</th>\n      <th>Open</th>\n      <th>High</th>\n      <th>Low</th>\n      <th>Close</th>\n      <th>Volume</th>\n      <th>EmpiricalPriceTrend</th>\n    </tr>\n    <tr>\n      <th>Date</th>\n      <th></th>\n      <th></th>\n      <th></th>\n      <th></th>\n      <th></th>\n      <th></th>\n      <th></th>\n    </tr>\n  </thead>\n  <tbody>\n    <tr>\n      <th>2021-05-15</th>\n      <td>-1</td>\n      <td>0.559668</td>\n      <td>0.562676</td>\n      <td>0.491299</td>\n      <td>0.507972</td>\n      <td>9836892944</td>\n      <td>-0.051696</td>\n    </tr>\n    <tr>\n      <th>2021-05-31</th>\n      <td>-1</td>\n      <td>0.301949</td>\n      <td>0.329163</td>\n      <td>0.294330</td>\n      <td>0.325810</td>\n      <td>2440829325</td>\n      <td>0.023861</td>\n    </tr>\n    <tr>\n      <th>2021-06-01</th>\n      <td>-1</td>\n      <td>0.325744</td>\n      <td>0.383079</td>\n      <td>0.312360</td>\n      <td>0.370077</td>\n      <td>5796031087</td>\n      <td>0.044333</td>\n    </tr>\n    <tr>\n      <th>2021-06-14</th>\n      <td>3</td>\n      <td>0.323903</td>\n      <td>0.336927</td>\n      <td>0.320087</td>\n      <td>0.332085</td>\n      <td>1613812023</td>\n      <td>0.008182</td>\n    </tr>\n    <tr>\n      <th>2021-06-15</th>\n      <td>-2</td>\n      <td>0.326785</td>\n      <td>0.330495</td>\n      <td>0.316976</td>\n      <td>0.328381</td>\n      <td>1687965230</td>\n      <td>0.001596</td>\n    </tr>\n    <tr>\n      <th>2021-06-21</th>\n      <td>3</td>\n      <td>0.280660</td>\n      <td>0.280889</td>\n      <td>0.166491</td>\n      <td>0.178691</td>\n      <td>5640232167</td>\n      <td>-0.101969</td>\n    </tr>\n    <tr>\n      <th>2021-06-27</th>\n      <td>0</td>\n      <td>0.246045</td>\n      <td>0.266891</td>\n      <td>0.240894</td>\n      <td>0.264450</td>\n      <td>2167521670</td>\n      <td>0.018405</td>\n    </tr>\n    <tr>\n      <th>2021-06-28</th>\n      <td>2</td>\n      <td>0.264918</td>\n      <td>0.266982</td>\n      <td>0.250762</td>\n      <td>0.256857</td>\n      <td>1932994784</td>\n      <td>-0.008061</td>\n    </tr>\n  </tbody>\n</table>\n</div>"
     },
     "metadata": {}
    }
   ],
   "source": [
    "### DOGE\n",
    "comparison_table_doge = pd.merge(doge_final_sentiment_by_date.to_frame(), doge_data, on = \"Date\")\n",
    "comparison_table_doge[\"EmpiricalPriceTrend\"] = doge_data[\"Close\"] - doge_data[\"Open\"]\n",
    "display(comparison_table_doge)"
   ]
  },
  {
   "source": [
    "## Ethereum (ETH)"
   ],
   "cell_type": "markdown",
   "metadata": {}
  },
  {
   "cell_type": "code",
   "execution_count": 30,
   "metadata": {},
   "outputs": [
    {
     "output_type": "display_data",
     "data": {
      "text/plain": "            ETH_final_sentiment         Open         High          Low  \\\nDate                                                                     \n2021-05-15                    1  4075.951660  4129.185547  3638.122070   \n2021-05-31                    2  2387.198486  2715.854980  2279.505127   \n2021-06-01                   -4  2707.560547  2739.737549  2531.160645   \n2021-06-14                    2  2508.770508  2606.432861  2469.388184   \n2021-06-15                    7  2587.762695  2639.229248  2515.153076   \n2021-06-21                   -1  2245.317871  2259.464111  1867.185425   \n2021-06-27                    1  1830.996948  1979.958130  1811.245850   \n2021-06-28                    0  1981.386475  2139.805420  1963.615479   \n\n                  Close       Volume  EmpiricalPriceTrend  \nDate                                                       \n2021-05-15  3638.122070  42422321751          -437.829590  \n2021-05-31  2714.945312  31007383150           327.746826  \n2021-06-01  2633.518311  27363223090           -74.042236  \n2021-06-14  2537.891113  26964576331            29.120605  \n2021-06-15  2610.936768  29005279219            23.174072  \n2021-06-21  1888.447510  33745173825          -356.870361  \n2021-06-27  1978.894653  19885474742           147.897705  \n2021-06-28  2079.657471  25514602841            98.270996  ",
      "text/html": "<div>\n<style scoped>\n    .dataframe tbody tr th:only-of-type {\n        vertical-align: middle;\n    }\n\n    .dataframe tbody tr th {\n        vertical-align: top;\n    }\n\n    .dataframe thead th {\n        text-align: right;\n    }\n</style>\n<table border=\"1\" class=\"dataframe\">\n  <thead>\n    <tr style=\"text-align: right;\">\n      <th></th>\n      <th>ETH_final_sentiment</th>\n      <th>Open</th>\n      <th>High</th>\n      <th>Low</th>\n      <th>Close</th>\n      <th>Volume</th>\n      <th>EmpiricalPriceTrend</th>\n    </tr>\n    <tr>\n      <th>Date</th>\n      <th></th>\n      <th></th>\n      <th></th>\n      <th></th>\n      <th></th>\n      <th></th>\n      <th></th>\n    </tr>\n  </thead>\n  <tbody>\n    <tr>\n      <th>2021-05-15</th>\n      <td>1</td>\n      <td>4075.951660</td>\n      <td>4129.185547</td>\n      <td>3638.122070</td>\n      <td>3638.122070</td>\n      <td>42422321751</td>\n      <td>-437.829590</td>\n    </tr>\n    <tr>\n      <th>2021-05-31</th>\n      <td>2</td>\n      <td>2387.198486</td>\n      <td>2715.854980</td>\n      <td>2279.505127</td>\n      <td>2714.945312</td>\n      <td>31007383150</td>\n      <td>327.746826</td>\n    </tr>\n    <tr>\n      <th>2021-06-01</th>\n      <td>-4</td>\n      <td>2707.560547</td>\n      <td>2739.737549</td>\n      <td>2531.160645</td>\n      <td>2633.518311</td>\n      <td>27363223090</td>\n      <td>-74.042236</td>\n    </tr>\n    <tr>\n      <th>2021-06-14</th>\n      <td>2</td>\n      <td>2508.770508</td>\n      <td>2606.432861</td>\n      <td>2469.388184</td>\n      <td>2537.891113</td>\n      <td>26964576331</td>\n      <td>29.120605</td>\n    </tr>\n    <tr>\n      <th>2021-06-15</th>\n      <td>7</td>\n      <td>2587.762695</td>\n      <td>2639.229248</td>\n      <td>2515.153076</td>\n      <td>2610.936768</td>\n      <td>29005279219</td>\n      <td>23.174072</td>\n    </tr>\n    <tr>\n      <th>2021-06-21</th>\n      <td>-1</td>\n      <td>2245.317871</td>\n      <td>2259.464111</td>\n      <td>1867.185425</td>\n      <td>1888.447510</td>\n      <td>33745173825</td>\n      <td>-356.870361</td>\n    </tr>\n    <tr>\n      <th>2021-06-27</th>\n      <td>1</td>\n      <td>1830.996948</td>\n      <td>1979.958130</td>\n      <td>1811.245850</td>\n      <td>1978.894653</td>\n      <td>19885474742</td>\n      <td>147.897705</td>\n    </tr>\n    <tr>\n      <th>2021-06-28</th>\n      <td>0</td>\n      <td>1981.386475</td>\n      <td>2139.805420</td>\n      <td>1963.615479</td>\n      <td>2079.657471</td>\n      <td>25514602841</td>\n      <td>98.270996</td>\n    </tr>\n  </tbody>\n</table>\n</div>"
     },
     "metadata": {}
    }
   ],
   "source": [
    "### ETH\n",
    "comparison_table_eth = pd.merge(eth_final_sentiment_by_date.to_frame(), eth_data, on = \"Date\")\n",
    "comparison_table_eth[\"EmpiricalPriceTrend\"] = eth_data[\"Close\"] - eth_data[\"Open\"]\n",
    "display(comparison_table_eth)"
   ]
  },
  {
   "cell_type": "code",
   "execution_count": null,
   "metadata": {},
   "outputs": [],
   "source": []
  }
 ]
}