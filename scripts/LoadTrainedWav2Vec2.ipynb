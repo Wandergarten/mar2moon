{
  "nbformat": 4,
  "nbformat_minor": 0,
  "metadata": {
    "colab": {
      "name": "LoadTrainedWav2Vec2.ipynb",
      "provenance": [],
      "mount_file_id": "1inkxRWVcyEf_891cGfLwyqbEU3vtPNP6",
      "authorship_tag": "ABX9TyMziz8O/+Mjr7+3xB37cpwV",
      "include_colab_link": true
    },
    "kernelspec": {
      "name": "python3",
      "display_name": "Python 3"
    },
    "language_info": {
      "name": "python"
    }
  },
  "cells": [
    {
      "cell_type": "markdown",
      "metadata": {
        "id": "view-in-github",
        "colab_type": "text"
      },
      "source": [
        "<a href=\"https://colab.research.google.com/github/distractedm1nd/mar2moon/blob/main/scripts/LoadTrainedWav2Vec2.ipynb\" target=\"_parent\"><img src=\"https://colab.research.google.com/assets/colab-badge.svg\" alt=\"Open In Colab\"/></a>"
      ]
    },
    {
      "cell_type": "code",
      "metadata": {
        "id": "aCR6hfEAHv7R"
      },
      "source": [
        "!pip install datasets==1.4.1\n",
        "!pip install transformers==4.4.0\n",
        "!pip install soundfile\n",
        "!pip install jiwer"
      ],
      "execution_count": null,
      "outputs": []
    },
    {
      "cell_type": "code",
      "metadata": {
        "colab": {
          "base_uri": "https://localhost:8080/"
        },
        "id": "XQP3EKApJjDk",
        "outputId": "bb30761c-94cb-4684-8ac6-a79ad63cd722"
      },
      "source": [
        "from transformers import Wav2Vec2Tokenizer, Wav2Vec2ForCTC\n",
        "from datasets import load_dataset\n",
        "import soundfile as sf\n",
        "import torch\n",
        "\n",
        "\n",
        "# load model and tokenizer\n",
        "tokenizer = Wav2Vec2Tokenizer.from_pretrained(\"distractedm1nd/wav2vec-en-finetuned-on-cryptocurrency\")\n",
        "model = Wav2Vec2ForCTC.from_pretrained(\"distractedm1nd/wav2vec-en-finetuned-on-cryptocurrency\")"
      ],
      "execution_count": 9,
      "outputs": [
        {
          "output_type": "stream",
          "text": [
            "/usr/local/lib/python3.7/dist-packages/transformers/models/wav2vec2/tokenization_wav2vec2.py:358: FutureWarning: The class `Wav2Vec2Tokenizer` is deprecated and will be removed in version 5 of Transformers. Please use `Wav2Vec2Processor` or `Wav2Vec2CTCTokenizer` instead.\n",
            "  FutureWarning,\n"
          ],
          "name": "stderr"
        }
      ]
    },
    {
      "cell_type": "markdown",
      "metadata": {
        "id": "GA0GoJ9TL2cy"
      },
      "source": [
        "## Inference\n",
        "\n",
        "#### NOTE\n",
        "Please remember to make sure that the audio file has a 16k sampling rate and only has a single channel!"
      ]
    },
    {
      "cell_type": "code",
      "metadata": {
        "colab": {
          "base_uri": "https://localhost:8080/"
        },
        "id": "v-FdLbnKKqUw",
        "outputId": "c9c36aa2-eb03-4c68-ac56-dfaa602ad112"
      },
      "source": [
        "filename = \"/content/drive/MyDrive/clips/3/Altcoin Daily_20210416_LEAKED! Rothschild Investment Corporation BUYING ETHEREUM _ Altcoins GOING CRAZY!! Hurry! MUST WATCH_126.wav\" #@param {type:\"string\"}\n",
        "audio, sampling_rate = sf.read(filename)\n",
        "\n",
        "input_values = tokenizer(audio, return_tensors=\"pt\", padding=\"longest\").input_values  # Batch size 1\n",
        "\n",
        "\n",
        "# retrieve logits\n",
        "logits = model(input_values).logits\n",
        "\n",
        "# take argmax and decode\n",
        "predicted_ids = torch.argmax(logits, dim=-1)\n",
        "tokenizer.batch_decode(predicted_ids)"
      ],
      "execution_count": 11,
      "outputs": [
        {
          "output_type": "execute_result",
          "data": {
            "text/plain": [
              "[\"YOU CAN BET YOU CAN BUY DOGECOIN BUT YOU CAN'T BET ON A BASEBALL GAME TODAY IN MASSACHUSETTS BUT YOU CAN BUY DOGECOIN ANYWHER\"]"
            ]
          },
          "metadata": {
            "tags": []
          },
          "execution_count": 11
        }
      ]
    }
  ]
}