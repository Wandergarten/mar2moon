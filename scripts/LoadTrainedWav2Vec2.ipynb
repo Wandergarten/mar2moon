{
  "nbformat": 4,
  "nbformat_minor": 0,
  "metadata": {
    "colab": {
      "name": "LoadTrainedWav2Vec2.ipynb",
      "provenance": [],
      "mount_file_id": "1inkxRWVcyEf_891cGfLwyqbEU3vtPNP6",
      "authorship_tag": "ABX9TyPjU3mMMuUsFtEF6ZEM/9Aj",
      "include_colab_link": true
    },
    "kernelspec": {
      "name": "python3",
      "display_name": "Python 3"
    },
    "language_info": {
      "name": "python"
    }
  },
  "cells": [
    {
      "cell_type": "markdown",
      "metadata": {
        "id": "view-in-github",
        "colab_type": "text"
      },
      "source": [
        "<a href=\"https://colab.research.google.com/github/distractedm1nd/mar2moon/blob/main/scripts/LoadTrainedWav2Vec2.ipynb\" target=\"_parent\"><img src=\"https://colab.research.google.com/assets/colab-badge.svg\" alt=\"Open In Colab\"/></a>"
      ]
    },
    {
      "cell_type": "code",
      "metadata": {
        "id": "aCR6hfEAHv7R"
      },
      "source": [
        "!pip install datasets==1.4.1\n",
        "!pip install transformers==4.4.0\n",
        "!pip install soundfile\n",
        "!pip install jiwer"
      ],
      "execution_count": null,
      "outputs": []
    },
    {
      "cell_type": "code",
      "metadata": {
        "id": "XQP3EKApJjDk"
      },
      "source": [
        "from transformers import Wav2Vec2Processor, Wav2Vec2ForCTC\n",
        "from datasets import load_dataset\n",
        "import soundfile as sf\n",
        "import torch\n",
        "\n",
        "\n",
        "# load model and tokenizer\n",
        "processor = Wav2Vec2Processor.from_pretrained(\"distractedm1nd/wav2vec-en-finetuned-on-cryptocurrency\")\n",
        "model = Wav2Vec2ForCTC.from_pretrained(\"distractedm1nd/wav2vec-en-finetuned-on-cryptocurrency\")"
      ],
      "execution_count": 18,
      "outputs": []
    },
    {
      "cell_type": "markdown",
      "metadata": {
        "id": "GA0GoJ9TL2cy"
      },
      "source": [
        "## Inference\n",
        "\n",
        "#### NOTE\n",
        "Please remember to make sure that the audio file has a 16k sampling rate and only has a single channel!"
      ]
    },
    {
      "cell_type": "code",
      "metadata": {
        "colab": {
          "base_uri": "https://localhost:8080/"
        },
        "id": "v-FdLbnKKqUw",
        "outputId": "ca690471-5552-41d7-dbbe-a1c4f0702355"
      },
      "source": [
        "filename = \"/content/drive/MyDrive/clips/3/Altcoin Daily_20210416_LEAKED! Rothschild Investment Corporation BUYING ETHEREUM _ Altcoins GOING CRAZY!! Hurry! MUST WATCH_126.wav\" #@param {type:\"string\"}\n",
        "audio, sampling_rate = sf.read(filename)\n",
        "\n",
        "input_values = processor(audio, return_tensors=\"pt\", padding=\"longest\", sampling_rate=sampling_rate).input_values  # Batch size 1\n",
        "\n",
        "\n",
        "# retrieve logits\n",
        "logits = model(input_values).logits\n",
        "\n",
        "# take argmax and decode\n",
        "predicted_ids = torch.argmax(logits, dim=-1)\n",
        "tokenizer.batch_decode(predicted_ids)"
      ],
      "execution_count": 19,
      "outputs": [
        {
          "output_type": "execute_result",
          "data": {
            "text/plain": [
              "[\"YOU CAN BET YOU CAN BUY DOGECOIN BUT YOU CAN'T BET ON A BASEBALL GAME TODAY IN MASSACHUSETTS BUT YOU CAN BUY DOGECOIN ANYWHER\"]"
            ]
          },
          "metadata": {
            "tags": []
          },
          "execution_count": 19
        }
      ]
    }
  ]
}